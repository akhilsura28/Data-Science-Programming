{
 "cells": [
  {
   "cell_type": "markdown",
   "id": "1d1eec09-9bc2-40b3-a380-fe4590c6f0ca",
   "metadata": {},
   "source": [
    "## Comparision of performance between Logistic regression model and Neural network models."
   ]
  },
  {
   "cell_type": "markdown",
   "id": "6f452513-270b-495b-be00-32b11a63e058",
   "metadata": {},
   "source": [
    "In this notebook we will import the data that was generated in WE04a-NN-Data-Gen notebook. Using this data set, I will fit the logistic regression and neural network model to analyse their performance."
   ]
  },
  {
   "cell_type": "markdown",
   "id": "375c34af-c58b-4939-87b6-d71fceb918d4",
   "metadata": {},
   "source": [
    "### Import modules and set random seed"
   ]
  },
  {
   "cell_type": "code",
   "execution_count": 1,
   "id": "ff12e98e-4368-4ae7-96e7-bc6b9a8f4a3a",
   "metadata": {},
   "outputs": [],
   "source": [
    "import matplotlib.pyplot as plt\n",
    "import numpy as np\n",
    "import pandas as pd\n",
    "from sklearn.linear_model import LogisticRegression\n",
    "from sklearn.model_selection import train_test_split, GridSearchCV, RandomizedSearchCV\n",
    "from sklearn.metrics import confusion_matrix\n",
    "from sklearn.metrics import f1_score, recall_score, precision_score, accuracy_score\n",
    "from sklearn.metrics import classification_report, confusion_matrix, ConfusionMatrixDisplay\n",
    "from sklearn.neural_network import MLPClassifier\n",
    "import collections\n",
    "\n",
    "np.random.seed(86089106)"
   ]
  },
  {
   "cell_type": "markdown",
   "id": "3eec9e7e-d15c-4bcf-bbb5-ec4c9bf5c1ee",
   "metadata": {},
   "source": [
    "### Load data from CSV file into dataframe"
   ]
  },
  {
   "cell_type": "code",
   "execution_count": 2,
   "id": "aab4f8a2-e64e-409b-92f3-9cd63914a720",
   "metadata": {},
   "outputs": [],
   "source": [
    "df = pd.read_csv('WE02_data_set.csv')"
   ]
  },
  {
   "cell_type": "markdown",
   "id": "3259b714-e12a-4de2-bb4d-2a05f36c2dc0",
   "metadata": {},
   "source": [
    "### Conduct an initial exploration of the data"
   ]
  },
  {
   "cell_type": "code",
   "execution_count": 3,
   "id": "b5ef02d6-3bdd-4ca4-8886-de0e76f9f965",
   "metadata": {},
   "outputs": [
    {
     "data": {
      "text/html": [
       "<div>\n",
       "<style scoped>\n",
       "    .dataframe tbody tr th:only-of-type {\n",
       "        vertical-align: middle;\n",
       "    }\n",
       "\n",
       "    .dataframe tbody tr th {\n",
       "        vertical-align: top;\n",
       "    }\n",
       "\n",
       "    .dataframe thead th {\n",
       "        text-align: right;\n",
       "    }\n",
       "</style>\n",
       "<table border=\"1\" class=\"dataframe\">\n",
       "  <thead>\n",
       "    <tr style=\"text-align: right;\">\n",
       "      <th></th>\n",
       "      <th>input</th>\n",
       "      <th>target</th>\n",
       "    </tr>\n",
       "  </thead>\n",
       "  <tbody>\n",
       "    <tr>\n",
       "      <th>0</th>\n",
       "      <td>50.336125</td>\n",
       "      <td>0</td>\n",
       "    </tr>\n",
       "    <tr>\n",
       "      <th>1</th>\n",
       "      <td>12.923572</td>\n",
       "      <td>0</td>\n",
       "    </tr>\n",
       "    <tr>\n",
       "      <th>2</th>\n",
       "      <td>56.343662</td>\n",
       "      <td>1</td>\n",
       "    </tr>\n",
       "    <tr>\n",
       "      <th>3</th>\n",
       "      <td>51.999947</td>\n",
       "      <td>0</td>\n",
       "    </tr>\n",
       "  </tbody>\n",
       "</table>\n",
       "</div>"
      ],
      "text/plain": [
       "       input  target\n",
       "0  50.336125       0\n",
       "1  12.923572       0\n",
       "2  56.343662       1\n",
       "3  51.999947       0"
      ]
     },
     "execution_count": 3,
     "metadata": {},
     "output_type": "execute_result"
    }
   ],
   "source": [
    "# displaying the first 4 rows of the dataframe\n",
    "df.head(4)"
   ]
  },
  {
   "cell_type": "code",
   "execution_count": 4,
   "id": "14faa688-ba5a-4179-9d58-42f7ead7e81e",
   "metadata": {},
   "outputs": [
    {
     "data": {
      "text/plain": [
       "(1000, 2)"
      ]
     },
     "execution_count": 4,
     "metadata": {},
     "output_type": "execute_result"
    }
   ],
   "source": [
    "# checking the dimension of the dataframe\n",
    "df.shape"
   ]
  },
  {
   "cell_type": "code",
   "execution_count": 5,
   "id": "5fff9851-dec7-4c2e-9104-002a5d837667",
   "metadata": {},
   "outputs": [
    {
     "data": {
      "text/plain": [
       "input     float64\n",
       "target      int64\n",
       "dtype: object"
      ]
     },
     "execution_count": 5,
     "metadata": {},
     "output_type": "execute_result"
    }
   ],
   "source": [
    "#checking the data types of the columns\n",
    "df.dtypes"
   ]
  },
  {
   "cell_type": "code",
   "execution_count": 6,
   "id": "474d68ac-7b7c-42ed-88bd-41e469f87c40",
   "metadata": {},
   "outputs": [
    {
     "data": {
      "text/html": [
       "<div>\n",
       "<style scoped>\n",
       "    .dataframe tbody tr th:only-of-type {\n",
       "        vertical-align: middle;\n",
       "    }\n",
       "\n",
       "    .dataframe tbody tr th {\n",
       "        vertical-align: top;\n",
       "    }\n",
       "\n",
       "    .dataframe thead th {\n",
       "        text-align: right;\n",
       "    }\n",
       "</style>\n",
       "<table border=\"1\" class=\"dataframe\">\n",
       "  <thead>\n",
       "    <tr style=\"text-align: right;\">\n",
       "      <th></th>\n",
       "      <th>input</th>\n",
       "      <th>target</th>\n",
       "    </tr>\n",
       "  </thead>\n",
       "  <tbody>\n",
       "    <tr>\n",
       "      <th>count</th>\n",
       "      <td>1000.000000</td>\n",
       "      <td>1000.000000</td>\n",
       "    </tr>\n",
       "    <tr>\n",
       "      <th>mean</th>\n",
       "      <td>53.748679</td>\n",
       "      <td>0.466000</td>\n",
       "    </tr>\n",
       "    <tr>\n",
       "      <th>std</th>\n",
       "      <td>25.658092</td>\n",
       "      <td>0.499092</td>\n",
       "    </tr>\n",
       "    <tr>\n",
       "      <th>min</th>\n",
       "      <td>6.358192</td>\n",
       "      <td>0.000000</td>\n",
       "    </tr>\n",
       "    <tr>\n",
       "      <th>25%</th>\n",
       "      <td>32.296775</td>\n",
       "      <td>0.000000</td>\n",
       "    </tr>\n",
       "    <tr>\n",
       "      <th>50%</th>\n",
       "      <td>52.238797</td>\n",
       "      <td>0.000000</td>\n",
       "    </tr>\n",
       "    <tr>\n",
       "      <th>75%</th>\n",
       "      <td>75.097647</td>\n",
       "      <td>1.000000</td>\n",
       "    </tr>\n",
       "    <tr>\n",
       "      <th>max</th>\n",
       "      <td>103.675457</td>\n",
       "      <td>1.000000</td>\n",
       "    </tr>\n",
       "  </tbody>\n",
       "</table>\n",
       "</div>"
      ],
      "text/plain": [
       "             input       target\n",
       "count  1000.000000  1000.000000\n",
       "mean     53.748679     0.466000\n",
       "std      25.658092     0.499092\n",
       "min       6.358192     0.000000\n",
       "25%      32.296775     0.000000\n",
       "50%      52.238797     0.000000\n",
       "75%      75.097647     1.000000\n",
       "max     103.675457     1.000000"
      ]
     },
     "execution_count": 6,
     "metadata": {},
     "output_type": "execute_result"
    }
   ],
   "source": [
    "# statistical summary of the data\n",
    "df.describe()"
   ]
  },
  {
   "cell_type": "code",
   "execution_count": 7,
   "id": "8d6bfc87-fdee-4488-9fb3-170641907572",
   "metadata": {},
   "outputs": [
    {
     "data": {
      "image/png": "[encoded data removed]",
      "text/plain": [
       "<Figure size 640x480 with 1 Axes>"
      ]
     },
     "metadata": {},
     "output_type": "display_data"
    }
   ],
   "source": [
    "# scatter plot of the data\n",
    "\n",
    "fig = plt.figure()\n",
    "ax = fig.add_subplot()\n",
    "colors = np.array([\"blue\", \"red\"])\n",
    "ax.scatter(df['input'], df['target'], c=colors[np.ravel(df['target'].astype(int))])\n",
    "ax.set_xlabel('Input')\n",
    "ax.set_ylabel('Target')\n",
    "plt.show()"
   ]
  },
  {
   "cell_type": "markdown",
   "id": "38ad47ec-304f-4eb7-be14-e5e6a6a4489e",
   "metadata": {},
   "source": [
    "### Splitting the data into train and test "
   ]
  },
  {
   "cell_type": "markdown",
   "id": "3469162c-5578-4f63-8202-8cc8438c0c58",
   "metadata": {},
   "source": [
    "#### To avoid overfitting, we will use a cross validation approach. This involves randoming splitting the data into a training and test dataset. We will use 75/25 here."
   ]
  },
  {
   "cell_type": "code",
   "execution_count": 8,
   "id": "d4c9bee8-d52b-4a1a-9ed9-84896f9afcdb",
   "metadata": {},
   "outputs": [],
   "source": [
    "X = df[['input']]\n",
    "y = df[['target']]\n",
    "\n",
    "X_train, X_test, y_train, y_test = train_test_split(X, y, test_size = 0.25, random_state =1)"
   ]
  },
  {
   "cell_type": "code",
   "execution_count": 9,
   "id": "a44f467c-9374-464a-8700-a08d7d949e2e",
   "metadata": {},
   "outputs": [],
   "source": [
    "# Creating a dataframe to store the results of the models\n",
    "performance = pd.DataFrame({\"model\": [], \"Accuracy\": [], \"Precision\": [], \"Recall\": [], \"F1\": []})"
   ]
  },
  {
   "cell_type": "markdown",
   "id": "7245daa2-0fe1-4ebc-b747-fc2e47abc231",
   "metadata": {},
   "source": [
    "### Fitting Logistic regression model"
   ]
  },
  {
   "cell_type": "code",
   "execution_count": 10,
   "id": "3efad44e-88a2-4385-bcf4-d2ce57ac0fa1",
   "metadata": {},
   "outputs": [],
   "source": [
    "log_reg = LogisticRegression().fit(X_train, np.ravel(y_train))\n",
    "_ = log_reg.fit(X_train, np.ravel(y_train))"
   ]
  },
  {
   "cell_type": "code",
   "execution_count": 11,
   "id": "e03ce9c6-3818-4c21-bc2d-13f4fdaa1eba",
   "metadata": {},
   "outputs": [
    {
     "name": "stdout",
     "output_type": "stream",
     "text": [
      "              precision    recall  f1-score   support\n",
      "\n",
      "           0     0.9776    0.9850    0.9813       133\n",
      "           1     0.9828    0.9744    0.9785       117\n",
      "\n",
      "    accuracy                         0.9800       250\n",
      "   macro avg     0.9802    0.9797    0.9799       250\n",
      "weighted avg     0.9800    0.9800    0.9800       250\n",
      "\n",
      "CPU times: user 9.29 ms, sys: 7.03 ms, total: 16.3 ms\n",
      "Wall time: 5.98 ms\n"
     ]
    }
   ],
   "source": [
    "%%time\n",
    "\n",
    "y_pred = log_reg.predict(X_test)\n",
    "print(classification_report(y_test, y_pred, digits=4))"
   ]
  },
  {
   "cell_type": "code",
   "execution_count": 12,
   "id": "e3728fad-d69e-4193-a252-8153f0443c3a",
   "metadata": {},
   "outputs": [
    {
     "name": "stdout",
     "output_type": "stream",
     "text": [
      "[('target', 1)]\n"
     ]
    },
    {
     "data": {
      "image/png": "[encoded data removed]",
      "text/plain": [
       "<Figure size 640x480 with 2 Axes>"
      ]
     },
     "metadata": {},
     "output_type": "display_data"
    }
   ],
   "source": [
    "# for reference, list the frequency of each digit found in the y_test data\n",
    "counts = sorted(collections.Counter(y_test).items(), key=lambda i: i[0])\n",
    "print(counts)\n",
    "\n",
    "# display the confusion matrix\n",
    "cm = confusion_matrix(y_test, y_pred)\n",
    "disp = ConfusionMatrixDisplay(confusion_matrix=cm)\n",
    "disp.plot(cmap=plt.cm.Blues)\n",
    "plt.show()"
   ]
  },
  {
   "cell_type": "code",
   "execution_count": 13,
   "id": "29b5f361-c705-4f27-9e7b-d22c26446594",
   "metadata": {},
   "outputs": [
    {
     "data": {
      "text/html": [
       "<div>\n",
       "<style scoped>\n",
       "    .dataframe tbody tr th:only-of-type {\n",
       "        vertical-align: middle;\n",
       "    }\n",
       "\n",
       "    .dataframe tbody tr th {\n",
       "        vertical-align: top;\n",
       "    }\n",
       "\n",
       "    .dataframe thead th {\n",
       "        text-align: right;\n",
       "    }\n",
       "</style>\n",
       "<table border=\"1\" class=\"dataframe\">\n",
       "  <thead>\n",
       "    <tr style=\"text-align: right;\">\n",
       "      <th></th>\n",
       "      <th>model</th>\n",
       "      <th>Accuracy</th>\n",
       "      <th>Precision</th>\n",
       "      <th>Recall</th>\n",
       "      <th>F1</th>\n",
       "    </tr>\n",
       "  </thead>\n",
       "  <tbody>\n",
       "    <tr>\n",
       "      <th>0</th>\n",
       "      <td>logistic regression</td>\n",
       "      <td>0.98</td>\n",
       "      <td>0.982759</td>\n",
       "      <td>0.974359</td>\n",
       "      <td>0.978541</td>\n",
       "    </tr>\n",
       "  </tbody>\n",
       "</table>\n",
       "</div>"
      ],
      "text/plain": [
       "                 model  Accuracy  Precision    Recall        F1\n",
       "0  logistic regression      0.98   0.982759  0.974359  0.978541"
      ]
     },
     "execution_count": 13,
     "metadata": {},
     "output_type": "execute_result"
    }
   ],
   "source": [
    "# Deriving and storing the metrics\n",
    "TP = cm[1][1]\n",
    "TN = cm[0][0]\n",
    "FP = cm[0][1]\n",
    "FN = cm[1][0]\n",
    "\n",
    "performance = pd.concat([performance, pd.DataFrame({'model':\"logistic regression\", \n",
    "                                                    'Accuracy': [(TP+TN)/(TP+TN+FP+FN)], \n",
    "                                                    'Precision': [TP/(TP+FP)], \n",
    "                                                    'Recall': [TP/(TP+FN)], \n",
    "                                                    'F1': [2*TP/(2*TP+FP+FN)]\n",
    "                                                     }, index=[0])])\n",
    "\n",
    "performance"
   ]
  },
  {
   "cell_type": "markdown",
   "id": "447cfdcf-9507-4539-bf62-2f3ecf71ecf7",
   "metadata": {},
   "source": [
    "### Neural network model (MLP Classifier)"
   ]
  },
  {
   "cell_type": "code",
   "execution_count": 14,
   "id": "7c8e4329-6435-46c4-895d-4e0a4985db1b",
   "metadata": {},
   "outputs": [
    {
     "name": "stdout",
     "output_type": "stream",
     "text": [
      "CPU times: user 1.71 s, sys: 2.74 s, total: 4.45 s\n",
      "Wall time: 615 ms\n"
     ]
    }
   ],
   "source": [
    "%%time\n",
    "\n",
    "ann = MLPClassifier(hidden_layer_sizes=(128,64,32), solver='adam', max_iter=200)\n",
    "_ = ann.fit(X_train, np.ravel(y_train))"
   ]
  },
  {
   "cell_type": "code",
   "execution_count": 15,
   "id": "8934d89b-dee0-4d9a-b35c-aad26d618323",
   "metadata": {},
   "outputs": [
    {
     "name": "stdout",
     "output_type": "stream",
     "text": [
      "              precision    recall  f1-score   support\n",
      "\n",
      "           0     0.9493    0.9850    0.9668       133\n",
      "           1     0.9821    0.9402    0.9607       117\n",
      "\n",
      "    accuracy                         0.9640       250\n",
      "   macro avg     0.9657    0.9626    0.9637       250\n",
      "weighted avg     0.9647    0.9640    0.9639       250\n",
      "\n",
      "CPU times: user 17.4 ms, sys: 21.6 ms, total: 39 ms\n",
      "Wall time: 14.1 ms\n"
     ]
    }
   ],
   "source": [
    "%%time\n",
    "y_pred = ann.predict(X_test)\n",
    "print(classification_report(y_test, y_pred, digits=4))"
   ]
  },
  {
   "cell_type": "code",
   "execution_count": 16,
   "id": "8e13a3c8-1d0b-4e0d-8a49-fb652d4019a3",
   "metadata": {},
   "outputs": [
    {
     "name": "stdout",
     "output_type": "stream",
     "text": [
      "[('target', 1)]\n"
     ]
    },
    {
     "data": {
      "image/png": "[encoded data removed]",
      "text/plain": [
       "<Figure size 640x480 with 2 Axes>"
      ]
     },
     "metadata": {},
     "output_type": "display_data"
    }
   ],
   "source": [
    "# for reference, list the frequency of each digit found in the y_test data\n",
    "counts = sorted(collections.Counter(y_test).items(), key=lambda i: i[0])\n",
    "print(counts)\n",
    "\n",
    "# display the confusion matrix\n",
    "cm = confusion_matrix(y_test, y_pred)\n",
    "disp = ConfusionMatrixDisplay(confusion_matrix=cm)\n",
    "disp.plot(cmap=plt.cm.Blues)\n",
    "plt.show()\n"
   ]
  },
  {
   "cell_type": "code",
   "execution_count": 17,
   "id": "a25760d0-2367-4003-8640-d63ddb2fb347",
   "metadata": {},
   "outputs": [
    {
     "data": {
      "text/html": [
       "<div>\n",
       "<style scoped>\n",
       "    .dataframe tbody tr th:only-of-type {\n",
       "        vertical-align: middle;\n",
       "    }\n",
       "\n",
       "    .dataframe tbody tr th {\n",
       "        vertical-align: top;\n",
       "    }\n",
       "\n",
       "    .dataframe thead th {\n",
       "        text-align: right;\n",
       "    }\n",
       "</style>\n",
       "<table border=\"1\" class=\"dataframe\">\n",
       "  <thead>\n",
       "    <tr style=\"text-align: right;\">\n",
       "      <th></th>\n",
       "      <th>model</th>\n",
       "      <th>Accuracy</th>\n",
       "      <th>Precision</th>\n",
       "      <th>Recall</th>\n",
       "      <th>F1</th>\n",
       "    </tr>\n",
       "  </thead>\n",
       "  <tbody>\n",
       "    <tr>\n",
       "      <th>0</th>\n",
       "      <td>logistic regression</td>\n",
       "      <td>0.980</td>\n",
       "      <td>0.982759</td>\n",
       "      <td>0.974359</td>\n",
       "      <td>0.978541</td>\n",
       "    </tr>\n",
       "    <tr>\n",
       "      <th>0</th>\n",
       "      <td>Neural network default</td>\n",
       "      <td>0.964</td>\n",
       "      <td>0.982143</td>\n",
       "      <td>0.940171</td>\n",
       "      <td>0.960699</td>\n",
       "    </tr>\n",
       "  </tbody>\n",
       "</table>\n",
       "</div>"
      ],
      "text/plain": [
       "                    model  Accuracy  Precision    Recall        F1\n",
       "0     logistic regression     0.980   0.982759  0.974359  0.978541\n",
       "0  Neural network default     0.964   0.982143  0.940171  0.960699"
      ]
     },
     "execution_count": 17,
     "metadata": {},
     "output_type": "execute_result"
    }
   ],
   "source": [
    "# Deriving and storing the metrics\n",
    "TP = cm[1][1]\n",
    "TN = cm[0][0]\n",
    "FP = cm[0][1]\n",
    "FN = cm[1][0]\n",
    "\n",
    "performance = pd.concat([performance, pd.DataFrame({'model':\"Neural network default\", \n",
    "                                                    'Accuracy': [(TP+TN)/(TP+TN+FP+FN)], \n",
    "                                                    'Precision': [TP/(TP+FP)], \n",
    "                                                    'Recall': [TP/(TP+FN)], \n",
    "                                                    'F1': [2*TP/(2*TP+FP+FN)]\n",
    "                                                     }, index=[0])])\n",
    "\n",
    "performance"
   ]
  },
  {
   "cell_type": "markdown",
   "id": "f08e9bab-bd1a-477d-b919-c796192c891d",
   "metadata": {},
   "source": [
    "### Neural network with RandomSearchCV "
   ]
  },
  {
   "cell_type": "code",
   "execution_count": 20,
   "id": "35186b13-fc8e-4e8d-b688-cee07edf10cb",
   "metadata": {},
   "outputs": [
    {
     "name": "stdout",
     "output_type": "stream",
     "text": [
      "{'solver': 'adam', 'max_iter': 9000, 'learning_rate_init': 0.0001, 'learning_rate': 'invscaling', 'hidden_layer_sizes': (64, 32), 'alpha': 0.1, 'activation': 'logistic'}\n",
      "CPU times: user 6.18 s, sys: 9.86 s, total: 16 s\n",
      "Wall time: 1min 40s\n"
     ]
    }
   ],
   "source": [
    "%%time\n",
    "\n",
    "score_measure = \"accuracy\"\n",
    "kfolds = 4\n",
    "\n",
    "param_grid = {\n",
    "    'hidden_layer_sizes': [ (32,), (64,), (32,16), (64,32)],\n",
    "    'activation': ['logistic', 'tanh', 'relu'],\n",
    "    'solver': ['adam', 'sgd'],\n",
    "    'alpha': [0.1, .2, .5, .7, 1],\n",
    "    'learning_rate': ['constant', 'invscaling', 'adaptive'],\n",
    "    'learning_rate_init': [0.0001, 0.001, 0.01],\n",
    "    'max_iter': [9000]\n",
    "}\n",
    "\n",
    "\n",
    "ann = MLPClassifier(random_state=1)\n",
    "rand_search = RandomizedSearchCV(\n",
    "    estimator = ann,                    # the model to use\n",
    "    param_distributions=param_grid,     # the parameter grid\n",
    "    cv=kfolds,                      # number of folds\n",
    "    n_iter=200,                     # number of iterations; this is the number of parameter settings that are sampled\n",
    "    scoring=score_measure,          # score measure used to evaluate parameter combinations\n",
    "    verbose=0,                      # verbose level; the higher, the more messages. 0 for no messages\n",
    "    n_jobs=-1,                      # number of parallel jobs to run >> n_jobs=-1 will utilize all available CPUs \n",
    "    random_state=1                  # random state ensures that the splits are the same for each iteration\n",
    ")\n",
    "\n",
    "rand_search.fit(X_train, np.ravel(y_train))\n",
    "\n",
    "bestMLPClassifier = rand_search.best_estimator_\n",
    "\n",
    "print(rand_search.best_params_)"
   ]
  },
  {
   "cell_type": "code",
   "execution_count": 22,
   "id": "11ab556d-2524-4e7d-a98a-ec34692deb1b",
   "metadata": {},
   "outputs": [
    {
     "name": "stdout",
     "output_type": "stream",
     "text": [
      "              precision    recall  f1-score   support\n",
      "\n",
      "           0     0.9776    0.9850    0.9813       133\n",
      "           1     0.9828    0.9744    0.9785       117\n",
      "\n",
      "    accuracy                         0.9800       250\n",
      "   macro avg     0.9802    0.9797    0.9799       250\n",
      "weighted avg     0.9800    0.9800    0.9800       250\n",
      "\n",
      "CPU times: user 19 ms, sys: 28.6 ms, total: 47.6 ms\n",
      "Wall time: 16 ms\n"
     ]
    }
   ],
   "source": [
    "%%time\n",
    "y_pred = bestMLPClassifier.predict(X_test)\n",
    "print(classification_report(y_test, y_pred, digits=4))"
   ]
  },
  {
   "cell_type": "code",
   "execution_count": 23,
   "id": "02624225-9ff6-456e-b7bd-842518e9ed94",
   "metadata": {},
   "outputs": [
    {
     "name": "stdout",
     "output_type": "stream",
     "text": [
      "[('target', 1)]\n"
     ]
    },
    {
     "data": {
      "image/png": "[encoded data removed]",
      "text/plain": [
       "<Figure size 640x480 with 2 Axes>"
      ]
     },
     "metadata": {},
     "output_type": "display_data"
    }
   ],
   "source": [
    "# for reference, list the frequency of each digit found in the y_test data\n",
    "counts = sorted(collections.Counter(y_test).items(), key=lambda i: i[0])\n",
    "print(counts)\n",
    "\n",
    "# display the confusion matrix\n",
    "cm = confusion_matrix(y_test, y_pred)\n",
    "disp = ConfusionMatrixDisplay(confusion_matrix=cm)\n",
    "disp.plot(cmap=plt.cm.Blues)\n",
    "plt.show()\n"
   ]
  },
  {
   "cell_type": "code",
   "execution_count": 24,
   "id": "6c332cb6-d9d4-43fa-b2cd-97683e49e47b",
   "metadata": {},
   "outputs": [
    {
     "data": {
      "text/html": [
       "<div>\n",
       "<style scoped>\n",
       "    .dataframe tbody tr th:only-of-type {\n",
       "        vertical-align: middle;\n",
       "    }\n",
       "\n",
       "    .dataframe tbody tr th {\n",
       "        vertical-align: top;\n",
       "    }\n",
       "\n",
       "    .dataframe thead th {\n",
       "        text-align: right;\n",
       "    }\n",
       "</style>\n",
       "<table border=\"1\" class=\"dataframe\">\n",
       "  <thead>\n",
       "    <tr style=\"text-align: right;\">\n",
       "      <th></th>\n",
       "      <th>model</th>\n",
       "      <th>Accuracy</th>\n",
       "      <th>Precision</th>\n",
       "      <th>Recall</th>\n",
       "      <th>F1</th>\n",
       "    </tr>\n",
       "  </thead>\n",
       "  <tbody>\n",
       "    <tr>\n",
       "      <th>0</th>\n",
       "      <td>logistic regression</td>\n",
       "      <td>0.980</td>\n",
       "      <td>0.982759</td>\n",
       "      <td>0.974359</td>\n",
       "      <td>0.978541</td>\n",
       "    </tr>\n",
       "    <tr>\n",
       "      <th>0</th>\n",
       "      <td>Neural network default</td>\n",
       "      <td>0.964</td>\n",
       "      <td>0.982143</td>\n",
       "      <td>0.940171</td>\n",
       "      <td>0.960699</td>\n",
       "    </tr>\n",
       "    <tr>\n",
       "      <th>0</th>\n",
       "      <td>Neural network RandomSearchCV</td>\n",
       "      <td>0.980</td>\n",
       "      <td>0.982759</td>\n",
       "      <td>0.974359</td>\n",
       "      <td>0.978541</td>\n",
       "    </tr>\n",
       "  </tbody>\n",
       "</table>\n",
       "</div>"
      ],
      "text/plain": [
       "                           model  Accuracy  Precision    Recall        F1\n",
       "0            logistic regression     0.980   0.982759  0.974359  0.978541\n",
       "0         Neural network default     0.964   0.982143  0.940171  0.960699\n",
       "0  Neural network RandomSearchCV     0.980   0.982759  0.974359  0.978541"
      ]
     },
     "execution_count": 24,
     "metadata": {},
     "output_type": "execute_result"
    }
   ],
   "source": [
    "# Deriving and storing the metrics\n",
    "TP = cm[1][1]\n",
    "TN = cm[0][0]\n",
    "FP = cm[0][1]\n",
    "FN = cm[1][0]\n",
    "\n",
    "performance = pd.concat([performance, pd.DataFrame({'model':\"Neural network RandomSearchCV\", \n",
    "                                                    'Accuracy': [(TP+TN)/(TP+TN+FP+FN)], \n",
    "                                                    'Precision': [TP/(TP+FP)], \n",
    "                                                    'Recall': [TP/(TP+FN)], \n",
    "                                                    'F1': [2*TP/(2*TP+FP+FN)]\n",
    "                                                     }, index=[0])])\n",
    "\n",
    "performance"
   ]
  },
  {
   "cell_type": "markdown",
   "id": "7fb6e5c5-4d8d-4cfd-b1ec-4cc44aefa220",
   "metadata": {},
   "source": [
    "### With GridSearchCV"
   ]
  },
  {
   "cell_type": "code",
   "execution_count": 27,
   "id": "08f045e7-9109-4396-8835-1f84ce288120",
   "metadata": {},
   "outputs": [
    {
     "name": "stdout",
     "output_type": "stream",
     "text": [
      "{'activation': 'logistic', 'alpha': 0.1, 'hidden_layer_sizes': (125, 61), 'learning_rate': 'invscaling', 'learning_rate_init': 0.0006000000000000001, 'max_iter': 5000, 'solver': 'adam'}\n",
      "CPU times: user 5.03 s, sys: 6.18 s, total: 11.2 s\n",
      "Wall time: 12min 19s\n"
     ]
    }
   ],
   "source": [
    "%%time\n",
    "\n",
    "score_measure = \"accuracy\"\n",
    "kfolds = 4\n",
    "\n",
    "activation = rand_search.best_params_['activation']\n",
    "solver = rand_search.best_params_['solver']\n",
    "alpha = rand_search.best_params_['alpha']\n",
    "learning_rate = rand_search.best_params_['learning_rate']\n",
    "learning_rate_init = rand_search.best_params_['learning_rate_init']\n",
    "max_iter = rand_search.best_params_['max_iter']\n",
    "\n",
    "param_grid = {\n",
    "    'hidden_layer_sizes': [ (127,63), (126,62), (125,61), (124,60), (129,65), (130,66,), (131,67)],\n",
    "    'activation': [activation],\n",
    "    'solver': [solver],\n",
    "    'alpha': [alpha-0.1, alpha, alpha+0.1, alpha+0.2, alpha+0.3, alpha+0.4, alpha+0.5, alpha+0.6, alpha+0.7, alpha+0.8, alpha+0.9],\n",
    "    'learning_rate': [learning_rate],\n",
    "    'learning_rate_init': [learning_rate_init-0.00009, learning_rate_init, learning_rate_init+0.0005],\n",
    "    'max_iter': [5000]\n",
    "}\n",
    "\n",
    "ann = MLPClassifier(random_state=0)\n",
    "grid_search = GridSearchCV(\n",
    "    estimator = ann,        # the model that will be evaluated\n",
    "    param_grid=param_grid,  # the dictionary of hyperparameters\n",
    "    cv=kfolds,              # number of folds to use for k-fold cross validation\n",
    "    scoring=score_measure,  # the scoring metric to optimize for\n",
    "    verbose=0,              # controls the amount of diagnostic information displayed, 0 means none\n",
    "    n_jobs=-1,              # Number of similtaneous threads to run to accomplish this n_jobs=-1 will utilize all available CPUs \n",
    ")\n",
    "grid_search.fit(X_train, np.ravel(y_train))\n",
    "\n",
    "bestMLPClassifier = grid_search.best_estimator_\n",
    "\n",
    "print(grid_search.best_params_)"
   ]
  },
  {
   "cell_type": "code",
   "execution_count": 28,
   "id": "1065e08c-a972-45f8-b6a8-4ed5ffefbe06",
   "metadata": {},
   "outputs": [
    {
     "name": "stdout",
     "output_type": "stream",
     "text": [
      "              precision    recall  f1-score   support\n",
      "\n",
      "           0     0.9776    0.9850    0.9813       133\n",
      "           1     0.9828    0.9744    0.9785       117\n",
      "\n",
      "    accuracy                         0.9800       250\n",
      "   macro avg     0.9802    0.9797    0.9799       250\n",
      "weighted avg     0.9800    0.9800    0.9800       250\n",
      "\n",
      "CPU times: user 18.6 ms, sys: 23.4 ms, total: 42 ms\n",
      "Wall time: 18.2 ms\n"
     ]
    }
   ],
   "source": [
    "%%time\n",
    "y_pred = bestMLPClassifier.predict(X_test)\n",
    "print(classification_report(y_test, y_pred, digits=4))"
   ]
  },
  {
   "cell_type": "code",
   "execution_count": 29,
   "id": "18ab571e-3cbe-4bef-8c4a-1006189535ef",
   "metadata": {},
   "outputs": [
    {
     "name": "stdout",
     "output_type": "stream",
     "text": [
      "[('target', 1)]\n"
     ]
    },
    {
     "data": {
      "image/png": "[encoded data removed]",
      "text/plain": [
       "<Figure size 640x480 with 2 Axes>"
      ]
     },
     "metadata": {},
     "output_type": "display_data"
    }
   ],
   "source": [
    "# for reference, list the frequency of each digit found in the y_test data\n",
    "counts = sorted(collections.Counter(y_test).items(), key=lambda i: i[0])\n",
    "print(counts)\n",
    "\n",
    "# display the confusion matrix\n",
    "cm = confusion_matrix(y_test, y_pred)\n",
    "disp = ConfusionMatrixDisplay(confusion_matrix=cm)\n",
    "disp.plot(cmap=plt.cm.Blues)\n",
    "plt.show()\n"
   ]
  },
  {
   "cell_type": "code",
   "execution_count": 30,
   "id": "12bb84d3-5e29-4541-9713-b9b157a098fa",
   "metadata": {},
   "outputs": [
    {
     "data": {
      "text/html": [
       "<div>\n",
       "<style scoped>\n",
       "    .dataframe tbody tr th:only-of-type {\n",
       "        vertical-align: middle;\n",
       "    }\n",
       "\n",
       "    .dataframe tbody tr th {\n",
       "        vertical-align: top;\n",
       "    }\n",
       "\n",
       "    .dataframe thead th {\n",
       "        text-align: right;\n",
       "    }\n",
       "</style>\n",
       "<table border=\"1\" class=\"dataframe\">\n",
       "  <thead>\n",
       "    <tr style=\"text-align: right;\">\n",
       "      <th></th>\n",
       "      <th>model</th>\n",
       "      <th>Accuracy</th>\n",
       "      <th>Precision</th>\n",
       "      <th>Recall</th>\n",
       "      <th>F1</th>\n",
       "    </tr>\n",
       "  </thead>\n",
       "  <tbody>\n",
       "    <tr>\n",
       "      <th>0</th>\n",
       "      <td>logistic regression</td>\n",
       "      <td>0.980</td>\n",
       "      <td>0.982759</td>\n",
       "      <td>0.974359</td>\n",
       "      <td>0.978541</td>\n",
       "    </tr>\n",
       "    <tr>\n",
       "      <th>0</th>\n",
       "      <td>Neural network default</td>\n",
       "      <td>0.964</td>\n",
       "      <td>0.982143</td>\n",
       "      <td>0.940171</td>\n",
       "      <td>0.960699</td>\n",
       "    </tr>\n",
       "    <tr>\n",
       "      <th>0</th>\n",
       "      <td>Neural network RandomSearchCV</td>\n",
       "      <td>0.980</td>\n",
       "      <td>0.982759</td>\n",
       "      <td>0.974359</td>\n",
       "      <td>0.978541</td>\n",
       "    </tr>\n",
       "    <tr>\n",
       "      <th>0</th>\n",
       "      <td>Neural network GridSearchCV</td>\n",
       "      <td>0.980</td>\n",
       "      <td>0.982759</td>\n",
       "      <td>0.974359</td>\n",
       "      <td>0.978541</td>\n",
       "    </tr>\n",
       "  </tbody>\n",
       "</table>\n",
       "</div>"
      ],
      "text/plain": [
       "                           model  Accuracy  Precision    Recall        F1\n",
       "0            logistic regression     0.980   0.982759  0.974359  0.978541\n",
       "0         Neural network default     0.964   0.982143  0.940171  0.960699\n",
       "0  Neural network RandomSearchCV     0.980   0.982759  0.974359  0.978541\n",
       "0    Neural network GridSearchCV     0.980   0.982759  0.974359  0.978541"
      ]
     },
     "execution_count": 30,
     "metadata": {},
     "output_type": "execute_result"
    }
   ],
   "source": [
    "# Deriving and storing the metrics\n",
    "TP = cm[1][1]\n",
    "TN = cm[0][0]\n",
    "FP = cm[0][1]\n",
    "FN = cm[1][0]\n",
    "\n",
    "performance = pd.concat([performance, pd.DataFrame({'model':\"Neural network GridSearchCV\", \n",
    "                                                    'Accuracy': [(TP+TN)/(TP+TN+FP+FN)], \n",
    "                                                    'Precision': [TP/(TP+FP)], \n",
    "                                                    'Recall': [TP/(TP+FN)], \n",
    "                                                    'F1': [2*TP/(2*TP+FP+FN)]\n",
    "                                                     }, index=[0])])\n",
    "\n",
    "performance"
   ]
  },
  {
   "cell_type": "markdown",
   "id": "0ea2079d-670b-4265-a7ca-ca517e28fcff",
   "metadata": {},
   "source": [
    "### Conclusion\n",
    "\n",
    "\n",
    "Based on the above performance metrics, let's discuss the performance of the above models:\n",
    "\n",
    "1. Logistic Regression:\n",
    "\n",
    "   Logistic regression achieved a high accuracy of 0.980, indicating that it correctly predicted 98% of the samples. The precision of 0.982759 suggests that when it predicted a positive outcome, it was correct 98.28% of the time. The recall of 0.974359 indicates that it identified 97.44% of the positive samples correctly. The F1-Score, which considers both precision and recall, is 0.978541. Overall, these results indicate that logistic regression performed very well, with high accuracy and balanced precision and recall.\n",
    "\n",
    "2. Neural Network (Default):\n",
    "\n",
    "   The default neural network achieved an accuracy of 0.964, which is slightly lower than logistic regression. The precision of 0.982143 suggests that it had a high rate of correctly identifying positive samples. However, the recall of 0.940171 indicates that it missed identifying some positive samples. The F1-Score of 0.960699 considers both precision and recall, showing a balanced performance but slightly lower than logistic regression.\n",
    "\n",
    "3. Neural Network (RandomSearchCV):\n",
    "\n",
    "   The neural network trained with RandomSearchCV achieved the same performance metrics as logistic regression, which is impressive. It attained an accuracy of 0.980, similar precision and recall values, and an F1-Score of 0.978541. This indicates that the random search for hyperparameter optimization resulted in a neural network model that performed equally well as the logistic regression model.\n",
    "\n",
    "4. Neural Network (GridSearchCV):\n",
    "\n",
    "   The neural network trained with GridSearchCV upon the RandomSearchCV also achieved the same performance metrics as both logistic regression and the neural network with RandomSearchCV. It obtained an accuracy of 0.980, precision and recall values matching those of the other models, and an F1-Score of 0.978541. This implies that the grid search for hyperparameter optimization did not yield significant improvement to the neural network with RandomSearchCV model.\n",
    "\n",
    "Overall, logistic regression and the neural network models (with both random and grid search hyperparameter tuning) performed exceptionally well, with high accuracy, precision, recall, and F1-Scores. The neural network models achieved performance on par with logistic regression, indicating their ability to learn complex patterns and generalize to unseen data. However Neural networks also consumed lot of time to come up with results. The choice between these models would depend on various factors such as interpretability, computational complexity, and specific requirements of the problem at hand. Since the modelling in done with the use of synthetic data, I cannot evaluate the costs associated with false positives and false negatives. "
   ]
  }
 ],
 "metadata": {
  "kernelspec": {
   "display_name": "Python 3 (ipykernel)",
   "language": "python",
   "name": "python3"
  },
  "language_info": {
   "codemirror_mode": {
    "name": "ipython",
    "version": 3
   },
   "file_extension": ".py",
   "mimetype": "text/x-python",
   "name": "python",
   "nbconvert_exporter": "python",
   "pygments_lexer": "ipython3",
   "version": "3.9.16"
  }
 },
 "nbformat": 4,
 "nbformat_minor": 5
}
