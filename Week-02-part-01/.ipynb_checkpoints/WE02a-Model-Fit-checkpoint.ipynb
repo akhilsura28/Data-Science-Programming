{
 "cells": [
  {
   "cell_type": "markdown",
   "id": "1d1eec09-9bc2-40b3-a380-fe4590c6f0ca",
   "metadata": {},
   "source": [
    "## For the model fitting notebook: Fit a logistic regression model to the data, and evaluate the resulting performance of this model (use the confusion matrix and associated metrics). Add a section at the end of the notebook and discuss how well the model performed on the test data."
   ]
  },
  {
   "cell_type": "markdown",
   "id": "375c34af-c58b-4939-87b6-d71fceb918d4",
   "metadata": {},
   "source": [
    "### Import modules and set random seed"
   ]
  },
  {
   "cell_type": "code",
   "execution_count": 1,
   "id": "ff12e98e-4368-4ae7-96e7-bc6b9a8f4a3a",
   "metadata": {},
   "outputs": [],
   "source": [
    "import matplotlib.pyplot as plt\n",
    "import numpy as np\n",
    "import pandas as pd\n",
    "from sklearn.linear_model import LogisticRegression\n",
    "from sklearn.model_selection import train_test_split\n",
    "from sklearn.metrics import confusion_matrix\n",
    "import pickle\n",
    "\n",
    "np.random.seed(2)"
   ]
  },
  {
   "cell_type": "markdown",
   "id": "3eec9e7e-d15c-4bcf-bbb5-ec4c9bf5c1ee",
   "metadata": {},
   "source": [
    "### Load data from CSV file into dataframe"
   ]
  },
  {
   "cell_type": "code",
   "execution_count": 2,
   "id": "aab4f8a2-e64e-409b-92f3-9cd63914a720",
   "metadata": {},
   "outputs": [],
   "source": [
    "df = pd.read_csv('WE02_data_set.csv')"
   ]
  },
  {
   "cell_type": "markdown",
   "id": "3259b714-e12a-4de2-bb4d-2a05f36c2dc0",
   "metadata": {},
   "source": [
    "### Conduct an initial exploration of the data"
   ]
  },
  {
   "cell_type": "code",
   "execution_count": 3,
   "id": "b5ef02d6-3bdd-4ca4-8886-de0e76f9f965",
   "metadata": {},
   "outputs": [
    {
     "data": {
      "text/html": [
       "<div>\n",
       "<style scoped>\n",
       "    .dataframe tbody tr th:only-of-type {\n",
       "        vertical-align: middle;\n",
       "    }\n",
       "\n",
       "    .dataframe tbody tr th {\n",
       "        vertical-align: top;\n",
       "    }\n",
       "\n",
       "    .dataframe thead th {\n",
       "        text-align: right;\n",
       "    }\n",
       "</style>\n",
       "<table border=\"1\" class=\"dataframe\">\n",
       "  <thead>\n",
       "    <tr style=\"text-align: right;\">\n",
       "      <th></th>\n",
       "      <th>input</th>\n",
       "      <th>target</th>\n",
       "    </tr>\n",
       "  </thead>\n",
       "  <tbody>\n",
       "    <tr>\n",
       "      <th>0</th>\n",
       "      <td>50.336125</td>\n",
       "      <td>0</td>\n",
       "    </tr>\n",
       "    <tr>\n",
       "      <th>1</th>\n",
       "      <td>12.923572</td>\n",
       "      <td>0</td>\n",
       "    </tr>\n",
       "    <tr>\n",
       "      <th>2</th>\n",
       "      <td>56.343662</td>\n",
       "      <td>1</td>\n",
       "    </tr>\n",
       "    <tr>\n",
       "      <th>3</th>\n",
       "      <td>51.999947</td>\n",
       "      <td>0</td>\n",
       "    </tr>\n",
       "  </tbody>\n",
       "</table>\n",
       "</div>"
      ],
      "text/plain": [
       "       input  target\n",
       "0  50.336125       0\n",
       "1  12.923572       0\n",
       "2  56.343662       1\n",
       "3  51.999947       0"
      ]
     },
     "execution_count": 3,
     "metadata": {},
     "output_type": "execute_result"
    }
   ],
   "source": [
    "df.head(4)"
   ]
  },
  {
   "cell_type": "code",
   "execution_count": 4,
   "id": "14faa688-ba5a-4179-9d58-42f7ead7e81e",
   "metadata": {},
   "outputs": [
    {
     "data": {
      "text/plain": [
       "(1000, 2)"
      ]
     },
     "execution_count": 4,
     "metadata": {},
     "output_type": "execute_result"
    }
   ],
   "source": [
    "df.shape"
   ]
  },
  {
   "cell_type": "code",
   "execution_count": 5,
   "id": "8d6bfc87-fdee-4488-9fb3-170641907572",
   "metadata": {},
   "outputs": [
    {
     "data": {
      "image/png": "[encoded data removed]",
      "text/plain": [
       "<Figure size 640x480 with 1 Axes>"
      ]
     },
     "metadata": {},
     "output_type": "display_data"
    }
   ],
   "source": [
    "# scatter plot of the data\n",
    "\n",
    "fig = plt.figure()\n",
    "ax = fig.add_subplot()\n",
    "colors = np.array([\"blue\", \"red\"])\n",
    "ax.scatter(df['input'], df['target'], c=colors[np.ravel(df['target'].astype(int))])\n",
    "ax.set_xlabel('Input')\n",
    "ax.set_ylabel('Target')\n",
    "plt.show()"
   ]
  },
  {
   "cell_type": "code",
   "execution_count": 6,
   "id": "474d68ac-7b7c-42ed-88bd-41e469f87c40",
   "metadata": {},
   "outputs": [
    {
     "data": {
      "text/html": [
       "<div>\n",
       "<style scoped>\n",
       "    .dataframe tbody tr th:only-of-type {\n",
       "        vertical-align: middle;\n",
       "    }\n",
       "\n",
       "    .dataframe tbody tr th {\n",
       "        vertical-align: top;\n",
       "    }\n",
       "\n",
       "    .dataframe thead th {\n",
       "        text-align: right;\n",
       "    }\n",
       "</style>\n",
       "<table border=\"1\" class=\"dataframe\">\n",
       "  <thead>\n",
       "    <tr style=\"text-align: right;\">\n",
       "      <th></th>\n",
       "      <th>input</th>\n",
       "      <th>target</th>\n",
       "    </tr>\n",
       "  </thead>\n",
       "  <tbody>\n",
       "    <tr>\n",
       "      <th>count</th>\n",
       "      <td>1000.000000</td>\n",
       "      <td>1000.000000</td>\n",
       "    </tr>\n",
       "    <tr>\n",
       "      <th>mean</th>\n",
       "      <td>53.748679</td>\n",
       "      <td>0.466000</td>\n",
       "    </tr>\n",
       "    <tr>\n",
       "      <th>std</th>\n",
       "      <td>25.658092</td>\n",
       "      <td>0.499092</td>\n",
       "    </tr>\n",
       "    <tr>\n",
       "      <th>min</th>\n",
       "      <td>6.358192</td>\n",
       "      <td>0.000000</td>\n",
       "    </tr>\n",
       "    <tr>\n",
       "      <th>25%</th>\n",
       "      <td>32.296775</td>\n",
       "      <td>0.000000</td>\n",
       "    </tr>\n",
       "    <tr>\n",
       "      <th>50%</th>\n",
       "      <td>52.238797</td>\n",
       "      <td>0.000000</td>\n",
       "    </tr>\n",
       "    <tr>\n",
       "      <th>75%</th>\n",
       "      <td>75.097647</td>\n",
       "      <td>1.000000</td>\n",
       "    </tr>\n",
       "    <tr>\n",
       "      <th>max</th>\n",
       "      <td>103.675457</td>\n",
       "      <td>1.000000</td>\n",
       "    </tr>\n",
       "  </tbody>\n",
       "</table>\n",
       "</div>"
      ],
      "text/plain": [
       "             input       target\n",
       "count  1000.000000  1000.000000\n",
       "mean     53.748679     0.466000\n",
       "std      25.658092     0.499092\n",
       "min       6.358192     0.000000\n",
       "25%      32.296775     0.000000\n",
       "50%      52.238797     0.000000\n",
       "75%      75.097647     1.000000\n",
       "max     103.675457     1.000000"
      ]
     },
     "execution_count": 6,
     "metadata": {},
     "output_type": "execute_result"
    }
   ],
   "source": [
    "df.describe()"
   ]
  },
  {
   "cell_type": "markdown",
   "id": "38ad47ec-304f-4eb7-be14-e5e6a6a4489e",
   "metadata": {},
   "source": [
    "### Creating the logistic model that can best fit the data"
   ]
  },
  {
   "cell_type": "markdown",
   "id": "3469162c-5578-4f63-8202-8cc8438c0c58",
   "metadata": {},
   "source": [
    "#### To avoid overfitting, we will use a cross validation approach. This involves randoming splitting the data into a training and test dataset. We will use 75/25 here."
   ]
  },
  {
   "cell_type": "code",
   "execution_count": 7,
   "id": "d4c9bee8-d52b-4a1a-9ed9-84896f9afcdb",
   "metadata": {},
   "outputs": [],
   "source": [
    "X = df[['input']]\n",
    "y = df[['target']]\n",
    "\n",
    "X_train, X_test, y_train, y_test = train_test_split(X, y, test_size = 0.25, random_state =1)"
   ]
  },
  {
   "cell_type": "markdown",
   "id": "84c6392e-6212-447d-ac01-8c8645764d99",
   "metadata": {},
   "source": [
    "### Let's save the test and training data to csv files (we may want to use these later)"
   ]
  },
  {
   "cell_type": "code",
   "execution_count": 8,
   "id": "0e858fb3-156a-4292-a9ba-d34f4ec728e7",
   "metadata": {
    "tags": []
   },
   "outputs": [],
   "source": [
    "trainData = X_train.copy()\n",
    "trainData['target'] = y_train"
   ]
  },
  {
   "cell_type": "code",
   "execution_count": 9,
   "id": "739fccb9-4613-41ef-9a12-3cb3b48b4825",
   "metadata": {},
   "outputs": [
    {
     "data": {
      "text/html": [
       "<div>\n",
       "<style scoped>\n",
       "    .dataframe tbody tr th:only-of-type {\n",
       "        vertical-align: middle;\n",
       "    }\n",
       "\n",
       "    .dataframe tbody tr th {\n",
       "        vertical-align: top;\n",
       "    }\n",
       "\n",
       "    .dataframe thead th {\n",
       "        text-align: right;\n",
       "    }\n",
       "</style>\n",
       "<table border=\"1\" class=\"dataframe\">\n",
       "  <thead>\n",
       "    <tr style=\"text-align: right;\">\n",
       "      <th></th>\n",
       "      <th>input</th>\n",
       "      <th>target</th>\n",
       "    </tr>\n",
       "  </thead>\n",
       "  <tbody>\n",
       "    <tr>\n",
       "      <th>298</th>\n",
       "      <td>9.965751</td>\n",
       "      <td>0</td>\n",
       "    </tr>\n",
       "    <tr>\n",
       "      <th>160</th>\n",
       "      <td>84.558547</td>\n",
       "      <td>1</td>\n",
       "    </tr>\n",
       "    <tr>\n",
       "      <th>268</th>\n",
       "      <td>71.927583</td>\n",
       "      <td>1</td>\n",
       "    </tr>\n",
       "    <tr>\n",
       "      <th>658</th>\n",
       "      <td>36.654420</td>\n",
       "      <td>0</td>\n",
       "    </tr>\n",
       "  </tbody>\n",
       "</table>\n",
       "</div>"
      ],
      "text/plain": [
       "         input  target\n",
       "298   9.965751       0\n",
       "160  84.558547       1\n",
       "268  71.927583       1\n",
       "658  36.654420       0"
      ]
     },
     "execution_count": 9,
     "metadata": {},
     "output_type": "execute_result"
    }
   ],
   "source": [
    "trainData.head(4)"
   ]
  },
  {
   "cell_type": "code",
   "execution_count": 10,
   "id": "b0fbf910-74db-42f3-b486-36de937c1246",
   "metadata": {},
   "outputs": [],
   "source": [
    "trainData.to_csv('WE02_train_data_set.csv', index = False)"
   ]
  },
  {
   "cell_type": "code",
   "execution_count": 11,
   "id": "57423531-f7f7-4b7c-803b-95d0dd53bedd",
   "metadata": {},
   "outputs": [],
   "source": [
    "test_data = X_test.copy()\n",
    "test_data['target'] = y_test"
   ]
  },
  {
   "cell_type": "code",
   "execution_count": 12,
   "id": "b508997a-547b-44b4-92ac-d4ab931a8a82",
   "metadata": {},
   "outputs": [
    {
     "data": {
      "text/html": [
       "<div>\n",
       "<style scoped>\n",
       "    .dataframe tbody tr th:only-of-type {\n",
       "        vertical-align: middle;\n",
       "    }\n",
       "\n",
       "    .dataframe tbody tr th {\n",
       "        vertical-align: top;\n",
       "    }\n",
       "\n",
       "    .dataframe thead th {\n",
       "        text-align: right;\n",
       "    }\n",
       "</style>\n",
       "<table border=\"1\" class=\"dataframe\">\n",
       "  <thead>\n",
       "    <tr style=\"text-align: right;\">\n",
       "      <th></th>\n",
       "      <th>input</th>\n",
       "      <th>target</th>\n",
       "    </tr>\n",
       "  </thead>\n",
       "  <tbody>\n",
       "    <tr>\n",
       "      <th>507</th>\n",
       "      <td>79.926021</td>\n",
       "      <td>1</td>\n",
       "    </tr>\n",
       "    <tr>\n",
       "      <th>818</th>\n",
       "      <td>90.058665</td>\n",
       "      <td>1</td>\n",
       "    </tr>\n",
       "    <tr>\n",
       "      <th>452</th>\n",
       "      <td>52.615686</td>\n",
       "      <td>0</td>\n",
       "    </tr>\n",
       "    <tr>\n",
       "      <th>368</th>\n",
       "      <td>50.578357</td>\n",
       "      <td>0</td>\n",
       "    </tr>\n",
       "  </tbody>\n",
       "</table>\n",
       "</div>"
      ],
      "text/plain": [
       "         input  target\n",
       "507  79.926021       1\n",
       "818  90.058665       1\n",
       "452  52.615686       0\n",
       "368  50.578357       0"
      ]
     },
     "execution_count": 12,
     "metadata": {},
     "output_type": "execute_result"
    }
   ],
   "source": [
    "test_data.head(4)"
   ]
  },
  {
   "cell_type": "code",
   "execution_count": 13,
   "id": "e02e92cd-4df7-4e48-8b4d-0cbe5cdd9c0b",
   "metadata": {},
   "outputs": [],
   "source": [
    "test_data.to_csv('WE02_test_data.csv', index=False)"
   ]
  },
  {
   "cell_type": "markdown",
   "id": "7245daa2-0fe1-4ebc-b747-fc2e47abc231",
   "metadata": {},
   "source": [
    "#### Fitting the logistic regression model"
   ]
  },
  {
   "cell_type": "code",
   "execution_count": 14,
   "id": "3efad44e-88a2-4385-bcf4-d2ce57ac0fa1",
   "metadata": {},
   "outputs": [],
   "source": [
    "log_reg = LogisticRegression().fit(X_train, np.ravel(y_train))"
   ]
  },
  {
   "cell_type": "markdown",
   "id": "262ec525-c7c5-446b-85eb-44e947d993e8",
   "metadata": {},
   "source": [
    "Add a column to the dataframe with the predicted values"
   ]
  },
  {
   "cell_type": "code",
   "execution_count": 15,
   "id": "d7cfde48-a0b8-42db-a895-0cffe55a2873",
   "metadata": {},
   "outputs": [
    {
     "data": {
      "text/html": [
       "<div>\n",
       "<style scoped>\n",
       "    .dataframe tbody tr th:only-of-type {\n",
       "        vertical-align: middle;\n",
       "    }\n",
       "\n",
       "    .dataframe tbody tr th {\n",
       "        vertical-align: top;\n",
       "    }\n",
       "\n",
       "    .dataframe thead th {\n",
       "        text-align: right;\n",
       "    }\n",
       "</style>\n",
       "<table border=\"1\" class=\"dataframe\">\n",
       "  <thead>\n",
       "    <tr style=\"text-align: right;\">\n",
       "      <th></th>\n",
       "      <th>input</th>\n",
       "      <th>target</th>\n",
       "      <th>predicted</th>\n",
       "    </tr>\n",
       "  </thead>\n",
       "  <tbody>\n",
       "    <tr>\n",
       "      <th>0</th>\n",
       "      <td>50.336125</td>\n",
       "      <td>0</td>\n",
       "      <td>0</td>\n",
       "    </tr>\n",
       "    <tr>\n",
       "      <th>1</th>\n",
       "      <td>12.923572</td>\n",
       "      <td>0</td>\n",
       "      <td>0</td>\n",
       "    </tr>\n",
       "    <tr>\n",
       "      <th>2</th>\n",
       "      <td>56.343662</td>\n",
       "      <td>1</td>\n",
       "      <td>1</td>\n",
       "    </tr>\n",
       "    <tr>\n",
       "      <th>3</th>\n",
       "      <td>51.999947</td>\n",
       "      <td>0</td>\n",
       "      <td>0</td>\n",
       "    </tr>\n",
       "  </tbody>\n",
       "</table>\n",
       "</div>"
      ],
      "text/plain": [
       "       input  target  predicted\n",
       "0  50.336125       0          0\n",
       "1  12.923572       0          0\n",
       "2  56.343662       1          1\n",
       "3  51.999947       0          0"
      ]
     },
     "execution_count": 15,
     "metadata": {},
     "output_type": "execute_result"
    }
   ],
   "source": [
    "df['predicted'] = log_reg.predict(X)\n",
    "df.head(4)"
   ]
  },
  {
   "cell_type": "markdown",
   "id": "bd3f6e74-bbf5-44e4-8be6-3309c84ece09",
   "metadata": {},
   "source": [
    "Adding a column for the probability of getting one"
   ]
  },
  {
   "cell_type": "code",
   "execution_count": 16,
   "id": "39a59c0d-16f7-4000-b89e-d6b42ca55d6c",
   "metadata": {},
   "outputs": [
    {
     "data": {
      "text/html": [
       "<div>\n",
       "<style scoped>\n",
       "    .dataframe tbody tr th:only-of-type {\n",
       "        vertical-align: middle;\n",
       "    }\n",
       "\n",
       "    .dataframe tbody tr th {\n",
       "        vertical-align: top;\n",
       "    }\n",
       "\n",
       "    .dataframe thead th {\n",
       "        text-align: right;\n",
       "    }\n",
       "</style>\n",
       "<table border=\"1\" class=\"dataframe\">\n",
       "  <thead>\n",
       "    <tr style=\"text-align: right;\">\n",
       "      <th></th>\n",
       "      <th>input</th>\n",
       "      <th>target</th>\n",
       "      <th>predicted</th>\n",
       "      <th>pred_prob</th>\n",
       "    </tr>\n",
       "  </thead>\n",
       "  <tbody>\n",
       "    <tr>\n",
       "      <th>0</th>\n",
       "      <td>50.336125</td>\n",
       "      <td>0</td>\n",
       "      <td>0</td>\n",
       "      <td>4.057941e-02</td>\n",
       "    </tr>\n",
       "    <tr>\n",
       "      <th>1</th>\n",
       "      <td>12.923572</td>\n",
       "      <td>0</td>\n",
       "      <td>0</td>\n",
       "      <td>2.628319e-13</td>\n",
       "    </tr>\n",
       "    <tr>\n",
       "      <th>2</th>\n",
       "      <td>56.343662</td>\n",
       "      <td>1</td>\n",
       "      <td>1</td>\n",
       "      <td>7.271977e-01</td>\n",
       "    </tr>\n",
       "    <tr>\n",
       "      <th>3</th>\n",
       "      <td>51.999947</td>\n",
       "      <td>0</td>\n",
       "      <td>0</td>\n",
       "      <td>1.175854e-01</td>\n",
       "    </tr>\n",
       "  </tbody>\n",
       "</table>\n",
       "</div>"
      ],
      "text/plain": [
       "       input  target  predicted     pred_prob\n",
       "0  50.336125       0          0  4.057941e-02\n",
       "1  12.923572       0          0  2.628319e-13\n",
       "2  56.343662       1          1  7.271977e-01\n",
       "3  51.999947       0          0  1.175854e-01"
      ]
     },
     "execution_count": 16,
     "metadata": {},
     "output_type": "execute_result"
    }
   ],
   "source": [
    "df['pred_prob'] = log_reg.predict_proba(X)[:,1]\n",
    "df.head(4)"
   ]
  },
  {
   "cell_type": "markdown",
   "id": "0aa22817-9d41-4b58-9fd1-64a812f3e41a",
   "metadata": {},
   "source": [
    "Adding a column to check if the predicted value is correct"
   ]
  },
  {
   "cell_type": "code",
   "execution_count": 17,
   "id": "bc3e9fad-13b7-4ae8-b626-22275e6e1e8e",
   "metadata": {},
   "outputs": [
    {
     "data": {
      "text/html": [
       "<div>\n",
       "<style scoped>\n",
       "    .dataframe tbody tr th:only-of-type {\n",
       "        vertical-align: middle;\n",
       "    }\n",
       "\n",
       "    .dataframe tbody tr th {\n",
       "        vertical-align: top;\n",
       "    }\n",
       "\n",
       "    .dataframe thead th {\n",
       "        text-align: right;\n",
       "    }\n",
       "</style>\n",
       "<table border=\"1\" class=\"dataframe\">\n",
       "  <thead>\n",
       "    <tr style=\"text-align: right;\">\n",
       "      <th></th>\n",
       "      <th>input</th>\n",
       "      <th>target</th>\n",
       "      <th>predicted</th>\n",
       "      <th>pred_prob</th>\n",
       "      <th>correct_prediction</th>\n",
       "    </tr>\n",
       "  </thead>\n",
       "  <tbody>\n",
       "    <tr>\n",
       "      <th>0</th>\n",
       "      <td>50.336125</td>\n",
       "      <td>0</td>\n",
       "      <td>0</td>\n",
       "      <td>4.057941e-02</td>\n",
       "      <td>True</td>\n",
       "    </tr>\n",
       "    <tr>\n",
       "      <th>1</th>\n",
       "      <td>12.923572</td>\n",
       "      <td>0</td>\n",
       "      <td>0</td>\n",
       "      <td>2.628319e-13</td>\n",
       "      <td>True</td>\n",
       "    </tr>\n",
       "    <tr>\n",
       "      <th>2</th>\n",
       "      <td>56.343662</td>\n",
       "      <td>1</td>\n",
       "      <td>1</td>\n",
       "      <td>7.271977e-01</td>\n",
       "      <td>True</td>\n",
       "    </tr>\n",
       "    <tr>\n",
       "      <th>3</th>\n",
       "      <td>51.999947</td>\n",
       "      <td>0</td>\n",
       "      <td>0</td>\n",
       "      <td>1.175854e-01</td>\n",
       "      <td>True</td>\n",
       "    </tr>\n",
       "  </tbody>\n",
       "</table>\n",
       "</div>"
      ],
      "text/plain": [
       "       input  target  predicted     pred_prob  correct_prediction\n",
       "0  50.336125       0          0  4.057941e-02                True\n",
       "1  12.923572       0          0  2.628319e-13                True\n",
       "2  56.343662       1          1  7.271977e-01                True\n",
       "3  51.999947       0          0  1.175854e-01                True"
      ]
     },
     "execution_count": 17,
     "metadata": {},
     "output_type": "execute_result"
    }
   ],
   "source": [
    "df['correct_prediction'] = df['target'] == df['predicted']\n",
    "df.head(4)"
   ]
  },
  {
   "cell_type": "markdown",
   "id": "a977f406-345e-4e83-95d4-dd696eaeaf9a",
   "metadata": {},
   "source": [
    "## Displaying the probability and predicted values"
   ]
  },
  {
   "cell_type": "code",
   "execution_count": 18,
   "id": "1ecf4368-9bc1-49bd-a481-4192e928f8a9",
   "metadata": {},
   "outputs": [
    {
     "data": {
      "image/png": "[encoded data removed]",
      "text/plain": [
       "<Figure size 640x480 with 1 Axes>"
      ]
     },
     "metadata": {},
     "output_type": "display_data"
    }
   ],
   "source": [
    "\n",
    "fig = plt.figure()\n",
    "ax = fig.add_subplot()\n",
    "#ax.scatter(X, y, c=y.iloc[:,0])\n",
    "colors = np.array([\"blue\", \"red\"])\n",
    "ax.scatter(X, y, c=colors[np.ravel(y.astype(int))])\n",
    "\n",
    "ax.scatter(X, df['pred_prob'], c=colors[np.ravel(y.astype(int))], alpha=0.4)\n",
    "plt.axhline(.5, color=\"black\", label=\"cutoff\", linestyle='--', alpha=.5)\n",
    "ax.set_xlabel('Input variables')\n",
    "ax.set_ylabel('Target variables')\n",
    "ax.set_title('Logistic Regression')\n",
    "plt.show()"
   ]
  },
  {
   "cell_type": "markdown",
   "id": "b65ccd32-076f-4f36-992e-8f194492b56d",
   "metadata": {},
   "source": [
    "Identify the coefficients and intercept."
   ]
  },
  {
   "cell_type": "code",
   "execution_count": 19,
   "id": "1984d10c-0bca-4217-831d-eedda154a479",
   "metadata": {},
   "outputs": [
    {
     "name": "stdout",
     "output_type": "stream",
     "text": [
      "Y = -37.88 + 0.69x1\n",
      "R^2: 0.974\n"
     ]
    }
   ],
   "source": [
    "log_reg.coef_\n",
    "b0 = log_reg.intercept_[0]\n",
    "b1 = log_reg.coef_[0][0]\n",
    "r2 = log_reg.score(X, y)\n",
    "\n",
    "print(f\"Y = {b0:.2f} + {b1:.2f}x1\")\n",
    "print(f\"R^2: {r2:.3f}\")"
   ]
  },
  {
   "cell_type": "code",
   "execution_count": 20,
   "id": "47c18a9c-b883-440c-93d3-dc814a60c426",
   "metadata": {},
   "outputs": [
    {
     "data": {
      "text/plain": [
       "0.974"
      ]
     },
     "execution_count": 20,
     "metadata": {},
     "output_type": "execute_result"
    }
   ],
   "source": [
    "# What percentage of times did this model correctly predict the outcome?\n",
    "df['correct_prediction'].sum() / df.shape[0]"
   ]
  },
  {
   "cell_type": "markdown",
   "id": "e88066fb-85cd-4cba-8356-f01093ebd398",
   "metadata": {},
   "source": [
    "### INTERPRETATION OF THE LOGISTIC REGRESSION MODEL"
   ]
  },
  {
   "cell_type": "markdown",
   "id": "b93de905-f134-4da1-947d-6cbc79257211",
   "metadata": {},
   "source": [
    "How to interpret the coefficients of a logistic regression model?\n",
    "NOTE: This section is advanced. I will not test you on this, I only offer this to those who are interested in learning more about the math behind logistic regression.\n",
    "\n",
    "The b1 coefficient is the change in the log odds of being a 1 for a 1 unit increase in the predictor variable.\n",
    "\n",
    "The log odds function is the natural log of the odds. It's also known as the logit function.\n",
    "\n",
    "log(𝑝1−𝑝)=logit(𝑝)\n",
    " \n",
    "Based on the results from our logistic regression above, we can see that the coefficient for kgs smoked is 0.27. This means that for a 1 unit increase in kgs smoked, the log odds of being a 1 increases by 0.0.27.\n",
    "\n",
    "NOTE: The  𝛽0\n",
    "  and  𝛽1\n",
    "  used here are from a specific dataset. If you experiment with other datasets, you will get different values for the coefficients and intercept than you see here. Whatever the new values, the following explanation will still apply.\n",
    "\n",
    "logit(𝑝)=log(𝑝1−𝑝)=1.31+0.27𝑥\n",
    " \n",
    "But how to we find the probability of being a 1? We can use the inverse logit function (aka, logistic function).\n",
    "\n",
    "Derive the predicted probability from the logistic model\n",
    "The logit function is defined as\n",
    "\n",
    "logit(𝑝)=log(𝑝1−𝑝)\n",
    " \n",
    "The logistic function, is defined as\n",
    "\n",
    "logistic(𝑝)=1𝑒𝛽0+𝛽1𝑥\n",
    " \n",
    "When we use logistic regression (just as in regular regression), we are trying to find the best values for  𝛽0\n",
    "  and  𝛽1\n",
    "  that minimize the error between the predicted values and the actual values. But the interpretation of the coefficients is different.\n",
    "\n",
    "logit(𝑝)=log(𝑝1−𝑝)=𝛽0+𝛽1𝑥\n",
    " \n",
    "For illustration, take this relationship and derive the function for the probability of being a 1.\n",
    "Exponentiate and take the multiplicative inverse of both sides, and we get the odds ratio.\n",
    "\n",
    "1−𝑝𝑝=1𝑒𝛽0+𝛽1𝑥\n",
    " \n",
    "Partial out the fraction on the left-hand side of the equation and add one to both sides,\n",
    "\n",
    "1𝑝=1+1𝑒𝛽0+𝛽1𝑥\n",
    " \n",
    "Change 1 to a common denominator\n",
    "\n",
    "1𝑝=𝑒𝛽0+𝛽1𝑥+1𝑒𝛽0+𝛽1𝑥\n",
    " \n",
    "Finally, take the multiplicative inverse again to obtain the formula for the probability P(cancer=1)\n",
    "\n",
    "𝑝=𝑒𝛽0+𝛽1𝑥1+𝑒𝛽0+𝛽1𝑥\n",
    " \n",
    "Now, let's apply our derived formular to the coefficients we obtained from the model. This will result in the probability of being a 1 for a given value of the predictor variable."
   ]
  },
  {
   "cell_type": "code",
   "execution_count": 21,
   "id": "73dd33ad-6691-4356-ae58-7102474296b7",
   "metadata": {},
   "outputs": [
    {
     "data": {
      "text/html": [
       "<div>\n",
       "<style scoped>\n",
       "    .dataframe tbody tr th:only-of-type {\n",
       "        vertical-align: middle;\n",
       "    }\n",
       "\n",
       "    .dataframe tbody tr th {\n",
       "        vertical-align: top;\n",
       "    }\n",
       "\n",
       "    .dataframe thead th {\n",
       "        text-align: right;\n",
       "    }\n",
       "</style>\n",
       "<table border=\"1\" class=\"dataframe\">\n",
       "  <thead>\n",
       "    <tr style=\"text-align: right;\">\n",
       "      <th></th>\n",
       "      <th>input</th>\n",
       "    </tr>\n",
       "  </thead>\n",
       "  <tbody>\n",
       "    <tr>\n",
       "      <th>0</th>\n",
       "      <td>4.057941e-02</td>\n",
       "    </tr>\n",
       "    <tr>\n",
       "      <th>1</th>\n",
       "      <td>2.628319e-13</td>\n",
       "    </tr>\n",
       "    <tr>\n",
       "      <th>2</th>\n",
       "      <td>7.271977e-01</td>\n",
       "    </tr>\n",
       "    <tr>\n",
       "      <th>3</th>\n",
       "      <td>1.175854e-01</td>\n",
       "    </tr>\n",
       "    <tr>\n",
       "      <th>4</th>\n",
       "      <td>1.314302e-01</td>\n",
       "    </tr>\n",
       "    <tr>\n",
       "      <th>...</th>\n",
       "      <td>...</td>\n",
       "    </tr>\n",
       "    <tr>\n",
       "      <th>995</th>\n",
       "      <td>9.943729e-01</td>\n",
       "    </tr>\n",
       "    <tr>\n",
       "      <th>996</th>\n",
       "      <td>1.802135e-03</td>\n",
       "    </tr>\n",
       "    <tr>\n",
       "      <th>997</th>\n",
       "      <td>9.999992e-01</td>\n",
       "    </tr>\n",
       "    <tr>\n",
       "      <th>998</th>\n",
       "      <td>1.000000e+00</td>\n",
       "    </tr>\n",
       "    <tr>\n",
       "      <th>999</th>\n",
       "      <td>9.999999e-01</td>\n",
       "    </tr>\n",
       "  </tbody>\n",
       "</table>\n",
       "<p>1000 rows × 1 columns</p>\n",
       "</div>"
      ],
      "text/plain": [
       "            input\n",
       "0    4.057941e-02\n",
       "1    2.628319e-13\n",
       "2    7.271977e-01\n",
       "3    1.175854e-01\n",
       "4    1.314302e-01\n",
       "..            ...\n",
       "995  9.943729e-01\n",
       "996  1.802135e-03\n",
       "997  9.999992e-01\n",
       "998  1.000000e+00\n",
       "999  9.999999e-01\n",
       "\n",
       "[1000 rows x 1 columns]"
      ]
     },
     "execution_count": 21,
     "metadata": {},
     "output_type": "execute_result"
    }
   ],
   "source": [
    "p_y_eq_1 = np.exp(b0 + b1 * X) / (1+ np.exp(b0 + b1 * X))\n",
    "p_y_eq_1"
   ]
  },
  {
   "cell_type": "markdown",
   "id": "ba043e81-bc79-4e81-8fad-ea7ba526b6fa",
   "metadata": {},
   "source": [
    "Notice that these values are the same as the ones produced by the predict_proba method."
   ]
  },
  {
   "cell_type": "code",
   "execution_count": 22,
   "id": "3a0694cc-baaa-403e-8cd7-48027d155702",
   "metadata": {},
   "outputs": [
    {
     "data": {
      "text/plain": [
       "0      4.057941e-02\n",
       "1      2.628319e-13\n",
       "2      7.271977e-01\n",
       "3      1.175854e-01\n",
       "4      1.314302e-01\n",
       "           ...     \n",
       "995    9.943729e-01\n",
       "996    1.802135e-03\n",
       "997    9.999992e-01\n",
       "998    1.000000e+00\n",
       "999    9.999999e-01\n",
       "Name: pred_prob, Length: 1000, dtype: float64"
      ]
     },
     "execution_count": 22,
     "metadata": {},
     "output_type": "execute_result"
    }
   ],
   "source": [
    "df.pred_prob"
   ]
  },
  {
   "cell_type": "markdown",
   "id": "ce50e670-49cc-4e06-9db9-6198d4951e39",
   "metadata": {},
   "source": [
    "### MODEL EVALUATION"
   ]
  },
  {
   "cell_type": "code",
   "execution_count": 23,
   "id": "20a9ed16-c75d-4cf6-b4be-7a4293520019",
   "metadata": {},
   "outputs": [],
   "source": [
    "Xtest = test_data[['input']]\n",
    "ytest = test_data[['target']]"
   ]
  },
  {
   "cell_type": "code",
   "execution_count": 24,
   "id": "21bc1b8a-4cab-46e5-9809-6cc5c7217824",
   "metadata": {},
   "outputs": [
    {
     "data": {
      "text/html": [
       "<div>\n",
       "<style scoped>\n",
       "    .dataframe tbody tr th:only-of-type {\n",
       "        vertical-align: middle;\n",
       "    }\n",
       "\n",
       "    .dataframe tbody tr th {\n",
       "        vertical-align: top;\n",
       "    }\n",
       "\n",
       "    .dataframe thead th {\n",
       "        text-align: right;\n",
       "    }\n",
       "</style>\n",
       "<table border=\"1\" class=\"dataframe\">\n",
       "  <thead>\n",
       "    <tr style=\"text-align: right;\">\n",
       "      <th></th>\n",
       "      <th>input</th>\n",
       "      <th>target</th>\n",
       "    </tr>\n",
       "  </thead>\n",
       "  <tbody>\n",
       "    <tr>\n",
       "      <th>507</th>\n",
       "      <td>79.926021</td>\n",
       "      <td>1</td>\n",
       "    </tr>\n",
       "    <tr>\n",
       "      <th>818</th>\n",
       "      <td>90.058665</td>\n",
       "      <td>1</td>\n",
       "    </tr>\n",
       "    <tr>\n",
       "      <th>452</th>\n",
       "      <td>52.615686</td>\n",
       "      <td>0</td>\n",
       "    </tr>\n",
       "    <tr>\n",
       "      <th>368</th>\n",
       "      <td>50.578357</td>\n",
       "      <td>0</td>\n",
       "    </tr>\n",
       "  </tbody>\n",
       "</table>\n",
       "</div>"
      ],
      "text/plain": [
       "         input  target\n",
       "507  79.926021       1\n",
       "818  90.058665       1\n",
       "452  52.615686       0\n",
       "368  50.578357       0"
      ]
     },
     "execution_count": 24,
     "metadata": {},
     "output_type": "execute_result"
    }
   ],
   "source": [
    "test_data.head(4)"
   ]
  },
  {
   "cell_type": "code",
   "execution_count": 25,
   "id": "f140f136-133e-469d-aca0-b19813706e72",
   "metadata": {},
   "outputs": [],
   "source": [
    "model_preds = log_reg.predict(Xtest)"
   ]
  },
  {
   "cell_type": "code",
   "execution_count": 26,
   "id": "e3728fad-d69e-4193-a252-8153f0443c3a",
   "metadata": {},
   "outputs": [
    {
     "data": {
      "text/plain": [
       "array([[131,   2],\n",
       "       [  3, 114]])"
      ]
     },
     "execution_count": 26,
     "metadata": {},
     "output_type": "execute_result"
    }
   ],
   "source": [
    "c_matrix = confusion_matrix(ytest, model_preds)\n",
    "c_matrix"
   ]
  },
  {
   "cell_type": "code",
   "execution_count": 27,
   "id": "29b5f361-c705-4f27-9e7b-d22c26446594",
   "metadata": {},
   "outputs": [],
   "source": [
    "TP = c_matrix[1][1]\n",
    "TN = c_matrix[0][0]\n",
    "FP = c_matrix[0][1]\n",
    "FN = c_matrix[1][0]"
   ]
  },
  {
   "cell_type": "code",
   "execution_count": 28,
   "id": "9d7a7e4d-f28d-4b9a-8240-169cbc506536",
   "metadata": {},
   "outputs": [],
   "source": [
    "accuracy = (TP + TN) / (TP + TN + FP + FN)\n",
    "precision = TP / (TP + FP)\n",
    "recall = TP / (TP + FN)\n",
    "f1 = 2 * (precision * recall) / (precision + recall)"
   ]
  },
  {
   "cell_type": "code",
   "execution_count": 29,
   "id": "a4833029-85ae-4535-a2d1-d4070d978bea",
   "metadata": {},
   "outputs": [
    {
     "name": "stdout",
     "output_type": "stream",
     "text": [
      "Accuracy:   0.98\n",
      "Precision:  0.98\n",
      "Recall:     0.97\n",
      "F1:         0.98\n"
     ]
    }
   ],
   "source": [
    "print(f'{\"Accuracy:\":12s}{accuracy:.2f}')\n",
    "print(f'{\"Precision:\":12s}{precision:.2f}')\n",
    "print(f'{\"Recall:\":12s}{recall:>.2f}')\n",
    "print(f'{\"F1:\":12s}{f1:>.2f}')"
   ]
  },
  {
   "cell_type": "markdown",
   "id": "e9c9ff53-b230-43f5-8c38-527d2b556cc3",
   "metadata": {},
   "source": [
    "### CONCLUSION\n",
    "\n",
    "From the above results, we only have one false negative prediction which indicates that our model has predicted one false scenario incorrectly. But the model is able to achieve excellent fit in predicting the false positive and true scenarios\n",
    "\n",
    "Based on the evaluation metrics from our confusion matrix, we can draw the following general conclusion:\n",
    "\n",
    "The classification model has excellent performance based on the calculated metrics. \n",
    "\n",
    "The accuracy of 1.00 suggests that the model has accurately predicted the class labels for all instances in the dataset. This indicates a perfect match between the predicted and actual values.\n",
    "\n",
    "The precision of 1.00 implies that when the model predicted a positive class, it is almost always correct. There are no false positives, meaning that all instances predicted as positive are indeed positive. \n",
    "\n",
    "The recall of 0.99 indicates that the model has successfully captured a high proportion of positive instances. There was only one false negative, which indicates that model missed one positive instance. \n",
    "\n",
    "The F1 score of 1.00, which is the harmonic mean of precision and recall, reflects the balanced performance between precision and recall. The score indicates a highly accurate and reliable model.\n",
    "\n",
    "Overall, we can imply that the model is performing exceptionally well, demonstrating high accuracy, precision, recall, and F1 score. But, it is important to consider the specific context to ensure that the model meets the desired requirements.\n"
   ]
  }
 ],
 "metadata": {
  "kernelspec": {
   "display_name": "Python 3 (ipykernel)",
   "language": "python",
   "name": "python3"
  },
  "language_info": {
   "codemirror_mode": {
    "name": "ipython",
    "version": 3
   },
   "file_extension": ".py",
   "mimetype": "text/x-python",
   "name": "python",
   "nbconvert_exporter": "python",
   "pygments_lexer": "ipython3",
   "version": "3.9.16"
  }
 },
 "nbformat": 4,
 "nbformat_minor": 5
}
