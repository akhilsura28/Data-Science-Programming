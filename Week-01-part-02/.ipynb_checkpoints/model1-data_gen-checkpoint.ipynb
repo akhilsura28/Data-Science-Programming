{
 "cells": [
  {
   "cell_type": "markdown",
   "id": "66d01c8a-f0cd-42af-aff9-8ba0bbd3c47e",
   "metadata": {
    "slideshow": {
     "slide_type": "slide"
    },
    "tags": []
   },
   "source": [
    "# Predictive Modeling Example01: Data Generation\n",
    "\n",
    "In this notebook we create a synthetic dataset that we will later attempt to identify the relationship between the features and the target.  We will use this dataset to demonstrate the use of the `sklearn` library to perform predictive modeling using linear requression.\n",
    "\n",
    "There are 6 steps to this process:\n",
    "1. Import libraries and modules\n",
    "   * don't forget to set the random.seed for reproducibility\n",
    "2. Define the hidden relationship\n",
    "3. Create input and output values\n",
    "4. Add noise to 'hide' the true relationship\n",
    "5. Save the data to a csv file."
   ]
  },
  {
   "cell_type": "markdown",
   "id": "049ea964-ba9d-46aa-af88-d13550f27638",
   "metadata": {
    "slideshow": {
     "slide_type": "slide"
    },
    "tags": []
   },
   "source": [
    "## Step 1: Import a number of libraries that we expect to use"
   ]
  },
  {
   "cell_type": "code",
   "execution_count": 25,
   "id": "cca96620-674f-43be-9633-3546127c263b",
   "metadata": {
    "slideshow": {
     "slide_type": "fragment"
    },
    "tags": []
   },
   "outputs": [],
   "source": [
    "import matplotlib.pyplot as plt\n",
    "import numpy as np\n",
    "import pandas as pd\n",
    "# see importing_packages.demo.ipynb for more details\n",
    "\n",
    "np.random.seed(1) # set this to ensure the results are repeatable. "
   ]
  },
  {
   "cell_type": "markdown",
   "id": "bcc3ce3b-c9bd-4631-a2ae-c02ebcd2879b",
   "metadata": {
    "slideshow": {
     "slide_type": "subslide"
    },
    "tags": []
   },
   "source": [
    "## Step 2:  Define a hidden linear relationship/model\n",
    "\n",
    "First let's define our relationship (normally, this is hidden, but since we are creating the data, we will need to identify this)"
   ]
  },
  {
   "cell_type": "code",
   "execution_count": 26,
   "id": "73a337be-a2a5-46ab-9cfe-e92239ccc80f",
   "metadata": {
    "slideshow": {
     "slide_type": "fragment"
    },
    "tags": []
   },
   "outputs": [],
   "source": [
    "# our hidden relationship is a single input variable linear regression model\n",
    "# this will be in the form of y = b0 + b1*x1\n",
    "b1 = 30.5 # slope for x\n",
    "b0 = 20   # y intercept"
   ]
  },
  {
   "cell_type": "markdown",
   "id": "109c2612-b01f-4f95-b2f1-8058ef587cb9",
   "metadata": {},
   "source": [
    "## Step 3: Create input and output data using the model"
   ]
  },
  {
   "cell_type": "markdown",
   "id": "0a1f9324-21c7-4274-be39-739be7a23ef0",
   "metadata": {},
   "source": [
    "Let's set the number of observations that we will synthesize..."
   ]
  },
  {
   "cell_type": "code",
   "execution_count": 27,
   "id": "3297e902-0eb7-4370-a9d6-315105f13be1",
   "metadata": {},
   "outputs": [],
   "source": [
    "sample_size = 1000"
   ]
  },
  {
   "cell_type": "markdown",
   "id": "cff2bfd5-dc57-4e16-91ba-82ebe8173eb8",
   "metadata": {},
   "source": [
    "We need to create a set of X (input) values. These values are independent, so we could choose any set of X values we like. We could simply create a simple linear sequence, or we could create draw random values from a distribution (uniform, or gaussian (aka normal). Though it doesn't affect our outcome (we are going to use a linear model), we will draw from a normal distribution (we often find data is normally distributed).\n",
    "\n",
    "Though there are many ways we could accomplish this, the numpy library is a good choice.  We will use the `numpy.random.normal()` function to draw random values from a normal distribution.  We will need to specify the mean and standard deviation of the distribution.  We will use a mean of 0 and a standard deviation of 1.  We will also need to specify the number of values to draw.  We will use the `size` parameter to specify the number of values to draw.\n",
    "\n",
    "NOTE: We could also choose to use the `numpy.random.uniform()` function to draw random values from a uniform distribution.  We would need to specify the minimum and maximum values to draw from.  We would also need to specify the number of values to draw. Also, we could use the `numpy.arange()` function to create a sequence of values.  We would need to specify the start, stop, and step values.  We would also need to specify the number of values to draw. Finally, we could also use the `numpy.linspace()` function to create a sequence of values.  We would need to specify the start, stop, and number of values to draw."
   ]
  },
  {
   "cell_type": "code",
   "execution_count": 28,
   "id": "fa1e89d3",
   "metadata": {},
   "outputs": [],
   "source": [
    "# create a simple sequence of X values\n",
    "#x1 = np.linspace(0, 100, sample_size) # https://numpy.org/doc/stable/reference/generated/numpy.linspace.html#numpy.linspace\n",
    "\n",
    "# draw random samples from the uniform distribution\n",
    "#x1 = np.random.uniform(low=0.0, high=100.0, size=sample_size) # uniform distribution # https://numpy.org/doc/stable/reference/random/generated/numpy.random.uniform.html#numpy.random.uniform\n",
    "\n",
    "# draw samples from the normal distribution\n",
    "x1 =  np.random.normal(loc=0.0, scale=10.0, size=sample_size) # https://numpy.org/doc/stable/reference/random/generated/numpy.random.normal.html#numpy.random.normal"
   ]
  },
  {
   "cell_type": "markdown",
   "id": "ac088d37-d2bf-4cb9-82dd-52498c789381",
   "metadata": {},
   "source": [
    "Once we have the X values (input), we can generate y values using our 'hidden' model..."
   ]
  },
  {
   "cell_type": "code",
   "execution_count": 29,
   "id": "d19db905-c954-4fd8-8d7e-0c0fdec12170",
   "metadata": {},
   "outputs": [],
   "source": [
    "y = b0 + b1 * x1"
   ]
  },
  {
   "cell_type": "markdown",
   "id": "01d31c4b",
   "metadata": {},
   "source": [
    "Now, let's plot this data using a scatter plot."
   ]
  },
  {
   "cell_type": "code",
   "execution_count": 30,
   "id": "44bf74cd-a678-4534-b84a-dd568bf19a86",
   "metadata": {},
   "outputs": [
    {
     "data": {
      "image/png": "[encoded data removed]",
      "text/plain": [
       "<Figure size 640x480 with 1 Axes>"
      ]
     },
     "metadata": {},
     "output_type": "display_data"
    }
   ],
   "source": [
    "fig = plt.figure()\n",
    "ax = fig.add_subplot()\n",
    "\n",
    "ax.scatter(x1, y, color='red')\n",
    "\n",
    "ax.set_xlabel('input')\n",
    "ax.set_ylabel('target')\n",
    "plt.tight_layout()\n",
    "plt.show()\n",
    "\n",
    "# see matplotlib_scatter.ipynb for more examples of matplotlib scatter plots"
   ]
  },
  {
   "cell_type": "markdown",
   "id": "9b752961",
   "metadata": {},
   "source": [
    "But, this is rather boring data to analyze, because the 'hidden' model is not really hidden at all... lt's fix that by adding some noise to the data."
   ]
  },
  {
   "cell_type": "markdown",
   "id": "b6b39e70-09c6-48e9-bd2d-84336dbcee85",
   "metadata": {},
   "source": [
    "## Step 4: Add some random noise to 'hide' the model"
   ]
  },
  {
   "cell_type": "markdown",
   "id": "612a9e2e-63ed-407d-bac1-82a0aaebf348",
   "metadata": {},
   "source": [
    "Now, let's obscure the model by adding noise to the data by adding errors that are randomly selected from a norma distribution"
   ]
  },
  {
   "cell_type": "code",
   "execution_count": 31,
   "id": "07667953-196d-42d2-808d-24d1d5120fdb",
   "metadata": {},
   "outputs": [],
   "source": [
    "e_mean = 0\n",
    "e_stdev = 100\n",
    "e = np.round(np.random.normal(e_mean, e_stdev, sample_size), 2) # round to two decimal places\n",
    "y = y + e"
   ]
  },
  {
   "cell_type": "markdown",
   "id": "9599d4ef",
   "metadata": {},
   "source": [
    "Question to ask yourself: \n",
    "    1. What is the effect of the standard deviation of the noise on the data? \n",
    "    2. What happens if you increase or decrease the standard deviation? \n",
    "    3. What happens if you change the mean of the noise? (we will discuss this in the associated video for this notebooke)"
   ]
  },
  {
   "cell_type": "markdown",
   "id": "82e031c0-87a9-4015-938a-0bf1eb51898b",
   "metadata": {
    "slideshow": {
     "slide_type": "fragment"
    },
    "tags": []
   },
   "source": [
    "Now, let's look at a scatter plot of both the X and y data with the noise added in..."
   ]
  },
  {
   "cell_type": "code",
   "execution_count": 32,
   "id": "c792dab9-889d-4eca-9d7f-5d10df52da3c",
   "metadata": {
    "slideshow": {
     "slide_type": "subslide"
    },
    "tags": []
   },
   "outputs": [
    {
     "data": {
      "image/png": "[encoded data removed]",
      "text/plain": [
       "<Figure size 640x480 with 1 Axes>"
      ]
     },
     "metadata": {},
     "output_type": "display_data"
    }
   ],
   "source": [
    "fig = plt.figure()\n",
    "ax = fig.add_subplot()\n",
    "\n",
    "ax.scatter(x1, y, color='red')\n",
    "\n",
    "ax.set_xlabel('input')\n",
    "ax.set_ylabel('target')\n",
    "plt.tight_layout()\n",
    "plt.show()"
   ]
  },
  {
   "cell_type": "markdown",
   "id": "9c291706",
   "metadata": {},
   "source": [
    "Question: What would happen if we added noise to the x1 variable?  What would the scatter plot look like?"
   ]
  },
  {
   "cell_type": "markdown",
   "id": "b533d757-2f20-4893-b899-f945216ad4ee",
   "metadata": {},
   "source": [
    "## Step 5: Save our synthesized data to a file (we will save it as a csv file)"
   ]
  },
  {
   "cell_type": "markdown",
   "id": "e103183b-7070-4bdf-9259-1332b67cfd8d",
   "metadata": {},
   "source": [
    "Since our goal is to generate data that we can analyze with another notebook (for practice), let's save this data to a csv.  We will use the `pandas` library to do this."
   ]
  },
  {
   "cell_type": "markdown",
   "id": "700820b6",
   "metadata": {},
   "source": [
    "First we will create a dataframe with the data we just similated..."
   ]
  },
  {
   "cell_type": "code",
   "execution_count": 33,
   "id": "96ccd040-cf1d-4773-a801-30bcb5348e05",
   "metadata": {},
   "outputs": [
    {
     "data": {
      "text/html": [
       "<div>\n",
       "<style scoped>\n",
       "    .dataframe tbody tr th:only-of-type {\n",
       "        vertical-align: middle;\n",
       "    }\n",
       "\n",
       "    .dataframe tbody tr th {\n",
       "        vertical-align: top;\n",
       "    }\n",
       "\n",
       "    .dataframe thead th {\n",
       "        text-align: right;\n",
       "    }\n",
       "</style>\n",
       "<table border=\"1\" class=\"dataframe\">\n",
       "  <thead>\n",
       "    <tr style=\"text-align: right;\">\n",
       "      <th></th>\n",
       "      <th>input</th>\n",
       "      <th>target</th>\n",
       "    </tr>\n",
       "  </thead>\n",
       "  <tbody>\n",
       "    <tr>\n",
       "      <th>0</th>\n",
       "      <td>16.243454</td>\n",
       "      <td>500.105336</td>\n",
       "    </tr>\n",
       "    <tr>\n",
       "      <th>1</th>\n",
       "      <td>-6.117564</td>\n",
       "      <td>-409.835706</td>\n",
       "    </tr>\n",
       "    <tr>\n",
       "      <th>2</th>\n",
       "      <td>-5.281718</td>\n",
       "      <td>-90.292384</td>\n",
       "    </tr>\n",
       "  </tbody>\n",
       "</table>\n",
       "</div>"
      ],
      "text/plain": [
       "       input      target\n",
       "0  16.243454  500.105336\n",
       "1  -6.117564 -409.835706\n",
       "2  -5.281718  -90.292384"
      ]
     },
     "execution_count": 33,
     "metadata": {},
     "output_type": "execute_result"
    }
   ],
   "source": [
    "df = pd.DataFrame({'input': x1, 'target': y})\n",
    "df.head(3)"
   ]
  },
  {
   "cell_type": "markdown",
   "id": "b57643b6-1af2-4e03-905d-0c4dfb87534a",
   "metadata": {},
   "source": [
    "Now, let's save the data we created to a csv file. "
   ]
  },
  {
   "cell_type": "code",
   "execution_count": 34,
   "id": "bedb0d18-e61b-49e3-93ac-c0756abae6f7",
   "metadata": {
    "tags": []
   },
   "outputs": [],
   "source": [
    "#df.to_csv('../data/model1_dataset.csv', index=False) # NOTE: this is relative to the notebook location. Be sure to change this path to something that makes sense for your project.\n",
    "\n",
    "df.to_csv('model1_dataset.csv', index=False) # NOTE: this is relative to the notebook location. Be sure to change this path to something that makes sense for your project.\n"
   ]
  },
  {
   "cell_type": "markdown",
   "id": "94dfff3c",
   "metadata": {},
   "source": [
    "## Conclusion"
   ]
  },
  {
   "cell_type": "markdown",
   "id": "fe5affbb",
   "metadata": {},
   "source": [
    "We have just created a synthetic dataset that we can practice our predictive modeling on. We will use this dataset in the next notebook"
   ]
  }
 ],
 "metadata": {
  "kernelspec": {
   "display_name": "Python 3 (ipykernel)",
   "language": "python",
   "name": "python3"
  },
  "language_info": {
   "codemirror_mode": {
    "name": "ipython",
    "version": 3
   },
   "file_extension": ".py",
   "mimetype": "text/x-python",
   "name": "python",
   "nbconvert_exporter": "python",
   "pygments_lexer": "ipython3",
   "version": "3.9.13"
  },
  "vscode": {
   "interpreter": {
    "hash": "b056086e24cb5602cbcb82122035cd3d6ee2ccbf5df29c16e348c108b0f83be3"
   }
  }
 },
 "nbformat": 4,
 "nbformat_minor": 5
}
