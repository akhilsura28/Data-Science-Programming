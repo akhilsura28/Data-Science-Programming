{
 "cells": [
  {
   "cell_type": "markdown",
   "id": "66d01c8a-f0cd-42af-aff9-8ba0bbd3c47e",
   "metadata": {
    "slideshow": {
     "slide_type": "slide"
    },
    "tags": []
   },
   "source": [
    "# Predictive Modeling Example: Model fit\n",
    "\n",
    "In this notebook, we will fit a model to the data we have prepared in the previous notebook. We will use the sci-kit learn library to fit a linear regression model to the data.\n",
    "\n",
    "1. Import libraries and modules\n",
    "2. Load data\n",
    "3. Explore data\n",
    "4. Fit model\n",
    "5. Evaluate model\n",
    "6. Save model"
   ]
  },
  {
   "cell_type": "markdown",
   "id": "049ea964-ba9d-46aa-af88-d13550f27638",
   "metadata": {
    "slideshow": {
     "slide_type": "slide"
    },
    "tags": []
   },
   "source": [
    "## Step 1: Import the libraries we will use in this notebook"
   ]
  },
  {
   "cell_type": "code",
   "execution_count": 1,
   "id": "cca96620-674f-43be-9633-3546127c263b",
   "metadata": {
    "slideshow": {
     "slide_type": "fragment"
    },
    "tags": []
   },
   "outputs": [],
   "source": [
    "import matplotlib.pyplot as plt\n",
    "import numpy as np\n",
    "import pandas as pd\n",
    "from sklearn.linear_model import LinearRegression\n",
    "\n",
    "np.random.seed(1) # set this to ensure the results are repeatable. "
   ]
  },
  {
   "cell_type": "markdown",
   "id": "31b63237-2a6b-40be-a7c9-9fd854b52339",
   "metadata": {},
   "source": [
    "## Step 2: Load the given data that we will model"
   ]
  },
  {
   "cell_type": "code",
   "execution_count": 2,
   "id": "7815e222-9aae-4b39-999e-689dcea5aeb8",
   "metadata": {},
   "outputs": [
    {
     "data": {
      "text/html": [
       "<div>\n",
       "<style scoped>\n",
       "    .dataframe tbody tr th:only-of-type {\n",
       "        vertical-align: middle;\n",
       "    }\n",
       "\n",
       "    .dataframe tbody tr th {\n",
       "        vertical-align: top;\n",
       "    }\n",
       "\n",
       "    .dataframe thead th {\n",
       "        text-align: right;\n",
       "    }\n",
       "</style>\n",
       "<table border=\"1\" class=\"dataframe\">\n",
       "  <thead>\n",
       "    <tr style=\"text-align: right;\">\n",
       "      <th></th>\n",
       "      <th>input</th>\n",
       "      <th>target</th>\n",
       "    </tr>\n",
       "  </thead>\n",
       "  <tbody>\n",
       "    <tr>\n",
       "      <th>0</th>\n",
       "      <td>16.243454</td>\n",
       "      <td>470.715336</td>\n",
       "    </tr>\n",
       "    <tr>\n",
       "      <th>1</th>\n",
       "      <td>-6.117564</td>\n",
       "      <td>-44.135706</td>\n",
       "    </tr>\n",
       "    <tr>\n",
       "      <th>2</th>\n",
       "      <td>-5.281718</td>\n",
       "      <td>-100.742384</td>\n",
       "    </tr>\n",
       "  </tbody>\n",
       "</table>\n",
       "</div>"
      ],
      "text/plain": [
       "       input      target\n",
       "0  16.243454  470.715336\n",
       "1  -6.117564  -44.135706\n",
       "2  -5.281718 -100.742384"
      ]
     },
     "execution_count": 2,
     "metadata": {},
     "output_type": "execute_result"
    }
   ],
   "source": [
    "df = pd.read_csv('model1b_dataset.csv')\n",
    "\n",
    "df.head(3)"
   ]
  },
  {
   "cell_type": "markdown",
   "id": "da72a683-7346-4719-a391-df74dc12e636",
   "metadata": {},
   "source": [
    "Seperate out the input m(X) and the target (y)"
   ]
  },
  {
   "cell_type": "code",
   "execution_count": 3,
   "id": "d684c6ea-96f6-49db-9f35-c4588d83033f",
   "metadata": {
    "slideshow": {
     "slide_type": "subslide"
    },
    "tags": []
   },
   "outputs": [],
   "source": [
    "X=df[['input']]\n",
    "y=df[['target']]"
   ]
  },
  {
   "cell_type": "markdown",
   "id": "9659bd78-3ccf-4add-af07-ce79a5a197f1",
   "metadata": {},
   "source": [
    "For educational purposes, let's look at the first five values in X and y (note how X is an array of lists)"
   ]
  },
  {
   "cell_type": "markdown",
   "id": "2251b80d-af86-4eb1-87b3-4852081028c3",
   "metadata": {},
   "source": [
    "## Step 3: Explore the given data\n",
    "\n",
    "Often we will do much more than this, but at least look at things using a scatterplot"
   ]
  },
  {
   "cell_type": "code",
   "execution_count": 4,
   "id": "8ba59a2e-a02a-4ea4-a73a-1ac6ba1d0056",
   "metadata": {},
   "outputs": [
    {
     "data": {
      "image/png": "[encoded data removed]",
      "text/plain": [
       "<Figure size 640x480 with 1 Axes>"
      ]
     },
     "metadata": {},
     "output_type": "display_data"
    }
   ],
   "source": [
    "fig = plt.figure()\n",
    "ax = fig.add_subplot()\n",
    "\n",
    "ax.scatter(X, y, color='red')\n",
    "\n",
    "ax.set_xlabel('input')\n",
    "ax.set_ylabel('target')\n",
    "plt.tight_layout()\n",
    "plt.show()"
   ]
  },
  {
   "cell_type": "markdown",
   "id": "6545c4b0-4a61-4343-b7cf-db7f746b5d3c",
   "metadata": {},
   "source": [
    "## Step 4: Fit the model\n",
    "\n",
    "Fit the linear regression model to the dataset"
   ]
  },
  {
   "cell_type": "code",
   "execution_count": 5,
   "id": "8f566ef6-b1b2-4091-b9fb-f33c27832c5f",
   "metadata": {},
   "outputs": [],
   "source": [
    "lin_reg=LinearRegression()\n",
    "_ = lin_reg.fit(X,y) # note the underscore. This is a convention to indicate that the output is not used.\n",
    "\n",
    "\n",
    "# OR, we could combine the two lines above to one as follows...\n",
    "#lin_reg = LinearRegression().fit(X,y)"
   ]
  },
  {
   "cell_type": "markdown",
   "id": "b45e77cb-607a-4ef4-87ae-8fde787ed7ad",
   "metadata": {},
   "source": [
    "## Step 5: Analyze the linear regression model's performance"
   ]
  },
  {
   "cell_type": "markdown",
   "id": "ce57d2bf-91cd-4a8b-9383-621f0b0d1f68",
   "metadata": {},
   "source": [
    "Visualize the linear regression model results"
   ]
  },
  {
   "cell_type": "code",
   "execution_count": 6,
   "id": "847d4c77-85d5-4d8e-a939-6724e34413de",
   "metadata": {},
   "outputs": [
    {
     "data": {
      "image/png": "[encoded data removed]",
      "text/plain": [
       "<Figure size 640x480 with 1 Axes>"
      ]
     },
     "metadata": {},
     "output_type": "display_data"
    }
   ],
   "source": [
    "fig, ax = plt.subplots()\n",
    "\n",
    "original_values = ax.scatter(X, y, color='blue')\n",
    "predicted_values = ax.scatter(X, lin_reg.predict(X), color='red')\n",
    "\n",
    "#legend1 = ax.legend(*scatter.legend_elements(),\n",
    "#                    loc=\"lower left\", title=\"Classes\")\n",
    "#ax.add_artist(legend1)\n",
    "\n",
    "plt.legend((original_values, predicted_values),\n",
    "           ('Original', 'Predicted'),\n",
    "           scatterpoints=1,\n",
    "           loc='lower right',\n",
    "           ncol=1,\n",
    "           fontsize=8)\n",
    "\n",
    "ax.set_title('Linear Regression')\n",
    "ax.set_xlabel('input')\n",
    "ax.set_ylabel('target')\n",
    "plt.tight_layout()\n",
    "plt.show()"
   ]
  },
  {
   "cell_type": "markdown",
   "id": "87030839",
   "metadata": {},
   "source": [
    "Let's find the predicted parameters for this model"
   ]
  },
  {
   "cell_type": "code",
   "execution_count": 7,
   "id": "0fbed7d8",
   "metadata": {},
   "outputs": [],
   "source": [
    "b0 = lin_reg.intercept_[0]\n",
    "b1 = lin_reg.coef_[0][0]"
   ]
  },
  {
   "cell_type": "markdown",
   "id": "14605d8f",
   "metadata": {},
   "source": [
    "And, let's find the R^2 value for this model"
   ]
  },
  {
   "cell_type": "code",
   "execution_count": 8,
   "id": "5b51dcfc",
   "metadata": {},
   "outputs": [],
   "source": [
    "r2 = lin_reg.score(X, y)"
   ]
  },
  {
   "cell_type": "markdown",
   "id": "3119300c-f6c4-41f9-87fd-99915f171fdb",
   "metadata": {},
   "source": [
    "... using fstring formatting, we can display these values as follows..."
   ]
  },
  {
   "cell_type": "code",
   "execution_count": 9,
   "id": "2af1b220-0199-40aa-adc3-aecd7a9bb36d",
   "metadata": {},
   "outputs": [
    {
     "name": "stdout",
     "output_type": "stream",
     "text": [
      "Y = 34.70 + 31.45x\n",
      "R^2: 0.900\n"
     ]
    }
   ],
   "source": [
    "print(f\"Y = {b0:.2f} + {b1:.2f}x\")\n",
    "print(f\"R^2: {lin_reg.score(X, y):.3f}\") \n",
    "# for more on fstrings see here...\n",
    "# https://www.freecodecamp.org/news/python-f-strings-tutorial-how-to-use-f-strings-for-string-formatting/"
   ]
  },
  {
   "cell_type": "markdown",
   "id": "9c92d65e",
   "metadata": {},
   "source": [
    "## Conclusion\n"
   ]
  },
  {
   "cell_type": "markdown",
   "id": "98aaae1e",
   "metadata": {},
   "source": [
    "\n",
    "\n",
    "In this exercise, we have reduced the sample size from 1000 to 100 in the corresponding data generation notebook. We then plotted this original data and the predicted values from the model. The following are the results of decreasing the sample size in the original dataset on the modeling process.\n",
    "\n",
    "From the model1 we have:\n",
    "* b1 = 30.73\n",
    "* b0 = 22.64\n",
    "and R^2 = 0.896\n",
    "\n",
    "For the model1b we found:\n",
    "* b1 = 30.45\n",
    "* b0 = 34.70\n",
    "and R^2 = 0.900\n",
    "\n",
    "We can see that R^2 value has slightly increased from 0.896 to 0.900. But R^2 alone cannot be a metric to decide the goodness of the model in this situation. As the sample size is considerably decreased from 1000 to 100, there is decreased representativeness of the overall data in the modelling process. In this scenario, we cannot generalize the model's findings to the broader population. With the smaller sample size also, there is a higher risk of overfitting.  \n"
   ]
  }
 ],
 "metadata": {
  "kernelspec": {
   "display_name": "Python 3 (ipykernel)",
   "language": "python",
   "name": "python3"
  },
  "language_info": {
   "codemirror_mode": {
    "name": "ipython",
    "version": 3
   },
   "file_extension": ".py",
   "mimetype": "text/x-python",
   "name": "python",
   "nbconvert_exporter": "python",
   "pygments_lexer": "ipython3",
   "version": "3.9.13"
  }
 },
 "nbformat": 4,
 "nbformat_minor": 5
}
