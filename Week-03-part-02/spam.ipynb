{
 "cells": [
  {
   "cell_type": "code",
   "execution_count": null,
   "id": "6a278590-585a-47f5-a68b-23a61502e892",
   "metadata": {},
   "outputs": [],
   "source": []
  },
  {
   "cell_type": "code",
   "execution_count": null,
   "id": "a3ecc7d9-f96d-4c78-903a-8535c699a559",
   "metadata": {},
   "outputs": [],
   "source": []
  },
  {
   "cell_type": "code",
   "execution_count": 1,
   "id": "59db3004-3234-435d-8387-6a0525acc070",
   "metadata": {},
   "outputs": [],
   "source": [
    "# import packages\n",
    "import pandas as pd\n",
    "import numpy as np\n",
    "from sklearn.model_selection import train_test_split, GridSearchCV, RandomizedSearchCV\n",
    "from sklearn.tree import DecisionTreeClassifier\n",
    "from sklearn.ensemble import RandomForestClassifier, GradientBoostingClassifier, AdaBoostClassifier\n",
    "from sklearn.metrics import confusion_matrix, accuracy_score, precision_score, recall_score, f1_score\n",
    "from xgboost import XGBClassifier\n",
    "\n",
    "np.random.seed(86089106)"
   ]
  },
  {
   "cell_type": "code",
   "execution_count": null,
   "id": "714f39ec-19d6-4d47-936b-a82981fbad4e",
   "metadata": {},
   "outputs": [],
   "source": []
  },
  {
   "cell_type": "code",
   "execution_count": 2,
   "id": "486428c9-4add-480a-ac60-63151e1ab562",
   "metadata": {},
   "outputs": [],
   "source": [
    "X_train = pd.read_csv('life-expectancy-X-train_data.csv') \n",
    "y_train = pd.read_csv('life-expectancy-y-train_data.csv') \n",
    "X_test = pd.read_csv('life-expectancy-X-test_data.csv') \n",
    "y_test = pd.read_csv('life-expectancy-y-test_data.csv')"
   ]
  },
  {
   "cell_type": "code",
   "execution_count": null,
   "id": "f5d23caa-a6a3-449a-aafa-34daaa84c85d",
   "metadata": {},
   "outputs": [],
   "source": []
  }
 ],
 "metadata": {
  "kernelspec": {
   "display_name": "Python 3 (ipykernel)",
   "language": "python",
   "name": "python3"
  },
  "language_info": {
   "codemirror_mode": {
    "name": "ipython",
    "version": 3
   },
   "file_extension": ".py",
   "mimetype": "text/x-python",
   "name": "python",
   "nbconvert_exporter": "python",
   "pygments_lexer": "ipython3",
   "version": "3.9.13"
  }
 },
 "nbformat": 4,
 "nbformat_minor": 5
}
