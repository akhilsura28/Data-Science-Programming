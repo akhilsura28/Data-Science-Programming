{
 "cells": [
  {
   "attachments": {},
   "cell_type": "markdown",
   "metadata": {
    "id": "w0tyra0NWJvI"
   },
   "source": [
    "# MNIST machine learning exercise - ICP08 DNN\n",
    "\n",
    "In this exercise, I will be updating 03-keras-hyperparameter-tuning notebook by adding a model loss and model accuracy plot.  I will also discuss how the accuracy plot for the training data differs from the validation data.\n",
    "\n",
    "We use the MNIST data set;\n",
    "\n",
    "![mnist data](https://upload.wikimedia.org/wikipedia/commons/2/27/MnistExamples.png)"
   ]
  },
  {
   "attachments": {},
   "cell_type": "markdown",
   "metadata": {},
   "source": [
    "## Imports and Initialization"
   ]
  },
  {
   "cell_type": "code",
   "execution_count": 1,
   "metadata": {},
   "outputs": [],
   "source": [
    "import os\n",
    "os.environ['TF_CPP_MIN_LOG_LEVEL'] = '3' # (levels are 0 to 2 - default is 0; warnings are 1 and errors are 2)\n",
    "import tensorflow as tf\n"
   ]
  },
  {
   "cell_type": "code",
   "execution_count": 2,
   "metadata": {
    "id": "48VnFR9cXFP0"
   },
   "outputs": [],
   "source": [
    "from __future__ import print_function\n",
    "import numpy as np\n",
    "from sklearn.model_selection import train_test_split\n",
    "import matplotlib.pyplot as plt\n",
    "\n",
    "from tensorflow import keras\n",
    "from tensorflow.keras import layers\n",
    "from sklearn import datasets\n",
    "\n",
    "np.random.seed(1)"
   ]
  },
  {
   "attachments": {},
   "cell_type": "markdown",
   "metadata": {
    "tags": []
   },
   "source": [
    "## Load data (shouldn't need any transformations)\n",
    "\n",
    "> NOTE1: The features of this data are all pixel grayscale values.  All of these measures are the same scale, so we don't need to do any scaling or normalization. If we did have differing scales, we should be sure to scale them to the same range. Neural networks are sensitive to scale, and features with larger scales can dominate the training process.\n",
    "\n",
    "> NOTE2: Some might argue that you should scale every time your fit a neural network. This is a good idea, but it is not necessary if you are using a good optimizer.  We will use the Adam optimizer, which is a good optimizer."
   ]
  },
  {
   "attachments": {},
   "cell_type": "markdown",
   "metadata": {},
   "source": [
    "Load the MNIST digits dataset. It's originally from UCI machine learning library, but included in SKLearn."
   ]
  },
  {
   "cell_type": "code",
   "execution_count": 3,
   "metadata": {
    "colab": {
     "base_uri": "https://localhost:8080/",
     "height": 34
    },
    "id": "M8CjaVlYW2Jx",
    "outputId": "e90a4dd3-3781-477f-b02f-97ac3e75be91"
   },
   "outputs": [],
   "source": [
    "mnist = datasets.load_digits() # sklearn includes this data set .. https://archive.ics.uci.edu/ml/datasets/Optical+Recognition+of+Handwritten+Digits"
   ]
  },
  {
   "cell_type": "code",
   "execution_count": 4,
   "metadata": {
    "colab": {
     "base_uri": "https://localhost:8080/",
     "height": 34
    },
    "id": "rTQ7qNp4ffaW",
    "outputId": "3d267533-ac01-4747-abee-369aae5d3d79"
   },
   "outputs": [
    {
     "name": "stdout",
     "output_type": "stream",
     "text": [
      "1797\n"
     ]
    }
   ],
   "source": [
    "print(len(mnist.data))"
   ]
  },
  {
   "attachments": {},
   "cell_type": "markdown",
   "metadata": {},
   "source": [
    "And, for each image we have a target value"
   ]
  },
  {
   "cell_type": "code",
   "execution_count": 5,
   "metadata": {
    "tags": []
   },
   "outputs": [
    {
     "name": "stdout",
     "output_type": "stream",
     "text": [
      "1797\n"
     ]
    }
   ],
   "source": [
    "print(len(mnist.target))"
   ]
  },
  {
   "attachments": {},
   "cell_type": "markdown",
   "metadata": {},
   "source": [
    "## Split data into training and test sets\n"
   ]
  },
  {
   "cell_type": "code",
   "execution_count": 6,
   "metadata": {},
   "outputs": [],
   "source": [
    "X_train, X_test, y_train, y_test = train_test_split(mnist.data, mnist.target, test_size=0.2, random_state=1)"
   ]
  },
  {
   "attachments": {},
   "cell_type": "markdown",
   "metadata": {},
   "source": [
    "## Keras Hyperparameter tuning"
   ]
  },
  {
   "attachments": {},
   "cell_type": "markdown",
   "metadata": {},
   "source": [
    "Import the libraries we will use"
   ]
  },
  {
   "cell_type": "code",
   "execution_count": 7,
   "metadata": {},
   "outputs": [],
   "source": [
    "import keras_tuner # you will most likely need to install this using ```conda install -c conda-forge keras-tuner``` or ```pip install keras-tuner```\n",
    "from tensorflow import keras\n",
    "from tensorflow.keras import layers"
   ]
  },
  {
   "attachments": {},
   "cell_type": "markdown",
   "metadata": {},
   "source": [
    "Create a function that builds the model. This is used by random search to generate a model for each set of paramete values that keras tuner's RandomSearch function generates. \n",
    "\n",
    "Notice that there are a number of references to 'hp' in this function. Hp is a keras hyper parameter object that RandomSearch will send to our build_model function. The hp.Boolean, hb.Int, hp.Float methods will generate a random value based on the parameters given to each method. \n",
    "\n",
    "These hyperparameter randomization methods are well documented [here](https://keras.io/api/keras_tuner/hyperparameters/).\n",
    "* hp.Boolean\n",
    "* hp.Int\n",
    "* hp.Float\n",
    "* hp.Choice\n",
    "\n",
    "The build_model function will use the random values to create a Keras sequential neural network and return it back to the calling function (RandomSearch that is calling this function)\n",
    "* [Input layer](https://keras.io/api/layers/core_layers/input/)\n",
    "* [Dropout layer](https://keras.io/api/layers/regularization_layers/dropout/)\n",
    "* [Normalization layer](http://keras.io/api/layers/preprocessing_layers/numerical/normalization/)\n",
    "* [Dense layer](https://keras.io/api/layers/core_layers/dense/)\n"
   ]
  },
  {
   "cell_type": "code",
   "execution_count": 8,
   "metadata": {},
   "outputs": [],
   "source": [
    "def build_mnist_model(hp):\n",
    "    model = keras.Sequential()\n",
    "\n",
    "    # create input layer\n",
    "    model.add(layers.Input(64))\n",
    "\n",
    "    # create hidden layers\n",
    "    for i in range(hp.Int(name='hidden_layer_count', min_value=1, max_value=5, step=1)):\n",
    "        model.add(layers.Dense(\n",
    "            units=hp.Int(\"units\", min_value=32, max_value=1024, step=32),\n",
    "            activation=hp.Choice(\"activation\", [\"selu\", \"elu\", \"relu\", \"tanh\"])\n",
    "            ) \n",
    "        )\n",
    "\n",
    "    model.add(layers.Dense(units=10, activation=\"softmax\"))\n",
    "\n",
    "    # Define the optimizer learning rate as a hyperparameter.\n",
    "    lr = hp.Float(\"lr\", min_value=1e-4, max_value=1e-2)   \n",
    "    decay = hp.Float(\"lr\", min_value=0, max_value=1e-4)   \n",
    "    choice = hp.Choice(name='optimizer', values=['adam', 'sgd'])\n",
    "    if 'adam' == choice:\n",
    "#        optimizer = keras.optimizers.legacy.Adam(learning_rate=lr)\n",
    "         optimizer = keras.optimizers.legacy.Adam(learning_rate=lr, decay=decay)\n",
    "    else:\n",
    "#        optimizer = keras.optimizers.legacy.SGD(learning_rate=lr) \n",
    "         optimizer = keras.optimizers.legacy.SGD(learning_rate=lr, decay=decay)  \n",
    "\n",
    "    model.compile(\n",
    "        optimizer=optimizer,\n",
    "        loss=\"sparse_categorical_crossentropy\",\n",
    "        metrics=[\"accuracy\"],\n",
    "    )\n",
    "    return model"
   ]
  },
  {
   "cell_type": "code",
   "execution_count": 9,
   "metadata": {},
   "outputs": [
    {
     "data": {
      "text/plain": [
       "<keras.engine.sequential.Sequential at 0x7f892769e3d0>"
      ]
     },
     "execution_count": 9,
     "metadata": {},
     "output_type": "execute_result"
    }
   ],
   "source": [
    "build_mnist_model(keras_tuner.HyperParameters())"
   ]
  },
  {
   "attachments": {},
   "cell_type": "markdown",
   "metadata": {},
   "source": [
    "We now use our model generating function to conduct a random search to identify the best fitting model (from a random selection of the parameter ranges identified in the build_model function we created above).\n",
    "\n",
    "NOTE: That the number of trials represents the number of unique combinations of hyperparameters that will be tested. the executions per trial are how many trials of of a model with this chosen set of parameters will be tested. So, if we have 10 trials and 3 executions, we will train 30 times... 3 times per each 10 sets of parameters."
   ]
  },
  {
   "cell_type": "code",
   "execution_count": 10,
   "metadata": {
    "tags": []
   },
   "outputs": [],
   "source": [
    "tuner = keras_tuner.RandomSearch(\n",
    "    hypermodel=build_mnist_model,\n",
    "    objective=\"accuracy\",\n",
    "    max_trials=25, # max_trials represents the number of hyperparameter combinations that will be tested by the tuner (like n_iter in sklearn random search)\n",
    "    executions_per_trial=2, # max number of models to fit per set of set of hyperparameters combinations\n",
    "    directory='keras_tuner_dir',\n",
    "    project_name='kt_intro_mnist',\n",
    "    overwrite=True\n",
    ")\n",
    "\n",
    "tuner.save()\n"
   ]
  },
  {
   "attachments": {},
   "cell_type": "markdown",
   "metadata": {},
   "source": [
    "Get a summary of the overal 'search space' (all the possible paremater values)."
   ]
  },
  {
   "cell_type": "code",
   "execution_count": 11,
   "metadata": {
    "tags": []
   },
   "outputs": [
    {
     "name": "stdout",
     "output_type": "stream",
     "text": [
      "Search space summary\n",
      "Default search space size: 5\n",
      "hidden_layer_count (Int)\n",
      "{'default': None, 'conditions': [], 'min_value': 1, 'max_value': 5, 'step': 1, 'sampling': 'linear'}\n",
      "units (Int)\n",
      "{'default': None, 'conditions': [], 'min_value': 32, 'max_value': 1024, 'step': 32, 'sampling': 'linear'}\n",
      "activation (Choice)\n",
      "{'default': 'selu', 'conditions': [], 'values': ['selu', 'elu', 'relu', 'tanh'], 'ordered': False}\n",
      "lr (Float)\n",
      "{'default': 0.0001, 'conditions': [], 'min_value': 0.0001, 'max_value': 0.01, 'step': None, 'sampling': 'linear'}\n",
      "optimizer (Choice)\n",
      "{'default': 'adam', 'conditions': [], 'values': ['adam', 'sgd'], 'ordered': False}\n"
     ]
    }
   ],
   "source": [
    "tuner.search_space_summary()"
   ]
  },
  {
   "attachments": {},
   "cell_type": "markdown",
   "metadata": {},
   "source": [
    "Train the model..."
   ]
  },
  {
   "cell_type": "code",
   "execution_count": 12,
   "metadata": {
    "tags": []
   },
   "outputs": [
    {
     "name": "stdout",
     "output_type": "stream",
     "text": [
      "Trial 25 Complete [00h 00m 02s]\n",
      "accuracy: 1.0\n",
      "\n",
      "Best accuracy So Far: 1.0\n",
      "Total elapsed time: 00h 02m 38s\n",
      "INFO:tensorflow:Oracle triggered exit\n",
      "CPU times: user 8min 31s, sys: 38.4 s, total: 9min 9s\n",
      "Wall time: 2min 38s\n"
     ]
    }
   ],
   "source": [
    "%%time\n",
    "tuner.search(X_train, y_train, epochs=10, batch_size=13, validation_data=(X_test, y_test))"
   ]
  },
  {
   "cell_type": "code",
   "execution_count": 13,
   "metadata": {},
   "outputs": [
    {
     "name": "stdout",
     "output_type": "stream",
     "text": [
      "Model: \"sequential\"\n",
      "_________________________________________________________________\n",
      " Layer (type)                Output Shape              Param #   \n",
      "=================================================================\n",
      " dense (Dense)               (None, 768)               49920     \n",
      "                                                                 \n",
      " dense_1 (Dense)             (None, 768)               590592    \n",
      "                                                                 \n",
      " dense_2 (Dense)             (None, 768)               590592    \n",
      "                                                                 \n",
      " dense_3 (Dense)             (None, 768)               590592    \n",
      "                                                                 \n",
      " dense_4 (Dense)             (None, 768)               590592    \n",
      "                                                                 \n",
      " dense_5 (Dense)             (None, 10)                7690      \n",
      "                                                                 \n",
      "=================================================================\n",
      "Total params: 2,419,978\n",
      "Trainable params: 2,419,978\n",
      "Non-trainable params: 0\n",
      "_________________________________________________________________\n",
      "Model: \"sequential\"\n",
      "_________________________________________________________________\n",
      " Layer (type)                Output Shape              Param #   \n",
      "=================================================================\n",
      " dense (Dense)               (None, 320)               20800     \n",
      "                                                                 \n",
      " dense_1 (Dense)             (None, 320)               102720    \n",
      "                                                                 \n",
      " dense_2 (Dense)             (None, 320)               102720    \n",
      "                                                                 \n",
      " dense_3 (Dense)             (None, 10)                3210      \n",
      "                                                                 \n",
      "=================================================================\n",
      "Total params: 229,450\n",
      "Trainable params: 229,450\n",
      "Non-trainable params: 0\n",
      "_________________________________________________________________\n",
      "Model: \"sequential\"\n",
      "_________________________________________________________________\n",
      " Layer (type)                Output Shape              Param #   \n",
      "=================================================================\n",
      " dense (Dense)               (None, 288)               18720     \n",
      "                                                                 \n",
      " dense_1 (Dense)             (None, 288)               83232     \n",
      "                                                                 \n",
      " dense_2 (Dense)             (None, 288)               83232     \n",
      "                                                                 \n",
      " dense_3 (Dense)             (None, 288)               83232     \n",
      "                                                                 \n",
      " dense_4 (Dense)             (None, 10)                2890      \n",
      "                                                                 \n",
      "=================================================================\n",
      "Total params: 271,306\n",
      "Trainable params: 271,306\n",
      "Non-trainable params: 0\n",
      "_________________________________________________________________\n",
      "Model: \"sequential\"\n",
      "_________________________________________________________________\n",
      " Layer (type)                Output Shape              Param #   \n",
      "=================================================================\n",
      " dense (Dense)               (None, 960)               62400     \n",
      "                                                                 \n",
      " dense_1 (Dense)             (None, 960)               922560    \n",
      "                                                                 \n",
      " dense_2 (Dense)             (None, 10)                9610      \n",
      "                                                                 \n",
      "=================================================================\n",
      "Total params: 994,570\n",
      "Trainable params: 994,570\n",
      "Non-trainable params: 0\n",
      "_________________________________________________________________\n",
      "Model: \"sequential\"\n",
      "_________________________________________________________________\n",
      " Layer (type)                Output Shape              Param #   \n",
      "=================================================================\n",
      " dense (Dense)               (None, 768)               49920     \n",
      "                                                                 \n",
      " dense_1 (Dense)             (None, 768)               590592    \n",
      "                                                                 \n",
      " dense_2 (Dense)             (None, 768)               590592    \n",
      "                                                                 \n",
      " dense_3 (Dense)             (None, 768)               590592    \n",
      "                                                                 \n",
      " dense_4 (Dense)             (None, 10)                7690      \n",
      "                                                                 \n",
      "=================================================================\n",
      "Total params: 1,829,386\n",
      "Trainable params: 1,829,386\n",
      "Non-trainable params: 0\n",
      "_________________________________________________________________\n",
      "WARNING:tensorflow:Detecting that an object or model or tf.train.Checkpoint is being deleted with unrestored values. See the following logs for the specific values in question. To silence these warnings, use `status.expect_partial()`. See https://www.tensorflow.org/api_docs/python/tf/train/Checkpoint#restorefor details about the status object returned by the restore function.\n",
      "WARNING:tensorflow:Value in checkpoint could not be found in the restored object: (root).optimizer.iter\n",
      "WARNING:tensorflow:Value in checkpoint could not be found in the restored object: (root).optimizer.beta_1\n",
      "WARNING:tensorflow:Value in checkpoint could not be found in the restored object: (root).optimizer.beta_2\n",
      "WARNING:tensorflow:Value in checkpoint could not be found in the restored object: (root).optimizer.decay\n",
      "WARNING:tensorflow:Value in checkpoint could not be found in the restored object: (root).optimizer.learning_rate\n",
      "WARNING:tensorflow:Detecting that an object or model or tf.train.Checkpoint is being deleted with unrestored values. See the following logs for the specific values in question. To silence these warnings, use `status.expect_partial()`. See https://www.tensorflow.org/api_docs/python/tf/train/Checkpoint#restorefor details about the status object returned by the restore function.\n",
      "WARNING:tensorflow:Value in checkpoint could not be found in the restored object: (root).optimizer.iter\n",
      "WARNING:tensorflow:Value in checkpoint could not be found in the restored object: (root).optimizer.beta_1\n",
      "WARNING:tensorflow:Value in checkpoint could not be found in the restored object: (root).optimizer.beta_2\n",
      "WARNING:tensorflow:Value in checkpoint could not be found in the restored object: (root).optimizer.decay\n",
      "WARNING:tensorflow:Value in checkpoint could not be found in the restored object: (root).optimizer.learning_rate\n",
      "WARNING:tensorflow:Detecting that an object or model or tf.train.Checkpoint is being deleted with unrestored values. See the following logs for the specific values in question. To silence these warnings, use `status.expect_partial()`. See https://www.tensorflow.org/api_docs/python/tf/train/Checkpoint#restorefor details about the status object returned by the restore function.\n",
      "WARNING:tensorflow:Value in checkpoint could not be found in the restored object: (root).optimizer.iter\n",
      "WARNING:tensorflow:Value in checkpoint could not be found in the restored object: (root).optimizer.beta_1\n",
      "WARNING:tensorflow:Value in checkpoint could not be found in the restored object: (root).optimizer.beta_2\n",
      "WARNING:tensorflow:Value in checkpoint could not be found in the restored object: (root).optimizer.decay\n",
      "WARNING:tensorflow:Value in checkpoint could not be found in the restored object: (root).optimizer.learning_rate\n",
      "WARNING:tensorflow:Detecting that an object or model or tf.train.Checkpoint is being deleted with unrestored values. See the following logs for the specific values in question. To silence these warnings, use `status.expect_partial()`. See https://www.tensorflow.org/api_docs/python/tf/train/Checkpoint#restorefor details about the status object returned by the restore function.\n",
      "WARNING:tensorflow:Value in checkpoint could not be found in the restored object: (root).optimizer.iter\n",
      "WARNING:tensorflow:Value in checkpoint could not be found in the restored object: (root).optimizer.decay\n",
      "WARNING:tensorflow:Value in checkpoint could not be found in the restored object: (root).optimizer.learning_rate\n",
      "WARNING:tensorflow:Value in checkpoint could not be found in the restored object: (root).optimizer.momentum\n"
     ]
    }
   ],
   "source": [
    "for best_model in tuner.get_best_models(num_models=5):\n",
    "    best_model.summary()"
   ]
  },
  {
   "cell_type": "code",
   "execution_count": 14,
   "metadata": {},
   "outputs": [
    {
     "name": "stdout",
     "output_type": "stream",
     "text": [
      "Results summary\n",
      "Results in keras_tuner_dir/kt_intro_mnist\n",
      "Showing 10 best trials\n",
      "Objective(name=\"accuracy\", direction=\"max\")\n",
      "\n",
      "Trial 05 summary\n",
      "Hyperparameters:\n",
      "hidden_layer_count: 5\n",
      "units: 768\n",
      "activation: selu\n",
      "lr: 0.007951076637625471\n",
      "optimizer: sgd\n",
      "Score: 1.0\n",
      "\n",
      "Trial 12 summary\n",
      "Hyperparameters:\n",
      "hidden_layer_count: 3\n",
      "units: 320\n",
      "activation: tanh\n",
      "lr: 0.00266909905228923\n",
      "optimizer: adam\n",
      "Score: 1.0\n",
      "\n",
      "Trial 13 summary\n",
      "Hyperparameters:\n",
      "hidden_layer_count: 4\n",
      "units: 288\n",
      "activation: selu\n",
      "lr: 0.0030212714248323723\n",
      "optimizer: adam\n",
      "Score: 1.0\n",
      "\n",
      "Trial 14 summary\n",
      "Hyperparameters:\n",
      "hidden_layer_count: 2\n",
      "units: 960\n",
      "activation: elu\n",
      "lr: 0.005589100868776141\n",
      "optimizer: adam\n",
      "Score: 1.0\n",
      "\n",
      "Trial 15 summary\n",
      "Hyperparameters:\n",
      "hidden_layer_count: 4\n",
      "units: 768\n",
      "activation: relu\n",
      "lr: 0.0007776107450759988\n",
      "optimizer: adam\n",
      "Score: 1.0\n",
      "\n",
      "Trial 18 summary\n",
      "Hyperparameters:\n",
      "hidden_layer_count: 3\n",
      "units: 544\n",
      "activation: relu\n",
      "lr: 0.007470529723881079\n",
      "optimizer: adam\n",
      "Score: 1.0\n",
      "\n",
      "Trial 23 summary\n",
      "Hyperparameters:\n",
      "hidden_layer_count: 4\n",
      "units: 416\n",
      "activation: tanh\n",
      "lr: 0.0019579807854277877\n",
      "optimizer: adam\n",
      "Score: 1.0\n",
      "\n",
      "Trial 24 summary\n",
      "Hyperparameters:\n",
      "hidden_layer_count: 2\n",
      "units: 160\n",
      "activation: selu\n",
      "lr: 0.008422558503998444\n",
      "optimizer: adam\n",
      "Score: 1.0\n",
      "\n",
      "Trial 22 summary\n",
      "Hyperparameters:\n",
      "hidden_layer_count: 5\n",
      "units: 288\n",
      "activation: selu\n",
      "lr: 0.0029466509558450592\n",
      "optimizer: adam\n",
      "Score: 0.9996520578861237\n",
      "\n",
      "Trial 02 summary\n",
      "Hyperparameters:\n",
      "hidden_layer_count: 3\n",
      "units: 928\n",
      "activation: selu\n",
      "lr: 0.003337616153027868\n",
      "optimizer: adam\n",
      "Score: 0.998956173658371\n"
     ]
    }
   ],
   "source": [
    "tuner.results_summary()"
   ]
  },
  {
   "cell_type": "code",
   "execution_count": 15,
   "metadata": {},
   "outputs": [
    {
     "data": {
      "text/plain": [
       "{'hidden_layer_count': 5,\n",
       " 'units': 768,\n",
       " 'activation': 'selu',\n",
       " 'lr': 0.007951076637625471,\n",
       " 'optimizer': 'sgd'}"
      ]
     },
     "execution_count": 15,
     "metadata": {},
     "output_type": "execute_result"
    }
   ],
   "source": [
    "best_hps = tuner.get_best_hyperparameters(5)\n",
    "best_hps[0].values"
   ]
  },
  {
   "attachments": {},
   "cell_type": "markdown",
   "metadata": {},
   "source": [
    "Let's get an overview of the structure of the top model (set of parameters) found."
   ]
  },
  {
   "cell_type": "code",
   "execution_count": 16,
   "metadata": {},
   "outputs": [
    {
     "name": "stdout",
     "output_type": "stream",
     "text": [
      "WARNING:tensorflow:Detecting that an object or model or tf.train.Checkpoint is being deleted with unrestored values. See the following logs for the specific values in question. To silence these warnings, use `status.expect_partial()`. See https://www.tensorflow.org/api_docs/python/tf/train/Checkpoint#restorefor details about the status object returned by the restore function.\n",
      "WARNING:tensorflow:Value in checkpoint could not be found in the restored object: (root).optimizer.iter\n",
      "WARNING:tensorflow:Value in checkpoint could not be found in the restored object: (root).optimizer.beta_1\n",
      "WARNING:tensorflow:Value in checkpoint could not be found in the restored object: (root).optimizer.beta_2\n",
      "WARNING:tensorflow:Value in checkpoint could not be found in the restored object: (root).optimizer.decay\n",
      "WARNING:tensorflow:Value in checkpoint could not be found in the restored object: (root).optimizer.learning_rate\n",
      "Model: \"sequential\"\n",
      "_________________________________________________________________\n",
      " Layer (type)                Output Shape              Param #   \n",
      "=================================================================\n",
      " dense (Dense)               (None, 768)               49920     \n",
      "                                                                 \n",
      " dense_1 (Dense)             (None, 768)               590592    \n",
      "                                                                 \n",
      " dense_2 (Dense)             (None, 768)               590592    \n",
      "                                                                 \n",
      " dense_3 (Dense)             (None, 768)               590592    \n",
      "                                                                 \n",
      " dense_4 (Dense)             (None, 768)               590592    \n",
      "                                                                 \n",
      " dense_5 (Dense)             (None, 10)                7690      \n",
      "                                                                 \n",
      "=================================================================\n",
      "Total params: 2,419,978\n",
      "Trainable params: 2,419,978\n",
      "Non-trainable params: 0\n",
      "_________________________________________________________________\n"
     ]
    }
   ],
   "source": [
    "# Get list of the top 2 models.\n",
    "#models = tuner.get_best_models(num_models=1)\n",
    "models = tuner.get_best_models()\n",
    "\n",
    "# select the first one in the list (this is the best performing model)\n",
    "best_model = models[0] # select the first one\n",
    "\n",
    "# display summary of model training\n",
    "best_model.summary()\n",
    "\n",
    "# NOTE: If you get them, y=ou can ignore warnings about tf.train.Checkpoint."
   ]
  },
  {
   "cell_type": "code",
   "execution_count": 17,
   "metadata": {},
   "outputs": [
    {
     "name": "stdout",
     "output_type": "stream",
     "text": [
      "Epoch 1/40\n",
      "13/13 [==============================] - 0s 22ms/step - loss: 0.0073 - accuracy: 1.0000 - val_loss: 0.0679 - val_accuracy: 0.9833\n",
      "Epoch 2/40\n",
      "13/13 [==============================] - 0s 16ms/step - loss: 0.0073 - accuracy: 1.0000 - val_loss: 0.0679 - val_accuracy: 0.9833\n",
      "Epoch 3/40\n",
      "13/13 [==============================] - 0s 16ms/step - loss: 0.0072 - accuracy: 1.0000 - val_loss: 0.0679 - val_accuracy: 0.9833\n",
      "Epoch 4/40\n",
      "13/13 [==============================] - 0s 16ms/step - loss: 0.0072 - accuracy: 1.0000 - val_loss: 0.0679 - val_accuracy: 0.9833\n",
      "Epoch 5/40\n",
      "13/13 [==============================] - 0s 16ms/step - loss: 0.0071 - accuracy: 1.0000 - val_loss: 0.0678 - val_accuracy: 0.9833\n",
      "Epoch 6/40\n",
      "13/13 [==============================] - 0s 16ms/step - loss: 0.0071 - accuracy: 1.0000 - val_loss: 0.0678 - val_accuracy: 0.9833\n",
      "Epoch 7/40\n",
      "13/13 [==============================] - 0s 16ms/step - loss: 0.0071 - accuracy: 1.0000 - val_loss: 0.0678 - val_accuracy: 0.9833\n",
      "Epoch 8/40\n",
      "13/13 [==============================] - 0s 16ms/step - loss: 0.0071 - accuracy: 1.0000 - val_loss: 0.0677 - val_accuracy: 0.9833\n",
      "Epoch 9/40\n",
      "13/13 [==============================] - 0s 16ms/step - loss: 0.0070 - accuracy: 1.0000 - val_loss: 0.0677 - val_accuracy: 0.9833\n",
      "Epoch 10/40\n",
      "13/13 [==============================] - 0s 16ms/step - loss: 0.0070 - accuracy: 1.0000 - val_loss: 0.0677 - val_accuracy: 0.9833\n",
      "Epoch 11/40\n",
      "13/13 [==============================] - 0s 16ms/step - loss: 0.0070 - accuracy: 1.0000 - val_loss: 0.0676 - val_accuracy: 0.9833\n",
      "Epoch 12/40\n",
      "13/13 [==============================] - 0s 16ms/step - loss: 0.0069 - accuracy: 1.0000 - val_loss: 0.0676 - val_accuracy: 0.9833\n",
      "Epoch 13/40\n",
      "13/13 [==============================] - 0s 16ms/step - loss: 0.0069 - accuracy: 1.0000 - val_loss: 0.0675 - val_accuracy: 0.9833\n",
      "Epoch 14/40\n",
      "13/13 [==============================] - 0s 16ms/step - loss: 0.0069 - accuracy: 1.0000 - val_loss: 0.0675 - val_accuracy: 0.9833\n",
      "Epoch 15/40\n",
      "13/13 [==============================] - 0s 16ms/step - loss: 0.0069 - accuracy: 1.0000 - val_loss: 0.0675 - val_accuracy: 0.9833\n",
      "Epoch 16/40\n",
      "13/13 [==============================] - 0s 16ms/step - loss: 0.0068 - accuracy: 1.0000 - val_loss: 0.0674 - val_accuracy: 0.9833\n",
      "Epoch 17/40\n",
      "13/13 [==============================] - 0s 16ms/step - loss: 0.0068 - accuracy: 1.0000 - val_loss: 0.0674 - val_accuracy: 0.9833\n",
      "Epoch 18/40\n",
      "13/13 [==============================] - 0s 16ms/step - loss: 0.0068 - accuracy: 1.0000 - val_loss: 0.0674 - val_accuracy: 0.9833\n",
      "Epoch 19/40\n",
      "13/13 [==============================] - 0s 16ms/step - loss: 0.0068 - accuracy: 1.0000 - val_loss: 0.0673 - val_accuracy: 0.9833\n",
      "Epoch 20/40\n",
      "13/13 [==============================] - 0s 16ms/step - loss: 0.0067 - accuracy: 1.0000 - val_loss: 0.0673 - val_accuracy: 0.9833\n",
      "Epoch 21/40\n",
      "13/13 [==============================] - 0s 16ms/step - loss: 0.0067 - accuracy: 1.0000 - val_loss: 0.0672 - val_accuracy: 0.9833\n",
      "Epoch 22/40\n",
      "13/13 [==============================] - 0s 16ms/step - loss: 0.0067 - accuracy: 1.0000 - val_loss: 0.0672 - val_accuracy: 0.9833\n",
      "Epoch 23/40\n",
      "13/13 [==============================] - 0s 16ms/step - loss: 0.0067 - accuracy: 1.0000 - val_loss: 0.0672 - val_accuracy: 0.9833\n",
      "Epoch 24/40\n",
      "13/13 [==============================] - 0s 16ms/step - loss: 0.0066 - accuracy: 1.0000 - val_loss: 0.0671 - val_accuracy: 0.9833\n",
      "Epoch 25/40\n",
      "13/13 [==============================] - 0s 16ms/step - loss: 0.0066 - accuracy: 1.0000 - val_loss: 0.0671 - val_accuracy: 0.9833\n",
      "Epoch 26/40\n",
      "13/13 [==============================] - 0s 16ms/step - loss: 0.0066 - accuracy: 1.0000 - val_loss: 0.0671 - val_accuracy: 0.9833\n",
      "Epoch 27/40\n",
      "13/13 [==============================] - 0s 16ms/step - loss: 0.0066 - accuracy: 1.0000 - val_loss: 0.0670 - val_accuracy: 0.9833\n",
      "Epoch 28/40\n",
      "13/13 [==============================] - 0s 16ms/step - loss: 0.0066 - accuracy: 1.0000 - val_loss: 0.0670 - val_accuracy: 0.9833\n",
      "Epoch 29/40\n",
      "13/13 [==============================] - 0s 16ms/step - loss: 0.0065 - accuracy: 1.0000 - val_loss: 0.0670 - val_accuracy: 0.9833\n",
      "Epoch 30/40\n",
      "13/13 [==============================] - 0s 16ms/step - loss: 0.0065 - accuracy: 1.0000 - val_loss: 0.0669 - val_accuracy: 0.9833\n",
      "Epoch 31/40\n",
      "13/13 [==============================] - 0s 16ms/step - loss: 0.0065 - accuracy: 1.0000 - val_loss: 0.0669 - val_accuracy: 0.9833\n",
      "Epoch 32/40\n",
      "13/13 [==============================] - 0s 16ms/step - loss: 0.0065 - accuracy: 1.0000 - val_loss: 0.0669 - val_accuracy: 0.9833\n",
      "Epoch 33/40\n",
      "13/13 [==============================] - 0s 16ms/step - loss: 0.0065 - accuracy: 1.0000 - val_loss: 0.0669 - val_accuracy: 0.9833\n",
      "Epoch 34/40\n",
      "13/13 [==============================] - 0s 16ms/step - loss: 0.0064 - accuracy: 1.0000 - val_loss: 0.0668 - val_accuracy: 0.9833\n",
      "Epoch 35/40\n",
      "13/13 [==============================] - 0s 16ms/step - loss: 0.0064 - accuracy: 1.0000 - val_loss: 0.0668 - val_accuracy: 0.9833\n",
      "Epoch 36/40\n",
      "13/13 [==============================] - 0s 16ms/step - loss: 0.0064 - accuracy: 1.0000 - val_loss: 0.0668 - val_accuracy: 0.9833\n",
      "Epoch 37/40\n",
      "13/13 [==============================] - 0s 17ms/step - loss: 0.0064 - accuracy: 1.0000 - val_loss: 0.0667 - val_accuracy: 0.9833\n",
      "Epoch 38/40\n",
      "13/13 [==============================] - 0s 16ms/step - loss: 0.0064 - accuracy: 1.0000 - val_loss: 0.0667 - val_accuracy: 0.9833\n",
      "Epoch 39/40\n",
      "13/13 [==============================] - 0s 16ms/step - loss: 0.0063 - accuracy: 1.0000 - val_loss: 0.0667 - val_accuracy: 0.9833\n",
      "Epoch 40/40\n",
      "13/13 [==============================] - 0s 16ms/step - loss: 0.0063 - accuracy: 1.0000 - val_loss: 0.0667 - val_accuracy: 0.9833\n"
     ]
    }
   ],
   "source": [
    "history = best_model.fit(X_train, y_train, epochs=40, batch_size=111, validation_data=(X_test, y_test))"
   ]
  },
  {
   "cell_type": "code",
   "execution_count": 18,
   "metadata": {},
   "outputs": [
    {
     "name": "stdout",
     "output_type": "stream",
     "text": [
      "12/12 [==============================] - 0s 4ms/step - loss: 0.0667 - accuracy: 0.9833\n",
      "Loss 0.06665\n",
      "Accuracy 0.98333\n"
     ]
    }
   ],
   "source": [
    "loss, accuracy = best_model.evaluate(X_test, y_test)\n",
    "print(f\"Loss {loss:.5f}\\nAccuracy {accuracy:.5f}\")"
   ]
  },
  {
   "cell_type": "code",
   "execution_count": 19,
   "metadata": {},
   "outputs": [
    {
     "name": "stdout",
     "output_type": "stream",
     "text": [
      "dict_keys(['loss', 'accuracy', 'val_loss', 'val_accuracy'])\n"
     ]
    }
   ],
   "source": [
    "# list all data in history\n",
    "print(history.history.keys())"
   ]
  },
  {
   "cell_type": "code",
   "execution_count": 20,
   "metadata": {},
   "outputs": [
    {
     "data": {
      "image/png": "[encoded data removed]",
      "text/plain": [
       "<Figure size 640x480 with 1 Axes>"
      ]
     },
     "metadata": {},
     "output_type": "display_data"
    }
   ],
   "source": [
    "# summarize history for accuracy\n",
    "plt.plot(history.history['accuracy'])\n",
    "plt.plot(history.history['val_accuracy'])\n",
    "plt.title('model accuracy')\n",
    "plt.ylabel('accuracy')\n",
    "plt.xlabel('epoch')\n",
    "plt.legend(['train', 'validation'], loc='upper left')\n",
    "plt.show()\n"
   ]
  },
  {
   "cell_type": "code",
   "execution_count": 21,
   "metadata": {},
   "outputs": [
    {
     "data": {
      "image/png": "[encoded data removed]",
      "text/plain": [
       "<Figure size 640x480 with 1 Axes>"
      ]
     },
     "metadata": {},
     "output_type": "display_data"
    }
   ],
   "source": [
    "# summarize history for loss\n",
    "plt.plot(history.history['loss'])\n",
    "plt.plot(history.history['val_loss'])\n",
    "plt.title('model loss')\n",
    "plt.ylabel('loss')\n",
    "plt.xlabel('epoch')\n",
    "plt.legend(['train', 'validation'], loc='upper left')\n",
    "plt.show()"
   ]
  },
  {
   "attachments": {},
   "cell_type": "markdown",
   "metadata": {},
   "source": [
    "## Investigating the Confusion Matrix"
   ]
  },
  {
   "attachments": {},
   "cell_type": "markdown",
   "metadata": {},
   "source": [
    "We can use sklearn's classification report and confusion matrix functions to see how well our model did at predicting the correct digit.\n",
    "\n",
    "First though, we need get predictions from our model for the test data. "
   ]
  },
  {
   "cell_type": "code",
   "execution_count": 22,
   "metadata": {},
   "outputs": [
    {
     "name": "stdout",
     "output_type": "stream",
     "text": [
      "12/12 [==============================] - 0s 4ms/step\n"
     ]
    }
   ],
   "source": [
    "y_pred = best_model.predict(X_test)"
   ]
  },
  {
   "attachments": {},
   "cell_type": "markdown",
   "metadata": {},
   "source": [
    "But, the resulting predictions are an array of 10 values, each with a probability associated with each of the 10 digits. We need to convert this to a single digit prediction. We can do this by using the argmax function to get the index of the highest probability value."
   ]
  },
  {
   "cell_type": "code",
   "execution_count": 23,
   "metadata": {},
   "outputs": [
    {
     "data": {
      "text/plain": [
       "array([1.2688751e-08, 9.9916351e-01, 1.3678849e-05, 8.9975352e-09,\n",
       "       2.3465836e-05, 2.6129641e-07, 4.5513574e-05, 3.6761387e-06,\n",
       "       7.4990623e-04, 6.0443618e-08], dtype=float32)"
      ]
     },
     "execution_count": 23,
     "metadata": {},
     "output_type": "execute_result"
    }
   ],
   "source": [
    "y_pred[0] # note that the results from the model are probabilities for each class"
   ]
  },
  {
   "cell_type": "code",
   "execution_count": 24,
   "metadata": {},
   "outputs": [
    {
     "data": {
      "text/plain": [
       "1.0000001"
      ]
     },
     "execution_count": 24,
     "metadata": {},
     "output_type": "execute_result"
    }
   ],
   "source": [
    "y_pred[0].sum() # the probabilities sum to 1; this is a requirement for a softmax output layer"
   ]
  },
  {
   "cell_type": "code",
   "execution_count": 25,
   "metadata": {},
   "outputs": [],
   "source": [
    "y_pred = y_pred.argmax(axis=1) # convert the probabilities to class labels"
   ]
  },
  {
   "cell_type": "code",
   "execution_count": 26,
   "metadata": {},
   "outputs": [
    {
     "data": {
      "text/plain": [
       "array([1, 5, 0, 7, 1, 0, 6, 1, 5, 4])"
      ]
     },
     "execution_count": 26,
     "metadata": {},
     "output_type": "execute_result"
    }
   ],
   "source": [
    "y_pred[0:10] # the class labels for the first 10 test samples\n"
   ]
  },
  {
   "attachments": {},
   "cell_type": "markdown",
   "metadata": {},
   "source": [
    "Now that we have the labeled predictions, let's use these to evaluate the model peformance and diplay the confusion matrix."
   ]
  },
  {
   "cell_type": "code",
   "execution_count": 27,
   "metadata": {},
   "outputs": [
    {
     "name": "stdout",
     "output_type": "stream",
     "text": [
      "              precision    recall  f1-score   support\n",
      "\n",
      "           0     1.0000    0.9767    0.9882        43\n",
      "           1     1.0000    1.0000    1.0000        35\n",
      "           2     1.0000    1.0000    1.0000        36\n",
      "           3     1.0000    1.0000    1.0000        41\n",
      "           4     0.9744    1.0000    0.9870        38\n",
      "           5     0.9375    1.0000    0.9677        30\n",
      "           6     1.0000    1.0000    1.0000        37\n",
      "           7     1.0000    0.9459    0.9722        37\n",
      "           8     0.9643    0.9310    0.9474        29\n",
      "           9     0.9429    0.9706    0.9565        34\n",
      "\n",
      "    accuracy                         0.9833       360\n",
      "   macro avg     0.9819    0.9824    0.9819       360\n",
      "weighted avg     0.9838    0.9833    0.9833       360\n",
      "\n"
     ]
    }
   ],
   "source": [
    "from sklearn.metrics import classification_report\n",
    "print(classification_report(y_test, y_pred, digits=4))"
   ]
  },
  {
   "cell_type": "code",
   "execution_count": 28,
   "metadata": {
    "tags": []
   },
   "outputs": [
    {
     "name": "stdout",
     "output_type": "stream",
     "text": [
      "[(0, 43), (1, 35), (2, 36), (3, 41), (4, 38), (5, 30), (6, 37), (7, 37), (8, 29), (9, 34)]\n"
     ]
    },
    {
     "data": {
      "image/png": "[encoded data removed]",
      "text/plain": [
       "<Figure size 640x480 with 2 Axes>"
      ]
     },
     "metadata": {},
     "output_type": "display_data"
    }
   ],
   "source": [
    "from sklearn.metrics import ConfusionMatrixDisplay\n",
    "from sklearn.metrics import confusion_matrix\n",
    "import collections\n",
    "\n",
    "# for reference, list the frequency of each digit found in the y_test data\n",
    "print(sorted(collections.Counter(y_test).items(), key=lambda i: i[0]))\n",
    "      \n",
    "# display the confusion matrix\n",
    "cm = confusion_matrix(y_test, y_pred)  #\n",
    "disp = ConfusionMatrixDisplay(confusion_matrix=cm)\n",
    "disp.plot(cmap=plt.cm.Blues)\n",
    "plt.show()"
   ]
  },
  {
   "attachments": {},
   "cell_type": "markdown",
   "metadata": {},
   "source": [
    "## Conclusion\n",
    "\n",
    "In the above graphs, the accuracy and loss plots for both the training data and the validation data are shown over 40 epochs of a training process.\n",
    "\n",
    "1. Accuracy Plot:\n",
    "   - Training Data: The accuracy plot for the training data shows a steady increase over the epochs, reaching 100% accuracy by the end. This indicates that the model is learning and fitting well to the training data.\n",
    "   - Validation Data: The accuracy plot for the validation data remains consistently high throughout the epochs, hovering around 98.33% accuracy. This suggests that the model is generalizing well to unseen data and is not overfitting, as the accuracy on the validation set is close to the accuracy on the training set.\n",
    "\n",
    "2. Loss Plot:\n",
    "   - Training Data: The loss plot for the training data shows a steady decrease over the epochs, indicating that the model is improving its predictions. The loss reaches a relatively low value of 0.0063 by the end of training.\n",
    "   - Validation Data: The loss plot for the validation data follows a similar pattern as the training data, decreasing steadily over the epochs. The loss on the validation set also reaches a low value of 0.0667. This suggests that the model is generalizing well to unseen data, as the loss on the validation set is close to the loss on the training set.\n",
    "\n",
    "Overall, the observations indicate that the model is learning the patterns in the training data effectively, but there might be some limitations when generalizing to new, unseen handwritten digits. Further analysis and evaluation are necessary to fully assess the model's performance in this context."
   ]
  }
 ],
 "metadata": {
  "colab": {
   "authorship_tag": "ABX9TyOig4eSm144+FaPk1GKk187",
   "collapsed_sections": [],
   "include_colab_link": true,
   "name": "mnist_compete_3_models.ipynb",
   "provenance": []
  },
  "kernelspec": {
   "display_name": "Python 3 (ipykernel)",
   "language": "python",
   "name": "python3"
  },
  "language_info": {
   "codemirror_mode": {
    "name": "ipython",
    "version": 3
   },
   "file_extension": ".py",
   "mimetype": "text/x-python",
   "name": "python",
   "nbconvert_exporter": "python",
   "pygments_lexer": "ipython3",
   "version": "3.9.16"
  },
  "vscode": {
   "interpreter": {
    "hash": "b056086e24cb5602cbcb82122035cd3d6ee2ccbf5df29c16e348c108b0f83be3"
   }
  }
 },
 "nbformat": 4,
 "nbformat_minor": 4
}
