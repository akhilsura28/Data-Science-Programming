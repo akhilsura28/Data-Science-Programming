{
 "cells": [
  {
   "attachments": {},
   "cell_type": "markdown",
   "metadata": {
    "id": "w0tyra0NWJvI"
   },
   "source": [
    "# MNIST machine learning exercise\n",
    "\n",
    "In this exercise we will demonstrate the use of Keras and Keras Tune to identify a feedforward neural network that best predicts the a handwritten digit. \n",
    "\n",
    "We use the MNIST data set;\n",
    "\n",
    "![mnist data](https://upload.wikimedia.org/wikipedia/commons/2/27/MnistExamples.png)"
   ]
  },
  {
   "attachments": {},
   "cell_type": "markdown",
   "metadata": {},
   "source": [
    "## Importing Libraries and Setup"
   ]
  },
  {
   "cell_type": "code",
   "execution_count": 1,
   "metadata": {
    "id": "48VnFR9cXFP0"
   },
   "outputs": [
    {
     "name": "stderr",
     "output_type": "stream",
     "text": [
      "2023-06-12 17:51:32.663362: I tensorflow/core/platform/cpu_feature_guard.cc:193] This TensorFlow binary is optimized with oneAPI Deep Neural Network Library (oneDNN) to use the following CPU instructions in performance-critical operations:  SSE4.1 SSE4.2\n",
      "To enable them in other operations, rebuild TensorFlow with the appropriate compiler flags.\n"
     ]
    }
   ],
   "source": [
    "from __future__ import print_function\n",
    "import numpy as np\n",
    "from sklearn.model_selection import train_test_split\n",
    "import matplotlib.pyplot as plt\n",
    "\n",
    "from tensorflow import keras\n",
    "from tensorflow.keras import layers\n",
    "from sklearn import datasets\n",
    "\n",
    "np.random.seed(1)"
   ]
  },
  {
   "cell_type": "code",
   "execution_count": 2,
   "metadata": {},
   "outputs": [],
   "source": [
    "import os\n",
    "import tensorflow as tf\n",
    "os.environ['TF_CPP_MIN_LOG_LEVEL'] = '2'"
   ]
  },
  {
   "attachments": {},
   "cell_type": "markdown",
   "metadata": {
    "tags": []
   },
   "source": [
    "## Load and explore data (shouldn't need any transformations)"
   ]
  },
  {
   "attachments": {},
   "cell_type": "markdown",
   "metadata": {},
   "source": [
    "This is the same MNIST dataset used in the MLPClassifier tutorial. Since we have already explored this data, for brevity, I've excluded much of this exploration and focus instead on the keras modeling."
   ]
  },
  {
   "cell_type": "code",
   "execution_count": 3,
   "metadata": {
    "colab": {
     "base_uri": "https://localhost:8080/",
     "height": 34
    },
    "id": "M8CjaVlYW2Jx",
    "outputId": "e90a4dd3-3781-477f-b02f-97ac3e75be91"
   },
   "outputs": [],
   "source": [
    "mnist = datasets.load_digits() # sklearn includes this data set .. https://archive.ics.uci.edu/ml/datasets/Optical+Recognition+of+Handwritten+Digits"
   ]
  },
  {
   "attachments": {},
   "cell_type": "markdown",
   "metadata": {},
   "source": [
    "If we want the number of images, we can use the len function."
   ]
  },
  {
   "cell_type": "code",
   "execution_count": 4,
   "metadata": {
    "colab": {
     "base_uri": "https://localhost:8080/",
     "height": 34
    },
    "id": "rTQ7qNp4ffaW",
    "outputId": "3d267533-ac01-4747-abee-369aae5d3d79"
   },
   "outputs": [
    {
     "name": "stdout",
     "output_type": "stream",
     "text": [
      "1797\n"
     ]
    }
   ],
   "source": [
    "print(len(mnist.data))"
   ]
  },
  {
   "attachments": {},
   "cell_type": "markdown",
   "metadata": {},
   "source": [
    "And, for each image we have a target value"
   ]
  },
  {
   "cell_type": "code",
   "execution_count": 5,
   "metadata": {
    "tags": []
   },
   "outputs": [
    {
     "name": "stdout",
     "output_type": "stream",
     "text": [
      "1797\n"
     ]
    }
   ],
   "source": [
    "print(len(mnist.target))"
   ]
  },
  {
   "cell_type": "code",
   "execution_count": 6,
   "metadata": {},
   "outputs": [],
   "source": [
    "X_train, X_test, y_train, y_test = train_test_split(mnist.data, mnist.target, test_size=0.2, random_state=1)"
   ]
  },
  {
   "attachments": {},
   "cell_type": "markdown",
   "metadata": {},
   "source": [
    "## Use Keras to build an MLP model"
   ]
  },
  {
   "attachments": {},
   "cell_type": "markdown",
   "metadata": {},
   "source": [
    "We saw how we could use SciKit Learn to build a MLP model. Now, let's use Keras to build a MLP model."
   ]
  },
  {
   "attachments": {},
   "cell_type": "markdown",
   "metadata": {},
   "source": [
    "First, we must define the structure of the network. "
   ]
  },
  {
   "attachments": {},
   "cell_type": "markdown",
   "metadata": {},
   "source": [
    "Below, we build a simple single hidden layer. Note that the activation function used is the softmax function. This is a generalization of the logistic function that \"squashes\" a K-dimensional vector z of arbitrary real values to a K-dimensional vector $\\sigma(z)$ of real values in the range [0, 1] that add up to 1 (thus, gives us the probability of each class). Input layers are not counted when we talk about the number of layers in a neural network. Also, input layers do not have any weights or biases associated with them, nor do they do any processing. They are just placeholders to feed the data into the network. Hidden layers can have any activiation function you choose; but relu is a good choice for the first hidden layer (it's non-saturating, and fast to compute). Output layer activation functions are typically sigmoid (for binay classification), softmax (for multiclass classification), or None (for regression). Since the digit problem is a multiclass classification problem, we use softmax."
   ]
  },
  {
   "cell_type": "code",
   "execution_count": 7,
   "metadata": {},
   "outputs": [],
   "source": [
    "model = keras.models.Sequential() # creates a fully connected network (FCN) \n",
    "# FCN is whenevery unit in the input layer is connected to every unit in the the first hidden layer, which is connected to every unit in the second hidden layer,etc.\n",
    "\n",
    "model.add(keras.layers.Input(64))  # Input layer must match the number of features (in this case 64 = 8x8)\n",
    "model.add(keras.layers.Dense(500, activation=\"relu\")) # hidden layer can be any size\n",
    "model.add(keras.layers.Dense(10, activation=\"softmax\")) # output layer must match the number of classes (in this case 10)"
   ]
  },
  {
   "attachments": {},
   "cell_type": "markdown",
   "metadata": {},
   "source": [
    "Now that we have defined our neural network model, we can get a summary of the model by calling the summary() function on the model. Notice that the layers listed do not include the input layer (for reasons mentioned above). The summary also shows the number of parameters in each layer. The first layer has 32,500 parameters (64 input values times 500 neurons, plus 500 biases). The output layer has 10 neurons, each with 500 inputs from the previous layer plus 10 biases, for a total of 5010 parameters. "
   ]
  },
  {
   "cell_type": "code",
   "execution_count": 8,
   "metadata": {},
   "outputs": [
    {
     "name": "stdout",
     "output_type": "stream",
     "text": [
      "Model: \"sequential\"\n",
      "_________________________________________________________________\n",
      " Layer (type)                Output Shape              Param #   \n",
      "=================================================================\n",
      " dense (Dense)               (None, 500)               32500     \n",
      "                                                                 \n",
      " dense_1 (Dense)             (None, 10)                5010      \n",
      "                                                                 \n",
      "=================================================================\n",
      "Total params: 37,510\n",
      "Trainable params: 37,510\n",
      "Non-trainable params: 0\n",
      "_________________________________________________________________\n"
     ]
    }
   ],
   "source": [
    "model.summary()"
   ]
  },
  {
   "attachments": {},
   "cell_type": "markdown",
   "metadata": {},
   "source": [
    "We now need to compile the model. When we compile the model we specify details about how it will be trained. We need to specify a loss function, and optimizer approach, and a metric to optimize. \n",
    "\n",
    "In the following model, we will use the categorical_crossentropy loss function, which is appropriate for a multi-class classification problem. We will use the Adam optimizer, which is a variant of stochastic gradient descent. We will use accuracy as the metric to optimize."
   ]
  },
  {
   "cell_type": "code",
   "execution_count": 9,
   "metadata": {},
   "outputs": [],
   "source": [
    "import tensorflow as tf\n",
    "model.compile(\n",
    "    loss=\"sparse_categorical_crossentropy\", \n",
    "    optimizer=\"sgd\", \n",
    "    metrics=[\"accuracy\"]\n",
    ")"
   ]
  },
  {
   "attachments": {},
   "cell_type": "markdown",
   "metadata": {},
   "source": [
    "## Fit/Train the model on the Training Dataset"
   ]
  },
  {
   "attachments": {},
   "cell_type": "markdown",
   "metadata": {},
   "source": [
    "Now that we have the structure of our model defined, and the details of the training process specified, we can train the model. We will train the model for 10 epochs, and use a batch size of 128. We will also use the validation data set to evaluate the model after each epoch.\n",
    "\n",
    "In the specific case of this dataset, we have a training dataset that is 80% of 1792 (1437) 8x8 images of handwritten digits. If we set our batch size to 111, then we will have 12 full batches and one partial -- so, 13 batches per epoch (1437/111 = 12.95). We will train the model for 10 epochs, so we will have 130 batches of training data."
   ]
  },
  {
   "attachments": {},
   "cell_type": "markdown",
   "metadata": {},
   "source": [
    "> NOTE: Optimization algorithms (aka 'learning algorithms') generally have a number of hyperparameters. Two hyperparameters that often confuse beginners are the batch size and number of epochs. \n",
    ">\n",
    "* The batch size is a hyperparameter of gradient descent that controls the number of training samples to work through before the model’s internal parameters are updated.\n",
    "* The number of epochs is a hyperparameter of gradient descent that controls the number of complete passes through the training dataset.\n",
    "  >\n",
    "> So, if you have a training set of data that consists of 100 observations; if our batch size is 10, then the gradient descent algorithm will update the weights after every 10 observations. If  we have 100 epochs, then the gradient descent algorithm will update the weights 100 times."
   ]
  },
  {
   "cell_type": "code",
   "execution_count": 10,
   "metadata": {},
   "outputs": [
    {
     "data": {
      "text/plain": [
       "(1437, 64)"
      ]
     },
     "execution_count": 10,
     "metadata": {},
     "output_type": "execute_result"
    }
   ],
   "source": [
    "X_train.shape"
   ]
  },
  {
   "cell_type": "code",
   "execution_count": 11,
   "metadata": {},
   "outputs": [
    {
     "name": "stdout",
     "output_type": "stream",
     "text": [
      "Epoch 1/100\n",
      "13/13 [==============================] - 0s 13ms/step - loss: 3.0791 - accuracy: 0.4697 - val_loss: 0.4141 - val_accuracy: 0.8667\n",
      "Epoch 2/100\n",
      "13/13 [==============================] - 0s 4ms/step - loss: 0.3932 - accuracy: 0.8747 - val_loss: 0.2641 - val_accuracy: 0.9278\n",
      "Epoch 3/100\n",
      "13/13 [==============================] - 0s 5ms/step - loss: 0.2513 - accuracy: 0.9325 - val_loss: 0.1834 - val_accuracy: 0.9528\n",
      "Epoch 4/100\n",
      "13/13 [==============================] - 0s 6ms/step - loss: 0.1998 - accuracy: 0.9492 - val_loss: 0.1871 - val_accuracy: 0.9417\n",
      "Epoch 5/100\n",
      "13/13 [==============================] - 0s 4ms/step - loss: 0.1809 - accuracy: 0.9541 - val_loss: 0.1574 - val_accuracy: 0.9583\n",
      "Epoch 6/100\n",
      "13/13 [==============================] - 0s 4ms/step - loss: 0.1495 - accuracy: 0.9631 - val_loss: 0.2718 - val_accuracy: 0.9111\n",
      "Epoch 7/100\n",
      "13/13 [==============================] - 0s 5ms/step - loss: 0.1485 - accuracy: 0.9582 - val_loss: 0.1223 - val_accuracy: 0.9806\n",
      "Epoch 8/100\n",
      "13/13 [==============================] - 0s 5ms/step - loss: 0.1239 - accuracy: 0.9729 - val_loss: 0.1280 - val_accuracy: 0.9583\n",
      "Epoch 9/100\n",
      "13/13 [==============================] - 0s 5ms/step - loss: 0.1124 - accuracy: 0.9715 - val_loss: 0.1118 - val_accuracy: 0.9778\n",
      "Epoch 10/100\n",
      "13/13 [==============================] - 0s 4ms/step - loss: 0.1029 - accuracy: 0.9756 - val_loss: 0.1227 - val_accuracy: 0.9528\n",
      "Epoch 11/100\n",
      "13/13 [==============================] - 0s 4ms/step - loss: 0.0974 - accuracy: 0.9812 - val_loss: 0.1025 - val_accuracy: 0.9778\n",
      "Epoch 12/100\n",
      "13/13 [==============================] - 0s 4ms/step - loss: 0.0905 - accuracy: 0.9847 - val_loss: 0.1037 - val_accuracy: 0.9778\n",
      "Epoch 13/100\n",
      "13/13 [==============================] - 0s 4ms/step - loss: 0.0835 - accuracy: 0.9854 - val_loss: 0.0964 - val_accuracy: 0.9833\n",
      "Epoch 14/100\n",
      "13/13 [==============================] - 0s 4ms/step - loss: 0.0781 - accuracy: 0.9854 - val_loss: 0.0973 - val_accuracy: 0.9750\n",
      "Epoch 15/100\n",
      "13/13 [==============================] - 0s 4ms/step - loss: 0.0737 - accuracy: 0.9896 - val_loss: 0.0971 - val_accuracy: 0.9722\n",
      "Epoch 16/100\n",
      "13/13 [==============================] - 0s 4ms/step - loss: 0.0726 - accuracy: 0.9889 - val_loss: 0.0967 - val_accuracy: 0.9722\n",
      "Epoch 17/100\n",
      "13/13 [==============================] - 0s 4ms/step - loss: 0.0685 - accuracy: 0.9889 - val_loss: 0.0887 - val_accuracy: 0.9806\n",
      "Epoch 18/100\n",
      "13/13 [==============================] - 0s 6ms/step - loss: 0.0670 - accuracy: 0.9903 - val_loss: 0.0894 - val_accuracy: 0.9750\n",
      "Epoch 19/100\n",
      "13/13 [==============================] - 0s 4ms/step - loss: 0.0615 - accuracy: 0.9916 - val_loss: 0.0863 - val_accuracy: 0.9806\n",
      "Epoch 20/100\n",
      "13/13 [==============================] - 0s 4ms/step - loss: 0.0580 - accuracy: 0.9903 - val_loss: 0.0824 - val_accuracy: 0.9806\n",
      "Epoch 21/100\n",
      "13/13 [==============================] - 0s 4ms/step - loss: 0.0577 - accuracy: 0.9944 - val_loss: 0.0830 - val_accuracy: 0.9806\n",
      "Epoch 22/100\n",
      "13/13 [==============================] - 0s 4ms/step - loss: 0.0545 - accuracy: 0.9930 - val_loss: 0.0895 - val_accuracy: 0.9778\n",
      "Epoch 23/100\n",
      "13/13 [==============================] - 0s 4ms/step - loss: 0.0522 - accuracy: 0.9937 - val_loss: 0.0824 - val_accuracy: 0.9806\n",
      "Epoch 24/100\n",
      "13/13 [==============================] - 0s 4ms/step - loss: 0.0510 - accuracy: 0.9930 - val_loss: 0.0825 - val_accuracy: 0.9778\n",
      "Epoch 25/100\n",
      "13/13 [==============================] - 0s 4ms/step - loss: 0.0485 - accuracy: 0.9958 - val_loss: 0.0757 - val_accuracy: 0.9833\n",
      "Epoch 26/100\n",
      "13/13 [==============================] - 0s 4ms/step - loss: 0.0467 - accuracy: 0.9944 - val_loss: 0.0749 - val_accuracy: 0.9833\n",
      "Epoch 27/100\n",
      "13/13 [==============================] - 0s 4ms/step - loss: 0.0464 - accuracy: 0.9958 - val_loss: 0.0777 - val_accuracy: 0.9833\n",
      "Epoch 28/100\n",
      "13/13 [==============================] - 0s 4ms/step - loss: 0.0435 - accuracy: 0.9965 - val_loss: 0.0747 - val_accuracy: 0.9806\n",
      "Epoch 29/100\n",
      "13/13 [==============================] - 0s 4ms/step - loss: 0.0423 - accuracy: 0.9965 - val_loss: 0.0747 - val_accuracy: 0.9806\n",
      "Epoch 30/100\n",
      "13/13 [==============================] - 0s 4ms/step - loss: 0.0418 - accuracy: 0.9958 - val_loss: 0.0693 - val_accuracy: 0.9861\n",
      "Epoch 31/100\n",
      "13/13 [==============================] - 0s 4ms/step - loss: 0.0395 - accuracy: 0.9958 - val_loss: 0.0715 - val_accuracy: 0.9833\n",
      "Epoch 32/100\n",
      "13/13 [==============================] - 0s 4ms/step - loss: 0.0385 - accuracy: 0.9958 - val_loss: 0.0730 - val_accuracy: 0.9833\n",
      "Epoch 33/100\n",
      "13/13 [==============================] - 0s 4ms/step - loss: 0.0375 - accuracy: 0.9965 - val_loss: 0.0753 - val_accuracy: 0.9833\n",
      "Epoch 34/100\n",
      "13/13 [==============================] - 0s 4ms/step - loss: 0.0369 - accuracy: 0.9965 - val_loss: 0.0701 - val_accuracy: 0.9833\n",
      "Epoch 35/100\n",
      "13/13 [==============================] - 0s 4ms/step - loss: 0.0362 - accuracy: 0.9965 - val_loss: 0.0710 - val_accuracy: 0.9833\n",
      "Epoch 36/100\n",
      "13/13 [==============================] - 0s 4ms/step - loss: 0.0346 - accuracy: 0.9972 - val_loss: 0.0725 - val_accuracy: 0.9861\n",
      "Epoch 37/100\n",
      "13/13 [==============================] - 0s 4ms/step - loss: 0.0338 - accuracy: 0.9965 - val_loss: 0.0675 - val_accuracy: 0.9833\n",
      "Epoch 38/100\n",
      "13/13 [==============================] - 0s 4ms/step - loss: 0.0328 - accuracy: 0.9972 - val_loss: 0.0650 - val_accuracy: 0.9861\n",
      "Epoch 39/100\n",
      "13/13 [==============================] - 0s 4ms/step - loss: 0.0318 - accuracy: 0.9972 - val_loss: 0.0667 - val_accuracy: 0.9806\n",
      "Epoch 40/100\n",
      "13/13 [==============================] - 0s 4ms/step - loss: 0.0314 - accuracy: 0.9972 - val_loss: 0.0672 - val_accuracy: 0.9861\n",
      "Epoch 41/100\n",
      "13/13 [==============================] - 0s 4ms/step - loss: 0.0305 - accuracy: 0.9972 - val_loss: 0.0695 - val_accuracy: 0.9861\n",
      "Epoch 42/100\n",
      "13/13 [==============================] - 0s 4ms/step - loss: 0.0298 - accuracy: 0.9972 - val_loss: 0.0643 - val_accuracy: 0.9861\n",
      "Epoch 43/100\n",
      "13/13 [==============================] - 0s 7ms/step - loss: 0.0292 - accuracy: 0.9972 - val_loss: 0.0659 - val_accuracy: 0.9833\n",
      "Epoch 44/100\n",
      "13/13 [==============================] - 0s 4ms/step - loss: 0.0282 - accuracy: 0.9972 - val_loss: 0.0635 - val_accuracy: 0.9833\n",
      "Epoch 45/100\n",
      "13/13 [==============================] - 0s 4ms/step - loss: 0.0275 - accuracy: 0.9979 - val_loss: 0.0690 - val_accuracy: 0.9833\n",
      "Epoch 46/100\n",
      "13/13 [==============================] - 0s 4ms/step - loss: 0.0272 - accuracy: 0.9972 - val_loss: 0.0647 - val_accuracy: 0.9833\n",
      "Epoch 47/100\n",
      "13/13 [==============================] - 0s 4ms/step - loss: 0.0269 - accuracy: 0.9972 - val_loss: 0.0656 - val_accuracy: 0.9833\n",
      "Epoch 48/100\n",
      "13/13 [==============================] - 0s 4ms/step - loss: 0.0263 - accuracy: 0.9972 - val_loss: 0.0623 - val_accuracy: 0.9861\n",
      "Epoch 49/100\n",
      "13/13 [==============================] - 0s 4ms/step - loss: 0.0259 - accuracy: 0.9972 - val_loss: 0.0629 - val_accuracy: 0.9833\n",
      "Epoch 50/100\n",
      "13/13 [==============================] - 0s 4ms/step - loss: 0.0254 - accuracy: 0.9972 - val_loss: 0.0620 - val_accuracy: 0.9833\n",
      "Epoch 51/100\n",
      "13/13 [==============================] - 0s 4ms/step - loss: 0.0244 - accuracy: 0.9979 - val_loss: 0.0618 - val_accuracy: 0.9861\n",
      "Epoch 52/100\n",
      "13/13 [==============================] - 0s 4ms/step - loss: 0.0240 - accuracy: 0.9972 - val_loss: 0.0603 - val_accuracy: 0.9861\n",
      "Epoch 53/100\n",
      "13/13 [==============================] - 0s 4ms/step - loss: 0.0232 - accuracy: 0.9979 - val_loss: 0.0639 - val_accuracy: 0.9861\n",
      "Epoch 54/100\n",
      "13/13 [==============================] - 0s 4ms/step - loss: 0.0235 - accuracy: 0.9979 - val_loss: 0.0606 - val_accuracy: 0.9861\n",
      "Epoch 55/100\n",
      "13/13 [==============================] - 0s 4ms/step - loss: 0.0230 - accuracy: 0.9972 - val_loss: 0.0609 - val_accuracy: 0.9833\n",
      "Epoch 56/100\n",
      "13/13 [==============================] - 0s 4ms/step - loss: 0.0223 - accuracy: 0.9979 - val_loss: 0.0597 - val_accuracy: 0.9861\n",
      "Epoch 57/100\n",
      "13/13 [==============================] - 0s 4ms/step - loss: 0.0219 - accuracy: 0.9979 - val_loss: 0.0594 - val_accuracy: 0.9861\n",
      "Epoch 58/100\n",
      "13/13 [==============================] - 0s 4ms/step - loss: 0.0215 - accuracy: 0.9979 - val_loss: 0.0576 - val_accuracy: 0.9861\n",
      "Epoch 59/100\n",
      "13/13 [==============================] - 0s 4ms/step - loss: 0.0215 - accuracy: 0.9979 - val_loss: 0.0588 - val_accuracy: 0.9861\n",
      "Epoch 60/100\n",
      "13/13 [==============================] - 0s 4ms/step - loss: 0.0210 - accuracy: 0.9979 - val_loss: 0.0593 - val_accuracy: 0.9861\n",
      "Epoch 61/100\n",
      "13/13 [==============================] - 0s 4ms/step - loss: 0.0205 - accuracy: 0.9979 - val_loss: 0.0586 - val_accuracy: 0.9861\n",
      "Epoch 62/100\n",
      "13/13 [==============================] - 0s 4ms/step - loss: 0.0205 - accuracy: 0.9972 - val_loss: 0.0587 - val_accuracy: 0.9861\n",
      "Epoch 63/100\n",
      "13/13 [==============================] - 0s 4ms/step - loss: 0.0197 - accuracy: 0.9986 - val_loss: 0.0581 - val_accuracy: 0.9861\n",
      "Epoch 64/100\n",
      "13/13 [==============================] - 0s 4ms/step - loss: 0.0199 - accuracy: 0.9979 - val_loss: 0.0585 - val_accuracy: 0.9833\n",
      "Epoch 65/100\n",
      "13/13 [==============================] - 0s 4ms/step - loss: 0.0192 - accuracy: 0.9993 - val_loss: 0.0564 - val_accuracy: 0.9861\n",
      "Epoch 66/100\n",
      "13/13 [==============================] - 0s 4ms/step - loss: 0.0191 - accuracy: 0.9979 - val_loss: 0.0570 - val_accuracy: 0.9833\n",
      "Epoch 67/100\n",
      "13/13 [==============================] - 0s 4ms/step - loss: 0.0186 - accuracy: 0.9986 - val_loss: 0.0556 - val_accuracy: 0.9861\n",
      "Epoch 68/100\n",
      "13/13 [==============================] - 0s 4ms/step - loss: 0.0183 - accuracy: 0.9986 - val_loss: 0.0590 - val_accuracy: 0.9861\n",
      "Epoch 69/100\n",
      "13/13 [==============================] - 0s 4ms/step - loss: 0.0182 - accuracy: 0.9986 - val_loss: 0.0570 - val_accuracy: 0.9833\n",
      "Epoch 70/100\n",
      "13/13 [==============================] - 0s 4ms/step - loss: 0.0180 - accuracy: 0.9986 - val_loss: 0.0553 - val_accuracy: 0.9861\n",
      "Epoch 71/100\n",
      "13/13 [==============================] - 0s 4ms/step - loss: 0.0178 - accuracy: 0.9979 - val_loss: 0.0558 - val_accuracy: 0.9861\n",
      "Epoch 72/100\n",
      "13/13 [==============================] - 0s 4ms/step - loss: 0.0177 - accuracy: 0.9972 - val_loss: 0.0572 - val_accuracy: 0.9861\n",
      "Epoch 73/100\n",
      "13/13 [==============================] - 0s 4ms/step - loss: 0.0173 - accuracy: 0.9986 - val_loss: 0.0556 - val_accuracy: 0.9861\n",
      "Epoch 74/100\n",
      "13/13 [==============================] - 0s 4ms/step - loss: 0.0169 - accuracy: 0.9993 - val_loss: 0.0549 - val_accuracy: 0.9861\n",
      "Epoch 75/100\n",
      "13/13 [==============================] - 0s 4ms/step - loss: 0.0167 - accuracy: 0.9986 - val_loss: 0.0548 - val_accuracy: 0.9861\n",
      "Epoch 76/100\n",
      "13/13 [==============================] - 0s 4ms/step - loss: 0.0167 - accuracy: 0.9986 - val_loss: 0.0555 - val_accuracy: 0.9861\n",
      "Epoch 77/100\n",
      "13/13 [==============================] - 0s 4ms/step - loss: 0.0160 - accuracy: 0.9993 - val_loss: 0.0550 - val_accuracy: 0.9861\n",
      "Epoch 78/100\n",
      "13/13 [==============================] - 0s 4ms/step - loss: 0.0159 - accuracy: 1.0000 - val_loss: 0.0568 - val_accuracy: 0.9861\n",
      "Epoch 79/100\n",
      "13/13 [==============================] - 0s 4ms/step - loss: 0.0158 - accuracy: 1.0000 - val_loss: 0.0572 - val_accuracy: 0.9861\n",
      "Epoch 80/100\n",
      "13/13 [==============================] - 0s 4ms/step - loss: 0.0155 - accuracy: 0.9993 - val_loss: 0.0566 - val_accuracy: 0.9861\n",
      "Epoch 81/100\n",
      "13/13 [==============================] - 0s 4ms/step - loss: 0.0157 - accuracy: 0.9993 - val_loss: 0.0563 - val_accuracy: 0.9833\n",
      "Epoch 82/100\n",
      "13/13 [==============================] - 0s 4ms/step - loss: 0.0153 - accuracy: 0.9993 - val_loss: 0.0546 - val_accuracy: 0.9861\n",
      "Epoch 83/100\n",
      "13/13 [==============================] - 0s 4ms/step - loss: 0.0150 - accuracy: 1.0000 - val_loss: 0.0539 - val_accuracy: 0.9861\n",
      "Epoch 84/100\n",
      "13/13 [==============================] - 0s 4ms/step - loss: 0.0148 - accuracy: 0.9993 - val_loss: 0.0554 - val_accuracy: 0.9861\n",
      "Epoch 85/100\n",
      "13/13 [==============================] - 0s 4ms/step - loss: 0.0147 - accuracy: 1.0000 - val_loss: 0.0546 - val_accuracy: 0.9861\n",
      "Epoch 86/100\n",
      "13/13 [==============================] - 0s 4ms/step - loss: 0.0143 - accuracy: 1.0000 - val_loss: 0.0535 - val_accuracy: 0.9861\n",
      "Epoch 87/100\n",
      "13/13 [==============================] - 0s 4ms/step - loss: 0.0142 - accuracy: 0.9993 - val_loss: 0.0567 - val_accuracy: 0.9861\n",
      "Epoch 88/100\n",
      "13/13 [==============================] - 0s 4ms/step - loss: 0.0140 - accuracy: 1.0000 - val_loss: 0.0552 - val_accuracy: 0.9889\n",
      "Epoch 89/100\n",
      "13/13 [==============================] - 0s 4ms/step - loss: 0.0139 - accuracy: 0.9993 - val_loss: 0.0546 - val_accuracy: 0.9861\n",
      "Epoch 90/100\n",
      "13/13 [==============================] - 0s 4ms/step - loss: 0.0137 - accuracy: 1.0000 - val_loss: 0.0536 - val_accuracy: 0.9861\n",
      "Epoch 91/100\n",
      "13/13 [==============================] - 0s 4ms/step - loss: 0.0135 - accuracy: 1.0000 - val_loss: 0.0541 - val_accuracy: 0.9889\n",
      "Epoch 92/100\n",
      "13/13 [==============================] - 0s 4ms/step - loss: 0.0134 - accuracy: 1.0000 - val_loss: 0.0540 - val_accuracy: 0.9889\n",
      "Epoch 93/100\n",
      "13/13 [==============================] - 0s 4ms/step - loss: 0.0132 - accuracy: 1.0000 - val_loss: 0.0555 - val_accuracy: 0.9861\n",
      "Epoch 94/100\n",
      "13/13 [==============================] - 0s 4ms/step - loss: 0.0131 - accuracy: 1.0000 - val_loss: 0.0536 - val_accuracy: 0.9889\n",
      "Epoch 95/100\n",
      "13/13 [==============================] - 0s 4ms/step - loss: 0.0130 - accuracy: 1.0000 - val_loss: 0.0539 - val_accuracy: 0.9889\n",
      "Epoch 96/100\n",
      "13/13 [==============================] - 0s 4ms/step - loss: 0.0127 - accuracy: 1.0000 - val_loss: 0.0535 - val_accuracy: 0.9889\n",
      "Epoch 97/100\n",
      "13/13 [==============================] - 0s 4ms/step - loss: 0.0127 - accuracy: 1.0000 - val_loss: 0.0523 - val_accuracy: 0.9889\n",
      "Epoch 98/100\n",
      "13/13 [==============================] - 0s 4ms/step - loss: 0.0126 - accuracy: 1.0000 - val_loss: 0.0527 - val_accuracy: 0.9889\n",
      "Epoch 99/100\n",
      "13/13 [==============================] - 0s 4ms/step - loss: 0.0126 - accuracy: 1.0000 - val_loss: 0.0537 - val_accuracy: 0.9861\n",
      "Epoch 100/100\n",
      "13/13 [==============================] - 0s 4ms/step - loss: 0.0124 - accuracy: 1.0000 - val_loss: 0.0535 - val_accuracy: 0.9889\n",
      "CPU times: user 7.3 s, sys: 841 ms, total: 8.14 s\n",
      "Wall time: 5.89 s\n"
     ]
    }
   ],
   "source": [
    "%%time\n",
    "history = model.fit(X_train, y_train, epochs=100, batch_size=111, validation_data=(X_test, y_test))"
   ]
  },
  {
   "attachments": {},
   "cell_type": "markdown",
   "metadata": {},
   "source": [
    "### Evaluate The Model's Performance"
   ]
  },
  {
   "attachments": {},
   "cell_type": "markdown",
   "metadata": {},
   "source": [
    "Now, we need to evaluate the model on the test data. We can do this with the evaluate() method."
   ]
  },
  {
   "cell_type": "code",
   "execution_count": 12,
   "metadata": {},
   "outputs": [
    {
     "name": "stdout",
     "output_type": "stream",
     "text": [
      "12/12 [==============================] - 0s 1ms/step - loss: 0.0535 - accuracy: 0.9889\n",
      "Loss 0.05354\n",
      "Accuracy 0.98889\n"
     ]
    }
   ],
   "source": [
    "loss, accuracy = model.evaluate(X_test, y_test)\n",
    "print(f\"Loss {loss:.5f}\\nAccuracy {accuracy:.5f}\")"
   ]
  },
  {
   "attachments": {},
   "cell_type": "markdown",
   "metadata": {},
   "source": [
    "Notice that we have stored the model.fit results in a variable called history. History contains detailed information on the model training process results. We can use this to plot the training and validation loss for each epoch."
   ]
  },
  {
   "cell_type": "code",
   "execution_count": 13,
   "metadata": {},
   "outputs": [
    {
     "name": "stdout",
     "output_type": "stream",
     "text": [
      "dict_keys(['loss', 'accuracy', 'val_loss', 'val_accuracy'])\n"
     ]
    }
   ],
   "source": [
    "# list all data in history\n",
    "print(history.history.keys())"
   ]
  },
  {
   "cell_type": "code",
   "execution_count": 14,
   "metadata": {},
   "outputs": [
    {
     "data": {
      "image/png": "[encoded data removed]",
      "text/plain": [
       "<Figure size 640x480 with 1 Axes>"
      ]
     },
     "metadata": {},
     "output_type": "display_data"
    }
   ],
   "source": [
    "# summarize history for accuracy\n",
    "plt.plot(history.history['accuracy'])\n",
    "plt.plot(history.history['val_accuracy'])\n",
    "plt.title('model accuracy')\n",
    "plt.ylabel('accuracy')\n",
    "plt.xlabel('epoch')\n",
    "plt.legend(['train', 'test'], loc='upper left')\n",
    "plt.show()\n"
   ]
  },
  {
   "cell_type": "code",
   "execution_count": 15,
   "metadata": {},
   "outputs": [
    {
     "data": {
      "image/png": "[encoded data removed]",
      "text/plain": [
       "<Figure size 640x480 with 1 Axes>"
      ]
     },
     "metadata": {},
     "output_type": "display_data"
    }
   ],
   "source": [
    "# summarize history for loss\n",
    "plt.plot(history.history['loss'])\n",
    "plt.plot(history.history['val_loss'])\n",
    "plt.title('model loss')\n",
    "plt.ylabel('loss')\n",
    "plt.xlabel('epoch')\n",
    "plt.legend(['train', 'test'], loc='upper left')\n",
    "plt.show()"
   ]
  },
  {
   "attachments": {},
   "cell_type": "markdown",
   "metadata": {},
   "source": [
    "## Investigating the Confusion Matrix"
   ]
  },
  {
   "attachments": {},
   "cell_type": "markdown",
   "metadata": {},
   "source": [
    "We can use sklearn's classification report and confusion matrix functions to see how well our model did at predicting the correct digit.\n",
    "\n",
    "First though, we need get predictions from our model for the test data. "
   ]
  },
  {
   "cell_type": "code",
   "execution_count": 16,
   "metadata": {},
   "outputs": [
    {
     "name": "stdout",
     "output_type": "stream",
     "text": [
      "12/12 [==============================] - 0s 1ms/step\n"
     ]
    }
   ],
   "source": [
    "y_pred = model.predict(X_test) # use the model we trained to predict the test data"
   ]
  },
  {
   "attachments": {},
   "cell_type": "markdown",
   "metadata": {},
   "source": [
    "But, the resulting predictions are an array of 10 values, each with a probability associated with each of the 10 digits. We need to convert this to a single digit prediction. We can do this by using the argmax function to get the index of the highest probability value."
   ]
  },
  {
   "cell_type": "code",
   "execution_count": 17,
   "metadata": {},
   "outputs": [
    {
     "data": {
      "text/plain": [
       "array([9.2027879e-09, 9.8814422e-01, 1.2632116e-05, 3.6626943e-07,\n",
       "       9.0348061e-05, 1.4950015e-06, 2.5540703e-05, 1.6858094e-05,\n",
       "       1.1707719e-02, 8.0832223e-07], dtype=float32)"
      ]
     },
     "execution_count": 17,
     "metadata": {},
     "output_type": "execute_result"
    }
   ],
   "source": [
    "y_pred[0] # note that the results from the model are probabilities for each class"
   ]
  },
  {
   "cell_type": "code",
   "execution_count": 18,
   "metadata": {},
   "outputs": [
    {
     "data": {
      "text/plain": [
       "1.0"
      ]
     },
     "execution_count": 18,
     "metadata": {},
     "output_type": "execute_result"
    }
   ],
   "source": [
    "y_pred[0].sum() # the probabilities sum to 1; this is a requirement for a softmax output layer"
   ]
  },
  {
   "cell_type": "code",
   "execution_count": 19,
   "metadata": {},
   "outputs": [],
   "source": [
    "y_pred = y_pred.argmax(axis=1) # convert the probabilities to class labels"
   ]
  },
  {
   "cell_type": "code",
   "execution_count": 20,
   "metadata": {},
   "outputs": [
    {
     "data": {
      "text/plain": [
       "array([1, 5, 0, 7, 1, 0, 6, 1, 5, 4])"
      ]
     },
     "execution_count": 20,
     "metadata": {},
     "output_type": "execute_result"
    }
   ],
   "source": [
    "y_pred[0:10] # the class labels for the first 10 test samples"
   ]
  },
  {
   "attachments": {},
   "cell_type": "markdown",
   "metadata": {},
   "source": [
    "Now that we have the labeled predictions, let's use these to evaluate the model peformance and diplay the confusion matrix."
   ]
  },
  {
   "cell_type": "code",
   "execution_count": 21,
   "metadata": {},
   "outputs": [
    {
     "name": "stdout",
     "output_type": "stream",
     "text": [
      "              precision    recall  f1-score   support\n",
      "\n",
      "           0     1.0000    0.9767    0.9882        43\n",
      "           1     1.0000    1.0000    1.0000        35\n",
      "           2     1.0000    1.0000    1.0000        36\n",
      "           3     1.0000    1.0000    1.0000        41\n",
      "           4     0.9744    1.0000    0.9870        38\n",
      "           5     0.9375    1.0000    0.9677        30\n",
      "           6     1.0000    1.0000    1.0000        37\n",
      "           7     1.0000    0.9730    0.9863        37\n",
      "           8     1.0000    0.9655    0.9825        29\n",
      "           9     0.9706    0.9706    0.9706        34\n",
      "\n",
      "    accuracy                         0.9889       360\n",
      "   macro avg     0.9882    0.9886    0.9882       360\n",
      "weighted avg     0.9893    0.9889    0.9889       360\n",
      "\n"
     ]
    }
   ],
   "source": [
    "from sklearn.metrics import classification_report\n",
    "print(classification_report(y_test, y_pred, digits=4))"
   ]
  },
  {
   "cell_type": "code",
   "execution_count": 22,
   "metadata": {},
   "outputs": [
    {
     "name": "stdout",
     "output_type": "stream",
     "text": [
      "[(0, 43), (1, 35), (2, 36), (3, 41), (4, 38), (5, 30), (6, 37), (7, 37), (8, 29), (9, 34)]\n"
     ]
    },
    {
     "data": {
      "image/png": "[encoded data removed]",
      "text/plain": [
       "<Figure size 640x480 with 2 Axes>"
      ]
     },
     "metadata": {},
     "output_type": "display_data"
    }
   ],
   "source": [
    "from sklearn.metrics import ConfusionMatrixDisplay\n",
    "from sklearn.metrics import confusion_matrix\n",
    "import collections\n",
    "\n",
    "# for reference, list the frequency of each digit found in the y_test data\n",
    "print(sorted(collections.Counter(y_test).items(), key=lambda i: i[0]))\n",
    "      \n",
    "# display the confusion matrix\n",
    "cm = confusion_matrix(y_test, y_pred)  #\n",
    "disp = ConfusionMatrixDisplay(confusion_matrix=cm)\n",
    "disp.plot(cmap=plt.cm.Blues)\n",
    "plt.show()"
   ]
  },
  {
   "attachments": {},
   "cell_type": "markdown",
   "metadata": {},
   "source": [
    "For more information on dense layers and initializers, see the following:\n",
    "* https://keras.io/api/layers/core_layers/dense/\n",
    "* https://keras.io/api/layers/initializers/"
   ]
  },
  {
   "attachments": {},
   "cell_type": "markdown",
   "metadata": {},
   "source": [
    "## Summary\n",
    "\n",
    "We have also seen how we can use Keras to build a simple MLP model to predict handwritten digits. We have seen how we can use Keras to build a model, compile the model, train the model, and evaluate the model.\n",
    "\n",
    "The accuracy of the Keras model is 0.99, which is on par with the accuracy of the best MLPClassifier model the we saw previously (~0.99). However, the building an training of the model is simpler and took less time to train. \n",
    "\n",
    "> NOTE: We haven't done any hyperparameter tuning nor explore alternative architectures of layers and units (we will see examples of these in later notebooks) \n",
    "\n",
    "In this notebook we have seen Keras for the first time. Keras is a high-level neural networks API, written in Python and capable of running on top of TensorFlow, CNTK, or Theano. It was developed with a focus on enabling fast experimentation. It's also much more intuitive than TensorFlow, and is a good place to start learning about more complex neural network architectures."
   ]
  }
 ],
 "metadata": {
  "colab": {
   "authorship_tag": "ABX9TyOig4eSm144+FaPk1GKk187",
   "collapsed_sections": [],
   "include_colab_link": true,
   "name": "mnist_compete_3_models.ipynb",
   "provenance": []
  },
  "kernelspec": {
   "display_name": "Python 3 (ipykernel)",
   "language": "python",
   "name": "python3"
  },
  "language_info": {
   "codemirror_mode": {
    "name": "ipython",
    "version": 3
   },
   "file_extension": ".py",
   "mimetype": "text/x-python",
   "name": "python",
   "nbconvert_exporter": "python",
   "pygments_lexer": "ipython3",
   "version": "3.9.16"
  },
  "vscode": {
   "interpreter": {
    "hash": "b056086e24cb5602cbcb82122035cd3d6ee2ccbf5df29c16e348c108b0f83be3"
   }
  }
 },
 "nbformat": 4,
 "nbformat_minor": 4
}
