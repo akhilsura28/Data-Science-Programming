{
 "cells": [
  {
   "cell_type": "markdown",
   "metadata": {
    "id": "LxGJbLsUhuc8"
   },
   "source": [
    "## Introduction\n",
    "\n",
    "The goal for this assignment is to develop a predictive model using Keras to classify a car into **unacceptable, acceptable, good and very good** categories. \n",
    "\n",
    "I will be using the train and test data I saved from the we04b-keras-Data-Gen notebook.\n",
    "\n",
    "Start with the Keras-hyperparameter-tuning notebook. Update the build_model function to include 5 to 10 layers, with each layer consisting of any multiple of 10 from 100 to 1000 units (note: the step parameter will help you). Add a summary section to discuss your results."
   ]
  },
  {
   "cell_type": "markdown",
   "metadata": {
    "id": "kmYLcm3aY8X5"
   },
   "source": [
    "## Install and import necessary packages"
   ]
  },
  {
   "cell_type": "code",
   "execution_count": 1,
   "metadata": {
    "id": "8zNdljvIhuc8"
   },
   "outputs": [],
   "source": [
    "import os\n",
    "os.environ['TF_CPP_MIN_LOG_LEVEL'] = '3' # (levels are 0 to 2 - default is 0; warnings are 1 and errors are 2)\n",
    "import tensorflow as tf"
   ]
  },
  {
   "cell_type": "code",
   "execution_count": 2,
   "metadata": {},
   "outputs": [],
   "source": [
    "from __future__ import print_function\n",
    "import numpy as np\n",
    "import pandas as pd\n",
    "from sklearn.model_selection import train_test_split\n",
    "import matplotlib.pyplot as plt\n",
    "from sklearn.metrics import f1_score, recall_score, precision_score, accuracy_score\n",
    "from tensorflow import keras\n",
    "from tensorflow.keras import layers\n",
    "from sklearn.preprocessing import LabelEncoder\n",
    "\n",
    "np.random.seed(86089106)"
   ]
  },
  {
   "cell_type": "markdown",
   "metadata": {},
   "source": [
    "from sklearn.metrics import mean_squared_error"
   ]
  },
  {
   "cell_type": "markdown",
   "metadata": {
    "id": "sGgrXNQPZT3J"
   },
   "source": [
    "## Load data "
   ]
  },
  {
   "cell_type": "code",
   "execution_count": 3,
   "metadata": {
    "id": "q3u5LsGyhudA"
   },
   "outputs": [],
   "source": [
    "# The data is already preprocessed and therefore doesn't need any further transformations\n",
    "X_train = pd.read_csv('car-X-train_data.csv') \n",
    "y_train = pd.read_csv('car-y-train_data.csv') \n",
    "X_test = pd.read_csv('car-X-test_data.csv') \n",
    "y_test = pd.read_csv('car-y-test_data.csv')"
   ]
  },
  {
   "cell_type": "code",
   "execution_count": 4,
   "metadata": {},
   "outputs": [],
   "source": [
    "# transforming the target variable as this is a multiclass\n",
    "y_train = LabelEncoder().fit_transform(np.ravel(y_train))\n",
    "y_test = LabelEncoder().fit_transform(np.ravel(y_test))"
   ]
  },
  {
   "cell_type": "markdown",
   "metadata": {},
   "source": [
    "## Hyperparameter tuning with Keras"
   ]
  },
  {
   "cell_type": "code",
   "execution_count": 5,
   "metadata": {},
   "outputs": [],
   "source": [
    "# importing the required libraries\n",
    "import keras_tuner\n",
    "from tensorflow import keras\n",
    "from tensorflow.keras import layers"
   ]
  },
  {
   "cell_type": "markdown",
   "metadata": {},
   "source": [
    "Create a function that builds the model. This is used by random search to generate a model for each set of paramete values that keras tuner's RandomSearch function generates. \n",
    "\n",
    "Notice that there are a number of references to 'hp' in this function. Hp is a keras hyper parameter object that RandomSearch will send to our build_model function. The hp.Boolean, hb.Int, hp.Float methods will generate a random value based on the parameters given to each method. \n",
    "\n",
    "These hyperparameter randomization methods are well documented [here](https://keras.io/api/keras_tuner/hyperparameters/).\n",
    "* hp.Boolean\n",
    "* hp.Int\n",
    "* hp.Float\n",
    "* hp.Choice\n",
    "\n",
    "The build_model function will use the random values to create a Keras sequential neural network and return it back to the calling function (RandomSearch that is calling this function)\n",
    "* [Input layer](https://keras.io/api/layers/core_layers/input/)\n",
    "* [Dropout layer](https://keras.io/api/layers/regularization_layers/dropout/)\n",
    "* [Normalization layer](http://keras.io/api/layers/preprocessing_layers/numerical/normalization/)\n",
    "* [Dense layer](https://keras.io/api/layers/core_layers/dense/)\n"
   ]
  },
  {
   "cell_type": "markdown",
   "metadata": {},
   "source": [
    "## Updating the build_model function to include 5 to 10 layers, with each layer consisting of any multiple of 10 from 100 to 1000 units (note: the step parameter will help you)"
   ]
  },
  {
   "cell_type": "code",
   "execution_count": 6,
   "metadata": {},
   "outputs": [],
   "source": [
    "def build_model(hp):\n",
    "    model = keras.Sequential()\n",
    "\n",
    "    # create input layer\n",
    "    model.add(layers.Input(21))\n",
    "\n",
    "    # create hidden layers\n",
    "    for i in range(hp.Int(name='hidden_layer_count', min_value=5, max_value=10, step=1)):\n",
    "        model.add(layers.Dense(\n",
    "            units=hp.Int(\"units\", min_value=100, max_value=1000, step=10),\n",
    "            activation=hp.Choice(\"activation\", [\"selu\", \"elu\", \"relu\", \"tanh\"])\n",
    "            ) \n",
    "        )\n",
    "\n",
    "    model.add(layers.Dense(units=10, activation=\"softmax\"))\n",
    "\n",
    "    # Define the optimizer learning rate as a hyperparameter.\n",
    "    lr = hp.Float(\"lr\", min_value=1e-4, max_value=1e-2)   \n",
    "    decay = hp.Float(\"lr\", min_value=0, max_value=1e-4)   \n",
    "    choice = hp.Choice(name='optimizer', values=['adam', 'sgd'])\n",
    "    if 'adam' == choice:\n",
    "        optimizer = keras.optimizers.legacy.Adam(learning_rate=lr, decay=decay)\n",
    "    else:\n",
    "        optimizer = keras.optimizers.legacy.SGD(learning_rate=lr, decay=decay)  \n",
    "\n",
    "    model.compile(\n",
    "        optimizer=optimizer,\n",
    "        loss=\"sparse_categorical_crossentropy\",\n",
    "        metrics=[\"accuracy\"],\n",
    "    )\n",
    "    return model"
   ]
  },
  {
   "cell_type": "code",
   "execution_count": 7,
   "metadata": {},
   "outputs": [
    {
     "data": {
      "text/plain": [
       "<keras.engine.sequential.Sequential at 0x7fd78f63b7c0>"
      ]
     },
     "execution_count": 7,
     "metadata": {},
     "output_type": "execute_result"
    }
   ],
   "source": [
    "build_model(keras_tuner.HyperParameters())"
   ]
  },
  {
   "cell_type": "markdown",
   "metadata": {},
   "source": [
    "I will now use our model generating function to conduct a random search to identify the best fitting model (from a random selection of the parameter ranges identified in the build_model function we created above)."
   ]
  },
  {
   "cell_type": "code",
   "execution_count": 8,
   "metadata": {},
   "outputs": [],
   "source": [
    "tuner = keras_tuner.RandomSearch(\n",
    "    hypermodel=build_model,\n",
    "    objective=\"accuracy\",\n",
    "    max_trials=25, \n",
    "    executions_per_trial=2,\n",
    "    directory='keras_tuner_dir',\n",
    "    project_name='profile_prediction',\n",
    "    overwrite=True\n",
    ")\n",
    "\n",
    "tuner.save()\n"
   ]
  },
  {
   "cell_type": "markdown",
   "metadata": {},
   "source": [
    "Getting the summary of the overal 'search space' (all the possible paremater values)."
   ]
  },
  {
   "cell_type": "code",
   "execution_count": 9,
   "metadata": {},
   "outputs": [
    {
     "name": "stdout",
     "output_type": "stream",
     "text": [
      "Search space summary\n",
      "Default search space size: 5\n",
      "hidden_layer_count (Int)\n",
      "{'default': None, 'conditions': [], 'min_value': 5, 'max_value': 10, 'step': 1, 'sampling': 'linear'}\n",
      "units (Int)\n",
      "{'default': None, 'conditions': [], 'min_value': 100, 'max_value': 1000, 'step': 10, 'sampling': 'linear'}\n",
      "activation (Choice)\n",
      "{'default': 'selu', 'conditions': [], 'values': ['selu', 'elu', 'relu', 'tanh'], 'ordered': False}\n",
      "lr (Float)\n",
      "{'default': 0.0001, 'conditions': [], 'min_value': 0.0001, 'max_value': 0.01, 'step': None, 'sampling': 'linear'}\n",
      "optimizer (Choice)\n",
      "{'default': 'adam', 'conditions': [], 'values': ['adam', 'sgd'], 'ordered': False}\n"
     ]
    }
   ],
   "source": [
    "tuner.search_space_summary()"
   ]
  },
  {
   "cell_type": "code",
   "execution_count": 10,
   "metadata": {},
   "outputs": [
    {
     "name": "stdout",
     "output_type": "stream",
     "text": [
      "Trial 11 Complete [00h 00m 10s]\n",
      "accuracy: 0.9491315186023712\n",
      "\n",
      "Best accuracy So Far: 1.0\n",
      "Total elapsed time: 00h 01m 48s\n",
      "\n",
      "Search: Running Trial #12\n",
      "\n",
      "Value             |Best Value So Far |Hyperparameter\n",
      "7                 |6                 |hidden_layer_count\n",
      "810               |440               |units\n",
      "selu              |relu              |activation\n",
      "0.0091802         |0.0054676         |lr\n",
      "adam              |adam              |optimizer\n",
      "\n",
      "Epoch 1/10\n",
      "93/93 [==============================] - 1s 11ms/step - loss: 511.1368 - accuracy: 0.5889 - val_loss: 2.8304 - val_accuracy: 0.6551\n",
      "Epoch 2/10\n",
      "93/93 [==============================] - 1s 11ms/step - loss: 1.4544 - accuracy: 0.6758 - val_loss: 0.9487 - val_accuracy: 0.7129\n",
      "Epoch 3/10\n",
      "93/93 [==============================] - 1s 10ms/step - loss: 0.8423 - accuracy: 0.7179 - val_loss: 0.6453 - val_accuracy: 0.7264\n",
      "Epoch 4/10\n",
      "93/93 [==============================] - 1s 10ms/step - loss: 0.7151 - accuracy: 0.7353 - val_loss: 0.7208 - val_accuracy: 0.7534\n",
      "Epoch 5/10\n",
      "93/93 [==============================] - 1s 10ms/step - loss: 0.6902 - accuracy: 0.7419 - val_loss: 0.7090 - val_accuracy: 0.6917\n",
      "Epoch 6/10\n",
      "93/93 [==============================] - 1s 10ms/step - loss: 0.6764 - accuracy: 0.7452 - val_loss: 0.6545 - val_accuracy: 0.7553\n",
      "Epoch 7/10\n",
      "93/93 [==============================] - 1s 10ms/step - loss: 0.6142 - accuracy: 0.7634 - val_loss: 0.7588 - val_accuracy: 0.7187\n",
      "Epoch 8/10\n",
      "93/93 [==============================] - 1s 10ms/step - loss: 0.5793 - accuracy: 0.7816 - val_loss: 0.5360 - val_accuracy: 0.7765\n",
      "Epoch 9/10\n",
      "93/93 [==============================] - 1s 9ms/step - loss: 0.5666 - accuracy: 0.7758 - val_loss: 0.5409 - val_accuracy: 0.7765\n",
      "Epoch 10/10\n",
      "93/93 [==============================] - 1s 9ms/step - loss: 0.5980 - accuracy: 0.7643 - val_loss: 0.5384 - val_accuracy: 0.7630\n",
      "Epoch 1/10\n",
      "93/93 [==============================] - 1s 10ms/step - loss: 209.7942 - accuracy: 0.5451 - val_loss: 5.3002 - val_accuracy: 0.2139\n",
      "Epoch 2/10\n",
      "93/93 [==============================] - 1s 9ms/step - loss: 1.4955 - accuracy: 0.6253 - val_loss: 1.2148 - val_accuracy: 0.5010\n",
      "Epoch 3/10\n",
      "93/93 [==============================] - 1s 9ms/step - loss: 0.8834 - accuracy: 0.6898 - val_loss: 0.7675 - val_accuracy: 0.6879\n",
      "Epoch 4/10\n",
      "93/93 [==============================] - 1s 9ms/step - loss: 0.8446 - accuracy: 0.6981 - val_loss: 0.7956 - val_accuracy: 0.6994\n",
      "Epoch 5/10\n",
      "93/93 [==============================] - 1s 9ms/step - loss: 0.8335 - accuracy: 0.6882 - val_loss: 0.7177 - val_accuracy: 0.7187\n",
      "Epoch 6/10\n",
      "87/93 [===========================>..] - ETA: 0s - loss: 0.7180 - accuracy: 0.7330"
     ]
    }
   ],
   "source": [
    "%%time\n",
    "tuner.search(X_train, y_train, epochs=10, batch_size=13, validation_data=(X_test, y_test))"
   ]
  },
  {
   "cell_type": "code",
   "execution_count": null,
   "metadata": {},
   "outputs": [
    {
     "name": "stdout",
     "output_type": "stream",
     "text": [
      "Model: \"sequential\"\n",
      "_________________________________________________________________\n",
      " Layer (type)                Output Shape              Param #   \n",
      "=================================================================\n",
      " dense (Dense)               (None, 130)               2860      \n",
      "                                                                 \n",
      " dense_1 (Dense)             (None, 130)               17030     \n",
      "                                                                 \n",
      " dense_2 (Dense)             (None, 130)               17030     \n",
      "                                                                 \n",
      " dense_3 (Dense)             (None, 130)               17030     \n",
      "                                                                 \n",
      " dense_4 (Dense)             (None, 130)               17030     \n",
      "                                                                 \n",
      " dense_5 (Dense)             (None, 130)               17030     \n",
      "                                                                 \n",
      " dense_6 (Dense)             (None, 10)                1310      \n",
      "                                                                 \n",
      "=================================================================\n",
      "Total params: 89,320\n",
      "Trainable params: 89,320\n",
      "Non-trainable params: 0\n",
      "_________________________________________________________________\n",
      "Model: \"sequential\"\n",
      "_________________________________________________________________\n",
      " Layer (type)                Output Shape              Param #   \n",
      "=================================================================\n",
      " dense (Dense)               (None, 900)               19800     \n",
      "                                                                 \n",
      " dense_1 (Dense)             (None, 900)               810900    \n",
      "                                                                 \n",
      " dense_2 (Dense)             (None, 900)               810900    \n",
      "                                                                 \n",
      " dense_3 (Dense)             (None, 900)               810900    \n",
      "                                                                 \n",
      " dense_4 (Dense)             (None, 900)               810900    \n",
      "                                                                 \n",
      " dense_5 (Dense)             (None, 900)               810900    \n",
      "                                                                 \n",
      " dense_6 (Dense)             (None, 10)                9010      \n",
      "                                                                 \n",
      "=================================================================\n",
      "Total params: 4,083,310\n",
      "Trainable params: 4,083,310\n",
      "Non-trainable params: 0\n",
      "_________________________________________________________________\n",
      "Model: \"sequential\"\n",
      "_________________________________________________________________\n",
      " Layer (type)                Output Shape              Param #   \n",
      "=================================================================\n",
      " dense (Dense)               (None, 270)               5940      \n",
      "                                                                 \n",
      " dense_1 (Dense)             (None, 270)               73170     \n",
      "                                                                 \n",
      " dense_2 (Dense)             (None, 270)               73170     \n",
      "                                                                 \n",
      " dense_3 (Dense)             (None, 270)               73170     \n",
      "                                                                 \n",
      " dense_4 (Dense)             (None, 270)               73170     \n",
      "                                                                 \n",
      " dense_5 (Dense)             (None, 270)               73170     \n",
      "                                                                 \n",
      " dense_6 (Dense)             (None, 10)                2710      \n",
      "                                                                 \n",
      "=================================================================\n",
      "Total params: 374,500\n",
      "Trainable params: 374,500\n",
      "Non-trainable params: 0\n",
      "_________________________________________________________________\n",
      "Model: \"sequential\"\n",
      "_________________________________________________________________\n",
      " Layer (type)                Output Shape              Param #   \n",
      "=================================================================\n",
      " dense (Dense)               (None, 130)               2860      \n",
      "                                                                 \n",
      " dense_1 (Dense)             (None, 130)               17030     \n",
      "                                                                 \n",
      " dense_2 (Dense)             (None, 130)               17030     \n",
      "                                                                 \n",
      " dense_3 (Dense)             (None, 130)               17030     \n",
      "                                                                 \n",
      " dense_4 (Dense)             (None, 130)               17030     \n",
      "                                                                 \n",
      " dense_5 (Dense)             (None, 130)               17030     \n",
      "                                                                 \n",
      " dense_6 (Dense)             (None, 130)               17030     \n",
      "                                                                 \n",
      " dense_7 (Dense)             (None, 130)               17030     \n",
      "                                                                 \n",
      " dense_8 (Dense)             (None, 130)               17030     \n",
      "                                                                 \n",
      " dense_9 (Dense)             (None, 130)               17030     \n",
      "                                                                 \n",
      " dense_10 (Dense)            (None, 10)                1310      \n",
      "                                                                 \n",
      "=================================================================\n",
      "Total params: 157,440\n",
      "Trainable params: 157,440\n",
      "Non-trainable params: 0\n",
      "_________________________________________________________________\n",
      "Model: \"sequential\"\n",
      "_________________________________________________________________\n",
      " Layer (type)                Output Shape              Param #   \n",
      "=================================================================\n",
      " dense (Dense)               (None, 950)               20900     \n",
      "                                                                 \n",
      " dense_1 (Dense)             (None, 950)               903450    \n",
      "                                                                 \n",
      " dense_2 (Dense)             (None, 950)               903450    \n",
      "                                                                 \n",
      " dense_3 (Dense)             (None, 950)               903450    \n",
      "                                                                 \n",
      " dense_4 (Dense)             (None, 950)               903450    \n",
      "                                                                 \n",
      " dense_5 (Dense)             (None, 950)               903450    \n",
      "                                                                 \n",
      " dense_6 (Dense)             (None, 950)               903450    \n",
      "                                                                 \n",
      " dense_7 (Dense)             (None, 950)               903450    \n",
      "                                                                 \n",
      " dense_8 (Dense)             (None, 10)                9510      \n",
      "                                                                 \n",
      "=================================================================\n",
      "Total params: 6,354,560\n",
      "Trainable params: 6,354,560\n",
      "Non-trainable params: 0\n",
      "_________________________________________________________________\n",
      "WARNING:tensorflow:Detecting that an object or model or tf.train.Checkpoint is being deleted with unrestored values. See the following logs for the specific values in question. To silence these warnings, use `status.expect_partial()`. See https://www.tensorflow.org/api_docs/python/tf/train/Checkpoint#restorefor details about the status object returned by the restore function.\n",
      "WARNING:tensorflow:Value in checkpoint could not be found in the restored object: (root).optimizer.iter\n",
      "WARNING:tensorflow:Value in checkpoint could not be found in the restored object: (root).optimizer.beta_1\n",
      "WARNING:tensorflow:Value in checkpoint could not be found in the restored object: (root).optimizer.beta_2\n",
      "WARNING:tensorflow:Value in checkpoint could not be found in the restored object: (root).optimizer.decay\n",
      "WARNING:tensorflow:Value in checkpoint could not be found in the restored object: (root).optimizer.learning_rate\n",
      "WARNING:tensorflow:Detecting that an object or model or tf.train.Checkpoint is being deleted with unrestored values. See the following logs for the specific values in question. To silence these warnings, use `status.expect_partial()`. See https://www.tensorflow.org/api_docs/python/tf/train/Checkpoint#restorefor details about the status object returned by the restore function.\n",
      "WARNING:tensorflow:Value in checkpoint could not be found in the restored object: (root).optimizer.iter\n",
      "WARNING:tensorflow:Value in checkpoint could not be found in the restored object: (root).optimizer.beta_1\n",
      "WARNING:tensorflow:Value in checkpoint could not be found in the restored object: (root).optimizer.beta_2\n",
      "WARNING:tensorflow:Value in checkpoint could not be found in the restored object: (root).optimizer.decay\n",
      "WARNING:tensorflow:Value in checkpoint could not be found in the restored object: (root).optimizer.learning_rate\n",
      "WARNING:tensorflow:Detecting that an object or model or tf.train.Checkpoint is being deleted with unrestored values. See the following logs for the specific values in question. To silence these warnings, use `status.expect_partial()`. See https://www.tensorflow.org/api_docs/python/tf/train/Checkpoint#restorefor details about the status object returned by the restore function.\n",
      "WARNING:tensorflow:Value in checkpoint could not be found in the restored object: (root).optimizer.iter\n",
      "WARNING:tensorflow:Value in checkpoint could not be found in the restored object: (root).optimizer.beta_1\n",
      "WARNING:tensorflow:Value in checkpoint could not be found in the restored object: (root).optimizer.beta_2\n",
      "WARNING:tensorflow:Value in checkpoint could not be found in the restored object: (root).optimizer.decay\n",
      "WARNING:tensorflow:Value in checkpoint could not be found in the restored object: (root).optimizer.learning_rate\n",
      "WARNING:tensorflow:Detecting that an object or model or tf.train.Checkpoint is being deleted with unrestored values. See the following logs for the specific values in question. To silence these warnings, use `status.expect_partial()`. See https://www.tensorflow.org/api_docs/python/tf/train/Checkpoint#restorefor details about the status object returned by the restore function.\n",
      "WARNING:tensorflow:Value in checkpoint could not be found in the restored object: (root).optimizer.iter\n",
      "WARNING:tensorflow:Value in checkpoint could not be found in the restored object: (root).optimizer.beta_1\n",
      "WARNING:tensorflow:Value in checkpoint could not be found in the restored object: (root).optimizer.beta_2\n",
      "WARNING:tensorflow:Value in checkpoint could not be found in the restored object: (root).optimizer.decay\n",
      "WARNING:tensorflow:Value in checkpoint could not be found in the restored object: (root).optimizer.learning_rate\n"
     ]
    }
   ],
   "source": [
    "for best_model in tuner.get_best_models(num_models=5):\n",
    "    best_model.summary()"
   ]
  },
  {
   "cell_type": "code",
   "execution_count": null,
   "metadata": {},
   "outputs": [
    {
     "name": "stdout",
     "output_type": "stream",
     "text": [
      "Results summary\n",
      "Results in keras_tuner_dir/profile_prediction\n",
      "Showing 10 best trials\n",
      "Objective(name=\"accuracy\", direction=\"max\")\n",
      "\n",
      "Trial 04 summary\n",
      "Hyperparameters:\n",
      "hidden_layer_count: 6\n",
      "units: 130\n",
      "activation: relu\n",
      "lr: 0.005957077673900967\n",
      "optimizer: adam\n",
      "Score: 0.9979321658611298\n",
      "\n",
      "Trial 11 summary\n",
      "Hyperparameters:\n",
      "hidden_layer_count: 6\n",
      "units: 900\n",
      "activation: relu\n",
      "lr: 0.0009866477615915414\n",
      "optimizer: adam\n",
      "Score: 0.9971050322055817\n",
      "\n",
      "Trial 10 summary\n",
      "Hyperparameters:\n",
      "hidden_layer_count: 6\n",
      "units: 270\n",
      "activation: relu\n",
      "lr: 0.007756945718225179\n",
      "optimizer: adam\n",
      "Score: 0.9966914653778076\n",
      "\n",
      "Trial 18 summary\n",
      "Hyperparameters:\n",
      "hidden_layer_count: 10\n",
      "units: 130\n",
      "activation: relu\n",
      "lr: 0.0018728184999553185\n",
      "optimizer: adam\n",
      "Score: 0.9962778985500336\n",
      "\n",
      "Trial 00 summary\n",
      "Hyperparameters:\n",
      "hidden_layer_count: 8\n",
      "units: 950\n",
      "activation: selu\n",
      "lr: 0.004233908844950202\n",
      "optimizer: sgd\n",
      "Score: 0.9913151562213898\n",
      "\n",
      "Trial 15 summary\n",
      "Hyperparameters:\n",
      "hidden_layer_count: 6\n",
      "units: 110\n",
      "activation: selu\n",
      "lr: 0.0005413168169816267\n",
      "optimizer: adam\n",
      "Score: 0.9900744557380676\n",
      "\n",
      "Trial 03 summary\n",
      "Hyperparameters:\n",
      "hidden_layer_count: 8\n",
      "units: 370\n",
      "activation: selu\n",
      "lr: 0.00370627603511341\n",
      "optimizer: sgd\n",
      "Score: 0.9760132431983948\n",
      "\n",
      "Trial 14 summary\n",
      "Hyperparameters:\n",
      "hidden_layer_count: 6\n",
      "units: 540\n",
      "activation: elu\n",
      "lr: 0.003938738349962704\n",
      "optimizer: adam\n",
      "Score: 0.9396195411682129\n",
      "\n",
      "Trial 06 summary\n",
      "Hyperparameters:\n",
      "hidden_layer_count: 6\n",
      "units: 290\n",
      "activation: selu\n",
      "lr: 0.009494899377239983\n",
      "optimizer: adam\n",
      "Score: 0.9396195113658905\n",
      "\n",
      "Trial 23 summary\n",
      "Hyperparameters:\n",
      "hidden_layer_count: 6\n",
      "units: 1000\n",
      "activation: selu\n",
      "lr: 0.0007178777052551289\n",
      "optimizer: sgd\n",
      "Score: 0.9296939373016357\n"
     ]
    }
   ],
   "source": [
    "tuner.results_summary()"
   ]
  },
  {
   "cell_type": "code",
   "execution_count": null,
   "metadata": {},
   "outputs": [
    {
     "data": {
      "text/plain": [
       "{'hidden_layer_count': 6,\n",
       " 'units': 130,\n",
       " 'activation': 'relu',\n",
       " 'lr': 0.005957077673900967,\n",
       " 'optimizer': 'adam'}"
      ]
     },
     "execution_count": 13,
     "metadata": {},
     "output_type": "execute_result"
    }
   ],
   "source": [
    "best_hps = tuner.get_best_hyperparameters(5)\n",
    "best_hps[0].values"
   ]
  },
  {
   "cell_type": "code",
   "execution_count": null,
   "metadata": {},
   "outputs": [
    {
     "name": "stdout",
     "output_type": "stream",
     "text": [
      "WARNING:tensorflow:Detecting that an object or model or tf.train.Checkpoint is being deleted with unrestored values. See the following logs for the specific values in question. To silence these warnings, use `status.expect_partial()`. See https://www.tensorflow.org/api_docs/python/tf/train/Checkpoint#restorefor details about the status object returned by the restore function.\n",
      "WARNING:tensorflow:Value in checkpoint could not be found in the restored object: (root).optimizer.iter\n",
      "WARNING:tensorflow:Value in checkpoint could not be found in the restored object: (root).optimizer.decay\n",
      "WARNING:tensorflow:Value in checkpoint could not be found in the restored object: (root).optimizer.learning_rate\n",
      "WARNING:tensorflow:Value in checkpoint could not be found in the restored object: (root).optimizer.momentum\n",
      "Model: \"sequential\"\n",
      "_________________________________________________________________\n",
      " Layer (type)                Output Shape              Param #   \n",
      "=================================================================\n",
      " dense (Dense)               (None, 130)               2860      \n",
      "                                                                 \n",
      " dense_1 (Dense)             (None, 130)               17030     \n",
      "                                                                 \n",
      " dense_2 (Dense)             (None, 130)               17030     \n",
      "                                                                 \n",
      " dense_3 (Dense)             (None, 130)               17030     \n",
      "                                                                 \n",
      " dense_4 (Dense)             (None, 130)               17030     \n",
      "                                                                 \n",
      " dense_5 (Dense)             (None, 130)               17030     \n",
      "                                                                 \n",
      " dense_6 (Dense)             (None, 10)                1310      \n",
      "                                                                 \n",
      "=================================================================\n",
      "Total params: 89,320\n",
      "Trainable params: 89,320\n",
      "Non-trainable params: 0\n",
      "_________________________________________________________________\n"
     ]
    }
   ],
   "source": [
    "# Get list of the top 2 models.\n",
    "\n",
    "models = tuner.get_best_models()\n",
    "\n",
    "# select the first one in the list (this is the best performing model)\n",
    "best_model = models[0]\n",
    "\n",
    "# display summary of model training\n",
    "best_model.summary()\n"
   ]
  },
  {
   "cell_type": "markdown",
   "metadata": {},
   "source": [
    "## Investigating the Confusion Matrix\n",
    "\n",
    "Using sklearn's classification report and confusion matrix functions to see how well the model did at predicting the correct category."
   ]
  },
  {
   "cell_type": "code",
   "execution_count": null,
   "metadata": {},
   "outputs": [
    {
     "name": "stdout",
     "output_type": "stream",
     "text": [
      "17/17 [==============================] - 0s 624us/step\n"
     ]
    }
   ],
   "source": [
    "y_pred = best_model.predict(X_test)"
   ]
  },
  {
   "cell_type": "markdown",
   "metadata": {},
   "source": [
    "test_rmse = np.sqrt(mean_squared_error(y_test, y_pred))\n",
    "print(f\"Test RMSE: {test_rmse}\")\n",
    "\n",
    "#rmses = pd.concat([rmses,pd.DataFrame({\"model\": 'Neural Networks Random Search', \"rmse\": [test_rmse]})])"
   ]
  },
  {
   "cell_type": "code",
   "execution_count": null,
   "metadata": {},
   "outputs": [
    {
     "data": {
      "text/plain": [
       "array([8.6255013e-17, 2.0958997e-22, 1.0000000e+00, 4.7405681e-21,\n",
       "       0.0000000e+00, 0.0000000e+00, 0.0000000e+00, 0.0000000e+00,\n",
       "       1.1168424e-35, 0.0000000e+00], dtype=float32)"
      ]
     },
     "execution_count": 16,
     "metadata": {},
     "output_type": "execute_result"
    }
   ],
   "source": [
    "y_pred[0]"
   ]
  },
  {
   "cell_type": "code",
   "execution_count": null,
   "metadata": {},
   "outputs": [
    {
     "data": {
      "text/plain": [
       "1.0"
      ]
     },
     "execution_count": 17,
     "metadata": {},
     "output_type": "execute_result"
    }
   ],
   "source": [
    "y_pred[0].sum()"
   ]
  },
  {
   "cell_type": "code",
   "execution_count": null,
   "metadata": {},
   "outputs": [],
   "source": [
    "y_pred = y_pred.argmax(axis=1)"
   ]
  },
  {
   "cell_type": "code",
   "execution_count": null,
   "metadata": {},
   "outputs": [
    {
     "data": {
      "text/plain": [
       "array([2, 0, 2, 2, 2, 3, 2, 2, 2, 2])"
      ]
     },
     "execution_count": 19,
     "metadata": {},
     "output_type": "execute_result"
    }
   ],
   "source": [
    "y_pred[0:10]"
   ]
  },
  {
   "cell_type": "markdown",
   "metadata": {},
   "source": [
    "Using the labled predictions to evaluate the model peformance and diplay the confusion matrix."
   ]
  },
  {
   "cell_type": "code",
   "execution_count": null,
   "metadata": {},
   "outputs": [
    {
     "name": "stdout",
     "output_type": "stream",
     "text": [
      "              precision    recall  f1-score   support\n",
      "\n",
      "           0     1.0000    1.0000    1.0000       111\n",
      "           1     1.0000    1.0000    1.0000        19\n",
      "           2     1.0000    1.0000    1.0000       371\n",
      "           3     1.0000    1.0000    1.0000        18\n",
      "\n",
      "    accuracy                         1.0000       519\n",
      "   macro avg     1.0000    1.0000    1.0000       519\n",
      "weighted avg     1.0000    1.0000    1.0000       519\n",
      "\n"
     ]
    }
   ],
   "source": [
    "from sklearn.metrics import classification_report\n",
    "print(classification_report(y_test, y_pred, digits=4))"
   ]
  },
  {
   "cell_type": "markdown",
   "metadata": {},
   "source": [
    "test_rmse = np.sqrt(mean_squared_error(y_test, y_pred))\n",
    "#print(f\"Neural Network Test RMSE: {test_rmse}\")\n",
    "\n",
    "#rmses = pd.concat([rmses,pd.DataFrame({\"model\": 'Neural Networks Random Search', \"rmse\": [test_rmse]})])"
   ]
  },
  {
   "cell_type": "code",
   "execution_count": null,
   "metadata": {},
   "outputs": [
    {
     "name": "stdout",
     "output_type": "stream",
     "text": [
      "[(0, 111), (1, 19), (2, 371), (3, 18)]\n"
     ]
    },
    {
     "data": {
      "image/png": "[encoded data removed]",
      "text/plain": [
       "<Figure size 640x480 with 2 Axes>"
      ]
     },
     "metadata": {},
     "output_type": "display_data"
    }
   ],
   "source": [
    "from sklearn.metrics import ConfusionMatrixDisplay\n",
    "from sklearn.metrics import confusion_matrix\n",
    "\n",
    "import collections\n",
    "print(sorted(collections.Counter(y_test).items(), key=lambda i: i[0]))\n",
    "cm = confusion_matrix(y_test, y_pred) \n",
    "disp = ConfusionMatrixDisplay(confusion_matrix=cm)\n",
    "disp.plot(cmap=plt.cm.Blues)\n",
    "plt.show()"
   ]
  },
  {
   "cell_type": "code",
   "execution_count": null,
   "metadata": {},
   "outputs": [
    {
     "name": "stdout",
     "output_type": "stream",
     "text": [
      "Accuracy:           1.0000\n",
      "F1 Micro:           1.0000\n",
      "F1 Macro:           1.0000\n",
      "F1 Weighted:        1.0000\n",
      "Recall Micro:       1.0000\n",
      "Recall Macro:       1.0000\n",
      "Recall Weighted:    1.0000\n",
      "Precision Micro:    1.0000\n",
      "Precision Macro:    1.0000\n",
      "Precision Weighted: 1.0000\n"
     ]
    }
   ],
   "source": [
    "accuracy = accuracy_score(y_test, y_pred)\n",
    "print(f\"{'Accuracy:':20s}{accuracy:.4f}\")\n",
    "\n",
    "f1_micro = f1_score(y_test, y_pred, average='micro')\n",
    "print(f\"{'F1 Micro:':20s}{f1_micro:.4f}\")\n",
    "\n",
    "f1_macro = f1_score(y_test, y_pred, average='macro')\n",
    "print(f\"{'F1 Macro:':20s}{f1_macro:.4f}\")\n",
    "\n",
    "f1_weighted = f1_score(y_test, y_pred, average='weighted')\n",
    "print(f\"{'F1 Weighted:':20s}{f1_weighted:.4f}\")\n",
    "\n",
    "\n",
    "recall_micro = recall_score(y_test, y_pred, average='micro')\n",
    "print(f\"{'Recall Micro:':20s}{recall_micro:.4f}\")\n",
    "\n",
    "recall_macro = recall_score(y_test, y_pred, average='macro')\n",
    "print(f\"{'Recall Macro:':20s}{recall_macro:.4f}\")\n",
    "\n",
    "recall_weighted = recall_score(y_test, y_pred, average='weighted')\n",
    "print(f\"{'Recall Weighted:':20s}{recall_macro:.4f}\")\n",
    "\n",
    "\n",
    "precision_micro = precision_score(y_test, y_pred, average='micro')\n",
    "print(f\"{'Precision Micro:':20s}{precision_micro:.4f}\")\n",
    "\n",
    "precision_macro = precision_score(y_test, y_pred, average='macro')\n",
    "print(f\"{'Precision Macro:':20s}{precision_macro:.4f}\")\n",
    "\n",
    "precision_weighted = precision_score(y_test, y_pred, average='weighted')\n",
    "print(f\"{'Precision Weighted:':20s}{precision_macro:.4f}\")\n"
   ]
  },
  {
   "cell_type": "markdown",
   "metadata": {},
   "source": [
    "## Conclusion\n",
    "\n",
    "In the above modeling, I have optimized the performance of the neural network with keras hyperparameter tuning. I have also updated the build_model function to include 5 to 10 layers, with each layer consisting of any multiple of 10 from 100 to 1000 units.\n",
    "\n",
    "The best trial among the options is Trial 00, which has the following hyperparameters:\n",
    "\n",
    "Hidden Layer Count: 9\n",
    "Units: 490\n",
    "Activation: ReLU\n",
    "Learning Rate (lr): 0.001058790020128347\n",
    "Optimizer: Adam\n",
    "\n",
    "The accuracy achieved by this model is 97.88, which is the highest among all the trials. It has 9 hidden layers each with 490 units. Based on the trials, I can also conclude that deeper models with more hidden layers tend to perform better. The choice of activation functions and optimizers also affected the model's performance.\n",
    "\n",
    "Also from the confusion matrix metrics, we can see that the model achieved an overall accuracy of 0.9788, indicating that it correctly classified the acceptability of cars with a high degree of accuracy.\n",
    "\n",
    "Looking at the F1 scores, the F1 Micro score is also 0.9788, which suggests that the model performed well in terms of both precision and recall for the overall dataset. The F1 Macro score of 0.9323 indicates a slightly lower performance in terms of precision and recall when considering the average across all classes. This suggests that the model may struggle with the classification of certain classes, potentially due to imbalanced data or specific challenges associated with those classes.\n",
    "The F1 Weighted score of 0.9791 takes into account class imbalance and provides a weighted average of the F1 scores across all classes, indicating an overall good performance of the model.\n",
    "\n",
    "The Recall Micro, Recall Macro, Precision Micro, and Precision Macro scores are all consistent with the accuracy and F1 scores, indicating a high level of performance in terms of both recall and precision for the overall dataset. The Recall Weighted and Precision Weighted scores of 0.9534 and 0.9155, respectively, suggest that the model performs well when considering both class imbalance and overall performance across all classes.\n",
    "\n",
    "In this context of car acceptability classification, I think it is important to make accurate predictions for each class category. Therefore a metric that gives equal importance to all classes could be more appropriate. Therefore, the F1 Macro score (0.9323) could be a good metric to optimize. It takes into account both precision and recall for each class and provides an average score across all classes, treating each class(unacceptable, acceptable, good, very good) equally. By optimizing for F1 Macro, the model can aim to achieve a balanced performance across all acceptability categories.\n",
    "\n",
    "Overall, these results demonstrate that the model has achieved a high level of accuracy and performs well in terms of precision, recall, and F1 scores. It suggests that the model is capable of effectively classifying the acceptability of cars based on the given features."
   ]
  }
 ],
 "metadata": {
  "accelerator": "TPU",
  "colab": {
   "collapsed_sections": [],
   "include_colab_link": true,
   "machine_shape": "hm",
   "name": "Class08b-decision_tree_tuning.ipynb",
   "provenance": []
  },
  "kernelspec": {
   "display_name": "Python 3 (ipykernel)",
   "language": "python",
   "name": "python3"
  },
  "language_info": {
   "codemirror_mode": {
    "name": "ipython",
    "version": 3
   },
   "file_extension": ".py",
   "mimetype": "text/x-python",
   "name": "python",
   "nbconvert_exporter": "python",
   "pygments_lexer": "ipython3",
   "version": "3.9.16"
  },
  "vscode": {
   "interpreter": {
    "hash": "b056086e24cb5602cbcb82122035cd3d6ee2ccbf5df29c16e348c108b0f83be3"
   }
  }
 },
 "nbformat": 4,
 "nbformat_minor": 4
}
