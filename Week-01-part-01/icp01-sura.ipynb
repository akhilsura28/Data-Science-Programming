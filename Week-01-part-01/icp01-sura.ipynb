{
 "cells": [
  {
   "cell_type": "markdown",
   "id": "33b5d345-841a-4876-809e-986aa690f47f",
   "metadata": {},
   "source": [
    "# My First Jupyter Notebook Assignment\n",
    "\n",
    "## Akhil Sura"
   ]
  },
  {
   "cell_type": "markdown",
   "id": "165cf4f3-9c0a-45d2-b8ea-bd846b20c664",
   "metadata": {},
   "source": [
    "### A Brief Intro About Myself -\n",
    "\n",
    "**I started as a graduate student at USF in Fall 2022. Prior to pursuing my Master's here in Business Analytics and Information Systems, I did my bachelors in Electronics and Communications engineering from Osmania University in India. Later on, I worked in a startup as a backend application developer for 20 months and also as an analyst and in application support role for an MNC for a year. My outside interests include playing chess, watching a series, or hanging out with friends.**\n",
    "\n",
    "![This is me!](Akhil.jpg)\n",
    "\n",
    "\n",
    "**_Coming to the course, I am especially intrigued by the concept of Ensemble Techniques. Ensemble techniques overcome the limitations of the standalone decision tree model by combining multiple decision trees to form a single more robust predictive model. As aggregate data at hand becomes more complex day by day in the present world, it becomes challenging to capture and report accurate analysis due to complex relationships in the data. I would like to delve deeper into this topic and understand how different types of ensemble techniques work. My expectation from this course is also to improve my Python programming skill and understand how Python can be used to apply data science techniques to analyze the data at hand. I love learning and experimenting with new technologies. I am excited to learn about Data Science Programming and look forward to interacting with all of you this semester._**"
   ]
  },
  {
   "cell_type": "code",
   "execution_count": 3,
   "id": "2b7a73ad-971a-4a13-8d91-45749662deb1",
   "metadata": {},
   "outputs": [
    {
     "name": "stdout",
     "output_type": "stream",
     "text": [
      "Hello, World!\n"
     ]
    }
   ],
   "source": [
    "print(\"Hello, World!\")"
   ]
  }
 ],
 "metadata": {
  "kernelspec": {
   "display_name": "Python 3 (ipykernel)",
   "language": "python",
   "name": "python3"
  },
  "language_info": {
   "codemirror_mode": {
    "name": "ipython",
    "version": 3
   },
   "file_extension": ".py",
   "mimetype": "text/x-python",
   "name": "python",
   "nbconvert_exporter": "python",
   "pygments_lexer": "ipython3",
   "version": "3.9.13"
  }
 },
 "nbformat": 4,
 "nbformat_minor": 5
}
