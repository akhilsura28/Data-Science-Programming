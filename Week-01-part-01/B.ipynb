{
 "cells": [
  {
   "cell_type": "code",
   "execution_count": 2,
   "id": "00395840-ea67-4f30-94dd-79afe155938d",
   "metadata": {},
   "outputs": [],
   "source": [
    "import numpy as np\n",
    "min_samples_split = np.arange(2,100)"
   ]
  },
  {
   "cell_type": "code",
   "execution_count": 3,
   "id": "137e5045-12cc-4daa-b44f-0708ec8c76e3",
   "metadata": {},
   "outputs": [
    {
     "data": {
      "text/plain": [
       "array([ 2,  3,  4,  5,  6,  7,  8,  9, 10, 11, 12, 13, 14, 15, 16, 17, 18,\n",
       "       19, 20, 21, 22, 23, 24, 25, 26, 27, 28, 29, 30, 31, 32, 33, 34, 35,\n",
       "       36, 37, 38, 39, 40, 41, 42, 43, 44, 45, 46, 47, 48, 49, 50, 51, 52,\n",
       "       53, 54, 55, 56, 57, 58, 59, 60, 61, 62, 63, 64, 65, 66, 67, 68, 69,\n",
       "       70, 71, 72, 73, 74, 75, 76, 77, 78, 79, 80, 81, 82, 83, 84, 85, 86,\n",
       "       87, 88, 89, 90, 91, 92, 93, 94, 95, 96, 97, 98, 99])"
      ]
     },
     "execution_count": 3,
     "metadata": {},
     "output_type": "execute_result"
    }
   ],
   "source": [
    "min_samples_split"
   ]
  },
  {
   "cell_type": "code",
   "execution_count": 5,
   "id": "b505bd0a-bed4-42d0-82b5-153647a748b9",
   "metadata": {},
   "outputs": [],
   "source": [
    "min_impurity_decrease = np.arange(0.0001, 0.001)"
   ]
  },
  {
   "cell_type": "code",
   "execution_count": 6,
   "id": "0454462d-3fcb-432f-a4a2-7a659fb389f2",
   "metadata": {},
   "outputs": [
    {
     "data": {
      "text/plain": [
       "array([0.0001])"
      ]
     },
     "execution_count": 6,
     "metadata": {},
     "output_type": "execute_result"
    }
   ],
   "source": [
    "min_impurity_decrease"
   ]
  },
  {
   "cell_type": "code",
   "execution_count": 7,
   "id": "58956d39-85b9-4ef6-844a-d5fde4c1af8b",
   "metadata": {},
   "outputs": [],
   "source": [
    "min_impurity_decrease = np.arange(0.0001, 0.001, 0.00005)"
   ]
  },
  {
   "cell_type": "code",
   "execution_count": 8,
   "id": "fae83601-e532-4184-b16a-00c5c933a7ec",
   "metadata": {},
   "outputs": [
    {
     "data": {
      "text/plain": [
       "array([0.0001 , 0.00015, 0.0002 , 0.00025, 0.0003 , 0.00035, 0.0004 ,\n",
       "       0.00045, 0.0005 , 0.00055, 0.0006 , 0.00065, 0.0007 , 0.00075,\n",
       "       0.0008 , 0.00085, 0.0009 , 0.00095])"
      ]
     },
     "execution_count": 8,
     "metadata": {},
     "output_type": "execute_result"
    }
   ],
   "source": [
    "min_impurity_decrease"
   ]
  },
  {
   "cell_type": "code",
   "execution_count": 11,
   "id": "a563ccc1-eb6e-4954-8c95-55b581ae36e4",
   "metadata": {},
   "outputs": [],
   "source": [
    "min_samples_split = np.arange(5,100,5)"
   ]
  },
  {
   "cell_type": "code",
   "execution_count": 12,
   "id": "c31368d1-01fb-47b8-a3a5-488eb9229192",
   "metadata": {},
   "outputs": [
    {
     "data": {
      "text/plain": [
       "array([ 5, 10, 15, 20, 25, 30, 35, 40, 45, 50, 55, 60, 65, 70, 75, 80, 85,\n",
       "       90, 95])"
      ]
     },
     "execution_count": 12,
     "metadata": {},
     "output_type": "execute_result"
    }
   ],
   "source": [
    "min_samples_split"
   ]
  },
  {
   "cell_type": "code",
   "execution_count": null,
   "id": "dbe40515-4e83-4320-9330-99e355bf5b24",
   "metadata": {},
   "outputs": [],
   "source": []
  }
 ],
 "metadata": {
  "kernelspec": {
   "display_name": "Python 3 (ipykernel)",
   "language": "python",
   "name": "python3"
  },
  "language_info": {
   "codemirror_mode": {
    "name": "ipython",
    "version": 3
   },
   "file_extension": ".py",
   "mimetype": "text/x-python",
   "name": "python",
   "nbconvert_exporter": "python",
   "pygments_lexer": "ipython3",
   "version": "3.9.16"
  }
 },
 "nbformat": 4,
 "nbformat_minor": 5
}
