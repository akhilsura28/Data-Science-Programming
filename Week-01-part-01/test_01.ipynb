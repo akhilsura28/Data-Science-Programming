{
 "cells": [
  {
   "cell_type": "code",
   "execution_count": 3,
   "id": "27a99c19-94be-46d6-a399-f9a11a6b4645",
   "metadata": {},
   "outputs": [
    {
     "name": "stdout",
     "output_type": "stream",
     "text": [
      "Hello World\n"
     ]
    }
   ],
   "source": [
    "print(\"Hello World\")"
   ]
  },
  {
   "cell_type": "markdown",
   "id": "1d5a423c-5935-44dc-aa54-16748be0e25d",
   "metadata": {},
   "source": [
    "print(\"Hello again\")"
   ]
  },
  {
   "cell_type": "code",
   "execution_count": null,
   "id": "7a9dc879-8575-4199-a539-3d0cd3a8d683",
   "metadata": {},
   "outputs": [],
   "source": []
  }
 ],
 "metadata": {
  "kernelspec": {
   "display_name": "Python 3 (ipykernel)",
   "language": "python",
   "name": "python3"
  },
  "language_info": {
   "codemirror_mode": {
    "name": "ipython",
    "version": 3
   },
   "file_extension": ".py",
   "mimetype": "text/x-python",
   "name": "python",
   "nbconvert_exporter": "python",
   "pygments_lexer": "ipython3",
   "version": "3.9.13"
  }
 },
 "nbformat": 4,
 "nbformat_minor": 5
}
