{
 "cells": [
  {
   "cell_type": "code",
   "execution_count": 3,
   "metadata": {},
   "outputs": [],
   "source": [
    "# Pandas DataFrame Demo\n",
    "\n",
    "import pandas as pd"
   ]
  },
  {
   "cell_type": "code",
   "execution_count": 4,
   "metadata": {},
   "outputs": [],
   "source": [
    "# Creating a DataFrame from a dictionary\n",
    "data = {\n",
    "    'Name': ['John', 'Emma', 'Ryan', 'Emily'],\n",
    "    'Age': [25, 28, 22, 24],\n",
    "    'City': ['New York', 'London', 'Paris', 'Sydney']\n",
    "}"
   ]
  },
  {
   "cell_type": "code",
   "execution_count": 5,
   "metadata": {},
   "outputs": [
    {
     "name": "stdout",
     "output_type": "stream",
     "text": [
      "DataFrame:\n",
      "    Name  Age      City\n",
      "0   John   25  New York\n",
      "1   Emma   28    London\n",
      "2   Ryan   22     Paris\n",
      "3  Emily   24    Sydney\n"
     ]
    }
   ],
   "source": [
    "df = pd.DataFrame(data)\n",
    "print(\"DataFrame:\")\n",
    "print(df)"
   ]
  },
  {
   "cell_type": "code",
   "execution_count": 6,
   "metadata": {},
   "outputs": [
    {
     "name": "stdout",
     "output_type": "stream",
     "text": [
      "\n",
      "Name column:\n",
      "0     John\n",
      "1     Emma\n",
      "2     Ryan\n",
      "3    Emily\n",
      "Name: Name, dtype: object\n"
     ]
    }
   ],
   "source": [
    "# Accessing columns\n",
    "print(\"\\nName column:\")\n",
    "print(df['Name'])"
   ]
  },
  {
   "cell_type": "code",
   "execution_count": 7,
   "metadata": {},
   "outputs": [
    {
     "name": "stdout",
     "output_type": "stream",
     "text": [
      "\n",
      "First row:\n",
      "Name        John\n",
      "Age           25\n",
      "City    New York\n",
      "Name: 0, dtype: object\n"
     ]
    }
   ],
   "source": [
    "# Accessing rows\n",
    "print(\"\\nFirst row:\")\n",
    "print(df.loc[0])"
   ]
  },
  {
   "cell_type": "code",
   "execution_count": 8,
   "metadata": {},
   "outputs": [
    {
     "name": "stdout",
     "output_type": "stream",
     "text": [
      "\n",
      "Updated DataFrame:\n",
      "    Name  Age      City    Country\n",
      "0   John   25  New York        USA\n",
      "1   Emma   28    London         UK\n",
      "2   Ryan   22     Paris     France\n",
      "3  Emily   24    Sydney  Australia\n"
     ]
    }
   ],
   "source": [
    "# Adding a new column\n",
    "df['Country'] = ['USA', 'UK', 'France', 'Australia']\n",
    "print(\"\\nUpdated DataFrame:\")\n",
    "print(df)"
   ]
  },
  {
   "cell_type": "code",
   "execution_count": 9,
   "metadata": {},
   "outputs": [
    {
     "name": "stdout",
     "output_type": "stream",
     "text": [
      "\n",
      "Updated DataFrame:\n",
      "    Name  Age      City    Country\n",
      "0   John   25  New York        USA\n",
      "1   Emma   28    London         UK\n",
      "2   Ryan   23     Paris     France\n",
      "3  Emily   24    Sydney  Australia\n"
     ]
    }
   ],
   "source": [
    "# Modifying values\n",
    "df.loc[2, 'Age'] = 23\n",
    "print(\"\\nUpdated DataFrame:\")\n",
    "print(df)"
   ]
  },
  {
   "cell_type": "code",
   "execution_count": 10,
   "metadata": {},
   "outputs": [
    {
     "name": "stdout",
     "output_type": "stream",
     "text": [
      "\n",
      "Updated DataFrame:\n",
      "    Name  Age      City\n",
      "0   John   25  New York\n",
      "1   Emma   28    London\n",
      "2   Ryan   23     Paris\n",
      "3  Emily   24    Sydney\n"
     ]
    }
   ],
   "source": [
    "# Removing a column\n",
    "df.drop('Country', axis=1, inplace=True)\n",
    "print(\"\\nUpdated DataFrame:\")\n",
    "print(df)"
   ]
  },
  {
   "cell_type": "code",
   "execution_count": 11,
   "metadata": {},
   "outputs": [
    {
     "name": "stdout",
     "output_type": "stream",
     "text": [
      "\n",
      "Filtered DataFrame:\n",
      "   Name  Age      City\n",
      "0  John   25  New York\n",
      "1  Emma   28    London\n"
     ]
    }
   ],
   "source": [
    "# Filtering rows based on a condition\n",
    "filtered_df = df[df['Age'] > 24]\n",
    "print(\"\\nFiltered DataFrame:\")\n",
    "print(filtered_df)"
   ]
  },
  {
   "cell_type": "code",
   "execution_count": 12,
   "metadata": {},
   "outputs": [
    {
     "name": "stdout",
     "output_type": "stream",
     "text": [
      "\n",
      "Sorted DataFrame:\n",
      "    Name  Age      City\n",
      "2   Ryan   23     Paris\n",
      "3  Emily   24    Sydney\n",
      "0   John   25  New York\n",
      "1   Emma   28    London\n"
     ]
    }
   ],
   "source": [
    "# Sorting the DataFrame\n",
    "sorted_df = df.sort_values('Age')\n",
    "print(\"\\nSorted DataFrame:\")\n",
    "print(sorted_df)"
   ]
  },
  {
   "cell_type": "code",
   "execution_count": 13,
   "metadata": {},
   "outputs": [
    {
     "name": "stdout",
     "output_type": "stream",
     "text": [
      "\n",
      "Subset DataFrame:\n",
      "    Name      City\n",
      "0   John  New York\n",
      "1   Emma    London\n",
      "2   Ryan     Paris\n",
      "3  Emily    Sydney\n"
     ]
    }
   ],
   "source": [
    "# Creating a new DataFrame from a subset of columns\n",
    "subset_df = df[['Name', 'City']] # notice the double brackets! Inside is a list of column names. The will produce a new DataFrame.\n",
    "print(\"\\nSubset DataFrame:\")\n",
    "print(subset_df)"
   ]
  }
 ],
 "metadata": {
  "kernelspec": {
   "display_name": "Python 3 (ipykernel)",
   "language": "python",
   "name": "python3"
  },
  "language_info": {
   "codemirror_mode": {
    "name": "ipython",
    "version": 3
   },
   "file_extension": ".py",
   "mimetype": "text/x-python",
   "name": "python",
   "nbconvert_exporter": "python",
   "pygments_lexer": "ipython3",
   "version": "3.9.16"
  }
 },
 "nbformat": 4,
 "nbformat_minor": 4
}
