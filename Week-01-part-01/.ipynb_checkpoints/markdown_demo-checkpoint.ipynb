{
 "cells": [
  {
   "cell_type": "markdown",
   "metadata": {},
   "source": [
    "## Markdown introduction and demonstration\n",
    "\n",
    "Markdown is a lightweight markup language that is commonly used for formatting and structuring text. It provides a simple and efficient way to create documents with basic formatting elements, making it a useful tool for students and educators in the classroom. Here's a summary of Markdown that can be used in an educational setting:\n",
    "\n",
    "1. Headings: Use hashtags (#) to indicate different heading levels. For example, one hashtag for the main heading, two hashtags for a subheading, and so on. Headings help organize your content and create a hierarchical structure.\n",
    "\n",
    "2. Formatting Text: Emphasize text by placing it between asterisks (*) or underscores (_). For example, italic or italic, and bold or bold. These formatting options can be used to highlight important information or emphasize key points.\n",
    "\n",
    "3. Lists: Create unordered lists using asterisks (*), plus signs (+), or hyphens (-) at the beginning of each line. For ordered lists, use numbers followed by periods. Lists are useful for presenting information in a structured and easy-to-follow manner.\n",
    "\n",
    "4. Links: Insert hyperlinks by enclosing the link text in square brackets ([ ]) followed by the URL in parentheses ( ). For example, Google. This allows you to provide references or direct students to additional resources.\n",
    "\n",
    "5. Images: Display images by using an exclamation mark (!) followed by square brackets containing an optional alt text and the image URL in parentheses. For example, Alt Text. Images can enhance visual content and make it more engaging for students.\n",
    "\n",
    "6. Blockquotes: Use the greater-than symbol (>) at the beginning of a line to create a blockquote. This is useful when quoting external sources, providing context, or emphasizing important quotes.\n",
    "\n",
    "7. Code Blocks: Display code or computer program snippets by enclosing them in backticks (`). For multiline code blocks, use triple backticks (```) before and after the code. This ensures that code is distinct and easy to identify within the text.\n",
    "\n",
    "8. Horizontal Lines: Create horizontal lines to visually separate sections or content by using three hyphens (---), three asterisks (***), or three underscores (___) on a line by themselves.\n",
    "\n",
    "9. Tables: Create tables by using vertical bars (|) to separate columns and hyphens (-) to create the table headers. Tables can be useful for organizing data or presenting information in a structured manner.\n",
    "\n",
    "10. Escaping Characters: If you want to display characters that have special meaning in Markdown (such as asterisks or hashtags) as literal characters, precede them with a backslash (). This is known as escaping characters.\n",
    "\n",
    "Markdown is a versatile and user-friendly markup language that can be quickly learned and implemented in the classroom. By utilizing Markdown, students can focus on content creation and collaboration, while the formatting and structure of their documents are taken care of.\n",
    "\n",
    "The following cells demonstrate Markdown usage. Double click on a markdown cell to see the markdown code"
   ]
  },
  {
   "cell_type": "markdown",
   "metadata": {},
   "source": [
    "-----------"
   ]
  },
  {
   "cell_type": "markdown",
   "metadata": {},
   "source": [
    "# Header 1\n",
    "\n",
    "## header 2\n",
    "\n",
    "### header 3\n",
    "\n",
    "#### header 4\n",
    "\n",
    "##### header 5"
   ]
  },
  {
   "cell_type": "markdown",
   "metadata": {},
   "source": [
    "-------"
   ]
  },
  {
   "cell_type": "markdown",
   "metadata": {},
   "source": [
    "**This is bold**, _this is italic_, and **_this is bold and italic_**."
   ]
  },
  {
   "cell_type": "markdown",
   "metadata": {},
   "source": [
    "------"
   ]
  },
  {
   "cell_type": "markdown",
   "metadata": {},
   "source": [
    "This is an unordered list:\n",
    "* item 1\n",
    "* item 2\n",
    "  * item 2.1\n",
    "  * item 2.2\n",
    "    * item 2.2.1\n",
    "* item 3\n",
    "\n",
    "This is an ordered list:\n",
    "\n",
    "1. item 1\n",
    "2. item 2\n",
    "   1. item 2.1\n",
    "      1. item 2.1.1\n",
    "      2. item\n",
    "3. item 3\n",
    "  "
   ]
  },
  {
   "cell_type": "markdown",
   "metadata": {},
   "source": [
    "------"
   ]
  },
  {
   "cell_type": "markdown",
   "metadata": {},
   "source": [
    "This is a link to [google search](http:\\\\www.google.com).\n",
    "\n",
    "this is a link to [canvas page](https://my.usf.edu/myusf/home_myusf/index)"
   ]
  },
  {
   "cell_type": "markdown",
   "metadata": {},
   "source": [
    "-------"
   ]
  },
  {
   "cell_type": "markdown",
   "metadata": {},
   "source": [
    "This is mittens:\n",
    "\n",
    "![mittens](mittens.jpg)\n"
   ]
  },
  {
   "cell_type": "markdown",
   "metadata": {},
   "source": [
    "--------"
   ]
  },
  {
   "cell_type": "markdown",
   "metadata": {},
   "source": [
    "In 1976, a British statistician named George Box wrote the famous line, \n",
    "\n",
    "> All models are wrong, some are useful.\n",
    "\n",
    "His point was that we should focus more on whether something can be applied to everyday life in a useful manner rather than debating endlessly if an answer is correct in all cases.\n"
   ]
  },
  {
   "cell_type": "markdown",
   "metadata": {},
   "source": [
    "------"
   ]
  },
  {
   "cell_type": "markdown",
   "metadata": {},
   "source": [
    "Here are a few sample code blocks:\n",
    "\n",
    "```python\n",
    "print(\"Hello World\")\n",
    "x = 10 + 2\n",
    "print(x)\n",
    "```\n",
    "\n",
    "```sql\n",
    "SELECT * from some_table WHERE some_column = 'some_value';\n",
    "```\n",
    "\n",
    "```\n",
    "This is a generic code block\n",
    "```\n",
    "\n"
   ]
  },
  {
   "cell_type": "markdown",
   "metadata": {},
   "source": [
    "------"
   ]
  },
  {
   "cell_type": "markdown",
   "metadata": {},
   "source": [
    "Table:\n",
    "\n",
    "| Syntax      | Description |\n",
    "| ----------- | ----------- |\n",
    "| #     | Header 1      |\n",
    "| ##   | Header 2       |\n",
    "| ###   | Header 3       |\n",
    "| ####   | Header 4       |\n",
    "| #####   | Header 5       |"
   ]
  },
  {
   "cell_type": "markdown",
   "metadata": {},
   "source": [
    "--------"
   ]
  },
  {
   "cell_type": "markdown",
   "metadata": {},
   "source": [
    "These are two astrisks representing bold:\n",
    "**bolded test**\n",
    "\n",
    "But there are times when you want to use the character, and not have it interpretted as a symbol.  In those cases, you can use the backslash to escape the character.  For example, this is a backslash: \\\\\n",
    "\n",
    "\\*\\*This is not bolded\\*\\*"
   ]
  },
  {
   "cell_type": "markdown",
   "metadata": {},
   "source": [
    "----------"
   ]
  },
  {
   "cell_type": "markdown",
   "metadata": {},
   "source": [
    "There are many other ways to use markdown.  For more information, see the [Markdown Cheatsheet](https://www.markdownguide.org/cheat-sheet/)."
   ]
  },
  {
   "cell_type": "code",
   "execution_count": null,
   "metadata": {},
   "outputs": [],
   "source": []
  }
 ],
 "metadata": {
  "kernelspec": {
   "display_name": "Python 3 (ipykernel)",
   "language": "python",
   "name": "python3"
  },
  "language_info": {
   "codemirror_mode": {
    "name": "ipython",
    "version": 3
   },
   "file_extension": ".py",
   "mimetype": "text/x-python",
   "name": "python",
   "nbconvert_exporter": "python",
   "pygments_lexer": "ipython3",
   "version": "3.9.13"
  }
 },
 "nbformat": 4,
 "nbformat_minor": 4
}
