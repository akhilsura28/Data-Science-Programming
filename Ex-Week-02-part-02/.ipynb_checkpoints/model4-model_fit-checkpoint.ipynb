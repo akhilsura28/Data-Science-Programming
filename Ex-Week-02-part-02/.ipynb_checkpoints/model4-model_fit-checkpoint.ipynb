{
 "cells": [
  {
   "cell_type": "markdown",
   "id": "66d01c8a-f0cd-42af-aff9-8ba0bbd3c47e",
   "metadata": {
    "slideshow": {
     "slide_type": "slide"
    },
    "tags": []
   },
   "source": [
    "# Predictive Modeling Example: Model fit\n",
    "\n",
    "In this notebook, we will fit a model to the data we have prepared in the previous notebook. We will use the sci-kit learn library to fit a linear regression model to the data.\n",
    "\n",
    "1. Import libraries and modules\n",
    "2. Load data\n",
    "3. Explore data\n",
    "4. Fit model\n",
    "5. Evaluate model\n",
    "6. Save model"
   ]
  },
  {
   "cell_type": "markdown",
   "id": "049ea964-ba9d-46aa-af88-d13550f27638",
   "metadata": {
    "slideshow": {
     "slide_type": "slide"
    },
    "tags": []
   },
   "source": [
    "## Step 1: Import the libraries we will use in this notebook"
   ]
  },
  {
   "cell_type": "code",
   "execution_count": 1,
   "id": "cca96620-674f-43be-9633-3546127c263b",
   "metadata": {
    "slideshow": {
     "slide_type": "fragment"
    },
    "tags": []
   },
   "outputs": [],
   "source": [
    "import matplotlib.pyplot as plt\n",
    "import numpy as np\n",
    "import pandas as pd\n",
    "from sklearn.linear_model import LinearRegression\n",
    "\n",
    "np.random.seed(1) # set this to ensure the results are repeatable. "
   ]
  },
  {
   "cell_type": "markdown",
   "id": "31b63237-2a6b-40be-a7c9-9fd854b52339",
   "metadata": {},
   "source": [
    "## Step 2: Load the given data that we will model"
   ]
  },
  {
   "cell_type": "code",
   "execution_count": 2,
   "id": "7815e222-9aae-4b39-999e-689dcea5aeb8",
   "metadata": {},
   "outputs": [
    {
     "data": {
      "text/html": [
       "<div>\n",
       "<style scoped>\n",
       "    .dataframe tbody tr th:only-of-type {\n",
       "        vertical-align: middle;\n",
       "    }\n",
       "\n",
       "    .dataframe tbody tr th {\n",
       "        vertical-align: top;\n",
       "    }\n",
       "\n",
       "    .dataframe thead th {\n",
       "        text-align: right;\n",
       "    }\n",
       "</style>\n",
       "<table border=\"1\" class=\"dataframe\">\n",
       "  <thead>\n",
       "    <tr style=\"text-align: right;\">\n",
       "      <th></th>\n",
       "      <th>input</th>\n",
       "      <th>target</th>\n",
       "    </tr>\n",
       "  </thead>\n",
       "  <tbody>\n",
       "    <tr>\n",
       "      <th>0</th>\n",
       "      <td>16.243454</td>\n",
       "      <td>8803.949866</td>\n",
       "    </tr>\n",
       "    <tr>\n",
       "      <th>1</th>\n",
       "      <td>-6.117564</td>\n",
       "      <td>-657.602516</td>\n",
       "    </tr>\n",
       "    <tr>\n",
       "      <th>2</th>\n",
       "      <td>-5.281718</td>\n",
       "      <td>-210.705031</td>\n",
       "    </tr>\n",
       "  </tbody>\n",
       "</table>\n",
       "</div>"
      ],
      "text/plain": [
       "       input       target\n",
       "0  16.243454  8803.949866\n",
       "1  -6.117564  -657.602516\n",
       "2  -5.281718  -210.705031"
      ]
     },
     "execution_count": 2,
     "metadata": {},
     "output_type": "execute_result"
    }
   ],
   "source": [
    "df = pd.read_csv('model4_dataset.csv')\n",
    "\n",
    "df.head(3)"
   ]
  },
  {
   "cell_type": "markdown",
   "id": "9659bd78-3ccf-4add-af07-ce79a5a197f1",
   "metadata": {},
   "source": [
    "For educational purposes, let's look at the first five values in X and y (note how X is an array of lists)"
   ]
  },
  {
   "cell_type": "markdown",
   "id": "2251b80d-af86-4eb1-87b3-4852081028c3",
   "metadata": {},
   "source": [
    "## Step 3: Explore the given data\n",
    "\n",
    "Often we will do much more than this, but at least look at things using a scatterplot"
   ]
  },
  {
   "cell_type": "code",
   "execution_count": 3,
   "id": "8ba59a2e-a02a-4ea4-a73a-1ac6ba1d0056",
   "metadata": {},
   "outputs": [
    {
     "data": {
      "image/png": "[encoded data removed]",
      "text/plain": [
       "<Figure size 640x480 with 1 Axes>"
      ]
     },
     "metadata": {},
     "output_type": "display_data"
    }
   ],
   "source": [
    "fig = plt.figure()\n",
    "ax = fig.add_subplot()\n",
    "\n",
    "ax.scatter(df['input'], df['target'], color='blue')\n",
    "\n",
    "ax.set_xlabel('input')\n",
    "ax.set_ylabel('target')\n",
    "plt.tight_layout()\n",
    "plt.show()"
   ]
  },
  {
   "cell_type": "markdown",
   "id": "6545c4b0-4a61-4343-b7cf-db7f746b5d3c",
   "metadata": {},
   "source": [
    "## Step 4a: Fit the model using a 1st order polynomial (linear regression)\n",
    "\n",
    "Let's imagine that you're very new at this and you did not recognize that the relationship between x and y is clearly not a linear (1st order polynomial) relationship. "
   ]
  },
  {
   "cell_type": "code",
   "execution_count": 4,
   "id": "8f566ef6-b1b2-4091-b9fb-f33c27832c5f",
   "metadata": {},
   "outputs": [],
   "source": [
    "lin_reg=LinearRegression()\n",
    "\n",
    "lin_reg = LinearRegression().fit(df[['input']],df['target'])"
   ]
  },
  {
   "cell_type": "markdown",
   "id": "5450595c",
   "metadata": {},
   "source": [
    "## Step 4a: Fit the model using a 2nd order polynomial \n",
    "\n",
    "Let's image (and hopefully this is you) that you recognized that the relationship between x and y is clearly not a linear (1st order polynomial) relationship. And, if you have sufficient experience with common function 'shapes', you recognize that this relationship looks like a second order polynomial.\n",
    "\n",
    "To fit this as a polynomial model, we must engineer a new feature (this is an example of a much broader topic of feature engineering). This new feature is the square of the original feature. Let's store all of this into a new dataframe called new_df."
   ]
  },
  {
   "cell_type": "code",
   "execution_count": 5,
   "id": "937fc30f",
   "metadata": {},
   "outputs": [
    {
     "data": {
      "text/html": [
       "<div>\n",
       "<style scoped>\n",
       "    .dataframe tbody tr th:only-of-type {\n",
       "        vertical-align: middle;\n",
       "    }\n",
       "\n",
       "    .dataframe tbody tr th {\n",
       "        vertical-align: top;\n",
       "    }\n",
       "\n",
       "    .dataframe thead th {\n",
       "        text-align: right;\n",
       "    }\n",
       "</style>\n",
       "<table border=\"1\" class=\"dataframe\">\n",
       "  <thead>\n",
       "    <tr style=\"text-align: right;\">\n",
       "      <th></th>\n",
       "      <th>x1</th>\n",
       "      <th>x2</th>\n",
       "      <th>y</th>\n",
       "    </tr>\n",
       "  </thead>\n",
       "  <tbody>\n",
       "    <tr>\n",
       "      <th>0</th>\n",
       "      <td>16.243454</td>\n",
       "      <td>263.849786</td>\n",
       "      <td>8803.949866</td>\n",
       "    </tr>\n",
       "    <tr>\n",
       "      <th>1</th>\n",
       "      <td>-6.117564</td>\n",
       "      <td>37.424591</td>\n",
       "      <td>-657.602516</td>\n",
       "    </tr>\n",
       "    <tr>\n",
       "      <th>2</th>\n",
       "      <td>-5.281718</td>\n",
       "      <td>27.896540</td>\n",
       "      <td>-210.705031</td>\n",
       "    </tr>\n",
       "  </tbody>\n",
       "</table>\n",
       "</div>"
      ],
      "text/plain": [
       "          x1          x2            y\n",
       "0  16.243454  263.849786  8803.949866\n",
       "1  -6.117564   37.424591  -657.602516\n",
       "2  -5.281718   27.896540  -210.705031"
      ]
     },
     "execution_count": 5,
     "metadata": {},
     "output_type": "execute_result"
    }
   ],
   "source": [
    "new_df = pd.DataFrame()\n",
    "new_df['x1'] = df['input']\n",
    "new_df['x2'] = df['input']**2  # here we have engineered a new feature\n",
    "new_df['y'] = df['target']\n",
    "\n",
    "new_df.head(3)"
   ]
  },
  {
   "cell_type": "code",
   "execution_count": 6,
   "id": "f34f1545",
   "metadata": {},
   "outputs": [
    {
     "name": "stdout",
     "output_type": "stream",
     "text": [
      "(1000, 2)\n",
      "(1000,)\n"
     ]
    }
   ],
   "source": [
    "X = new_df[['x1', 'x2']]\n",
    "y = new_df['y']\n",
    "\n",
    "print(X.shape)\n",
    "print(y.shape)\n"
   ]
  },
  {
   "cell_type": "code",
   "execution_count": 7,
   "id": "b409ae3b",
   "metadata": {},
   "outputs": [],
   "source": [
    "lin_reg=LinearRegression()\n",
    "\n",
    "lin_reg = LinearRegression().fit(new_df[['x1', 'x2']],new_df[['y']]) # note: the double square brackets are important! \n",
    "\n",
    "# see pandas_dataframe_demo.ipynb for more details on how to work with pandas dataframes"
   ]
  },
  {
   "cell_type": "markdown",
   "id": "b45e77cb-607a-4ef4-87ae-8fde787ed7ad",
   "metadata": {},
   "source": [
    "## Step 5: Analyze the linear regression model's performance"
   ]
  },
  {
   "cell_type": "markdown",
   "id": "ce57d2bf-91cd-4a8b-9383-621f0b0d1f68",
   "metadata": {},
   "source": [
    "Visualize the linear regression model results"
   ]
  },
  {
   "cell_type": "code",
   "execution_count": 8,
   "id": "847d4c77-85d5-4d8e-a939-6724e34413de",
   "metadata": {},
   "outputs": [
    {
     "data": {
      "image/png": "[encoded data removed]",
      "text/plain": [
       "<Figure size 640x480 with 1 Axes>"
      ]
     },
     "metadata": {},
     "output_type": "display_data"
    }
   ],
   "source": [
    "fig = plt.figure()\n",
    "ax = fig.add_subplot()\n",
    "\n",
    "ax.scatter(df['input'], df['target'], color='blue')\n",
    "ax.scatter(df['input'], lin_reg.predict(X), color='red')\n",
    "\n",
    "ax.set_title('Linear Regression')\n",
    "ax.set_xlabel('input')\n",
    "ax.set_ylabel('target')\n",
    "plt.tight_layout()\n",
    "plt.show()"
   ]
  },
  {
   "cell_type": "code",
   "execution_count": 9,
   "id": "0fbed7d8",
   "metadata": {},
   "outputs": [],
   "source": [
    "b0 = lin_reg.intercept_[0]\n",
    "b1 = lin_reg.coef_[0][0]\n",
    "b2 = lin_reg.coef_[0][1]\n",
    "\n",
    "r2 = lin_reg.score(X, y)"
   ]
  },
  {
   "cell_type": "markdown",
   "id": "3119300c-f6c4-41f9-87fd-99915f171fdb",
   "metadata": {},
   "source": [
    "... using fstring formatting, we can display these values as follows..."
   ]
  },
  {
   "cell_type": "code",
   "execution_count": 10,
   "id": "2af1b220-0199-40aa-adc3-aecd7a9bb36d",
   "metadata": {},
   "outputs": [
    {
     "name": "stdout",
     "output_type": "stream",
     "text": [
      "y = -645.62 + 620.40x + + 6.21x^2\n",
      "R^2: 0.565\n"
     ]
    }
   ],
   "source": [
    "print(f\"y = {b0:.2f} + {b1:.2f}x + + {b2:.2f}x^2\")\n",
    "print(f\"R^2: {lin_reg.score(X, y):.3f}\") \n",
    "# for more on fstrings see here...\n",
    "# https://www.freecodecamp.org/news/python-f-strings-tutorial-how-to-use-f-strings-for-string-formatting/"
   ]
  },
  {
   "cell_type": "markdown",
   "id": "b9aa12ca-b207-4f47-a592-59b5ef43c606",
   "metadata": {},
   "source": [
    "## Now fitting the model with 3rd order polynomial"
   ]
  },
  {
   "cell_type": "code",
   "execution_count": 11,
   "id": "5b3ca80d-6ec9-45e8-a536-f3a8d413bb70",
   "metadata": {},
   "outputs": [
    {
     "data": {
      "text/html": [
       "<div>\n",
       "<style scoped>\n",
       "    .dataframe tbody tr th:only-of-type {\n",
       "        vertical-align: middle;\n",
       "    }\n",
       "\n",
       "    .dataframe tbody tr th {\n",
       "        vertical-align: top;\n",
       "    }\n",
       "\n",
       "    .dataframe thead th {\n",
       "        text-align: right;\n",
       "    }\n",
       "</style>\n",
       "<table border=\"1\" class=\"dataframe\">\n",
       "  <thead>\n",
       "    <tr style=\"text-align: right;\">\n",
       "      <th></th>\n",
       "      <th>x1</th>\n",
       "      <th>x2</th>\n",
       "      <th>x3</th>\n",
       "      <th>y</th>\n",
       "    </tr>\n",
       "  </thead>\n",
       "  <tbody>\n",
       "    <tr>\n",
       "      <th>0</th>\n",
       "      <td>16.243454</td>\n",
       "      <td>263.849786</td>\n",
       "      <td>4285.831767</td>\n",
       "      <td>8803.949866</td>\n",
       "    </tr>\n",
       "    <tr>\n",
       "      <th>1</th>\n",
       "      <td>-6.117564</td>\n",
       "      <td>37.424591</td>\n",
       "      <td>-228.947336</td>\n",
       "      <td>-657.602516</td>\n",
       "    </tr>\n",
       "    <tr>\n",
       "      <th>2</th>\n",
       "      <td>-5.281718</td>\n",
       "      <td>27.896540</td>\n",
       "      <td>-147.341644</td>\n",
       "      <td>-210.705031</td>\n",
       "    </tr>\n",
       "  </tbody>\n",
       "</table>\n",
       "</div>"
      ],
      "text/plain": [
       "          x1          x2           x3            y\n",
       "0  16.243454  263.849786  4285.831767  8803.949866\n",
       "1  -6.117564   37.424591  -228.947336  -657.602516\n",
       "2  -5.281718   27.896540  -147.341644  -210.705031"
      ]
     },
     "execution_count": 11,
     "metadata": {},
     "output_type": "execute_result"
    }
   ],
   "source": [
    "new_df2 = pd.DataFrame()\n",
    "new_df2['x1'] = df['input']\n",
    "new_df2['x2'] = df['input']**2 \n",
    "new_df2['x3'] = df['input']**3                               # here we have engineered a new feature\n",
    "new_df2['y'] = df['target']\n",
    "\n",
    "new_df2.head(3)"
   ]
  },
  {
   "cell_type": "code",
   "execution_count": 12,
   "id": "957cc89f-d215-45ef-8d66-c8835ad1ef5c",
   "metadata": {},
   "outputs": [
    {
     "name": "stdout",
     "output_type": "stream",
     "text": [
      "(1000, 3)\n",
      "(1000,)\n"
     ]
    }
   ],
   "source": [
    "X = new_df2[['x1', 'x2','x3']]\n",
    "y = new_df2['y']\n",
    "\n",
    "print(X.shape)\n",
    "print(y.shape)"
   ]
  },
  {
   "cell_type": "code",
   "execution_count": 13,
   "id": "825730cd-67ef-4efa-8063-192326278d89",
   "metadata": {},
   "outputs": [],
   "source": [
    "lin_reg2=LinearRegression()\n",
    "\n",
    "lin_reg2 = LinearRegression().fit(new_df2[['x1', 'x2', 'x3']],new_df2[['y']]) # note: the double square brackets are important! \n",
    "\n",
    "# see pandas_dataframe_demo.ipynb for more details on how to work with pandas dataframes"
   ]
  },
  {
   "cell_type": "code",
   "execution_count": 14,
   "id": "90f76b36-ba94-4547-8684-7fa295d1248d",
   "metadata": {},
   "outputs": [
    {
     "data": {
      "image/png": "[encoded data removed]",
      "text/plain": [
       "<Figure size 640x480 with 1 Axes>"
      ]
     },
     "metadata": {},
     "output_type": "display_data"
    }
   ],
   "source": [
    "\n",
    "fig2 = plt.figure()\n",
    "ax2 = fig2.add_subplot()\n",
    "\n",
    "ax2.scatter(df['input'], df['target'], color='blue')\n",
    "ax2.scatter(df['input'], lin_reg2.predict(X), color='red')\n",
    "\n",
    "ax2.set_title('Linear Regression')\n",
    "ax2.set_xlabel('input')\n",
    "ax2.set_ylabel('target')\n",
    "plt.tight_layout()\n",
    "plt.show()"
   ]
  },
  {
   "cell_type": "code",
   "execution_count": 15,
   "id": "1aad32a7-2bf9-4f07-ba98-d895b2f4d768",
   "metadata": {},
   "outputs": [],
   "source": [
    "b0 = lin_reg2.intercept_[0]\n",
    "b1 = lin_reg2.coef_[0][0]\n",
    "b2 = lin_reg2.coef_[0][1]\n",
    "b3 = lin_reg2.coef_[0][2]\n",
    "\n",
    "r2 = lin_reg2.score(X, y)"
   ]
  },
  {
   "cell_type": "code",
   "execution_count": 16,
   "id": "0b101316-0a91-4201-9dcf-bf871987ea97",
   "metadata": {},
   "outputs": [
    {
     "name": "stdout",
     "output_type": "stream",
     "text": [
      "y = -0.83 + -1.05x + + 1.04x^2 + 2.00x^3\n",
      "R^2: 1.000\n"
     ]
    }
   ],
   "source": [
    "\n",
    "print(f\"y = {b0:.2f} + {b1:.2f}x + + {b2:.2f}x^2 + {b3:.2f}x^3\")\n",
    "print(f\"R^2: {lin_reg2.score(X, y):.3f}\") \n",
    "# for more on fstrings see here...\n",
    "# https://www.freecodecamp.org/news/python-f-strings-tutorial-how-to-use-f-strings-for-string-formatting/"
   ]
  },
  {
   "cell_type": "markdown",
   "id": "0bbdff36-c25a-4b11-a782-2515028d4237",
   "metadata": {},
   "source": [
    "## Now fitting the Model with SDGGradientDescent"
   ]
  },
  {
   "cell_type": "code",
   "execution_count": null,
   "id": "d7f7d1db-c718-4e83-adb8-b832ab7a20fb",
   "metadata": {},
   "outputs": [],
   "source": []
  }
 ],
 "metadata": {
  "kernelspec": {
   "display_name": "Python 3 (ipykernel)",
   "language": "python",
   "name": "python3"
  },
  "language_info": {
   "codemirror_mode": {
    "name": "ipython",
    "version": 3
   },
   "file_extension": ".py",
   "mimetype": "text/x-python",
   "name": "python",
   "nbconvert_exporter": "python",
   "pygments_lexer": "ipython3",
   "version": "3.9.16"
  }
 },
 "nbformat": 4,
 "nbformat_minor": 5
}
