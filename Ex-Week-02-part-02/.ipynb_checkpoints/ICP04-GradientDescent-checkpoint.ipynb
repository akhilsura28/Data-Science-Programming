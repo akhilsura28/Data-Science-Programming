{
 "cells": [
  {
   "cell_type": "code",
   "execution_count": null,
   "id": "c02be5b9-c3f4-43f7-b6e9-12884bb303fd",
   "metadata": {},
   "outputs": [],
   "source": []
  },
  {
   "cell_type": "markdown",
   "id": "a9332267-a5ec-4eda-8c63-a004da4ea0a2",
   "metadata": {},
   "source": [
    "### IMPORTING THE LIBRARIES WE USE IN THIS NOTEBOOK"
   ]
  },
  {
   "cell_type": "code",
   "execution_count": 1,
   "id": "39110785-8b2d-44ad-940e-ac779faefc49",
   "metadata": {},
   "outputs": [],
   "source": [
    "import pandas as pd\n",
    "from sklearn.linear_model import LinearRegression\n",
    "from matplotlib import pyplot as plt\n",
    "import numpy as np\n",
    "from sklearn.metrics import mean_squared_error\n",
    "from sklearn.linear_model import SGDRegressor \n",
    "from sklearn.dummy import DummyRegressor\n",
    "\n",
    "np.random.seed(86089106)"
   ]
  },
  {
   "cell_type": "markdown",
   "id": "a1926810-6728-4238-8186-3947901bc91c",
   "metadata": {},
   "source": [
    "### LOADING THE DATA INTO A DATAFRAME"
   ]
  },
  {
   "cell_type": "code",
   "execution_count": 2,
   "id": "144d5fb4-56da-4dbb-ae80-815749329973",
   "metadata": {},
   "outputs": [
    {
     "data": {
      "text/html": [
       "<div>\n",
       "<style scoped>\n",
       "    .dataframe tbody tr th:only-of-type {\n",
       "        vertical-align: middle;\n",
       "    }\n",
       "\n",
       "    .dataframe tbody tr th {\n",
       "        vertical-align: top;\n",
       "    }\n",
       "\n",
       "    .dataframe thead th {\n",
       "        text-align: right;\n",
       "    }\n",
       "</style>\n",
       "<table border=\"1\" class=\"dataframe\">\n",
       "  <thead>\n",
       "    <tr style=\"text-align: right;\">\n",
       "      <th></th>\n",
       "      <th>input</th>\n",
       "      <th>target</th>\n",
       "    </tr>\n",
       "  </thead>\n",
       "  <tbody>\n",
       "    <tr>\n",
       "      <th>0</th>\n",
       "      <td>16.243454</td>\n",
       "      <td>8803.949866</td>\n",
       "    </tr>\n",
       "    <tr>\n",
       "      <th>1</th>\n",
       "      <td>-6.117564</td>\n",
       "      <td>-657.602516</td>\n",
       "    </tr>\n",
       "    <tr>\n",
       "      <th>2</th>\n",
       "      <td>-5.281718</td>\n",
       "      <td>-210.705031</td>\n",
       "    </tr>\n",
       "  </tbody>\n",
       "</table>\n",
       "</div>"
      ],
      "text/plain": [
       "       input       target\n",
       "0  16.243454  8803.949866\n",
       "1  -6.117564  -657.602516\n",
       "2  -5.281718  -210.705031"
      ]
     },
     "execution_count": 2,
     "metadata": {},
     "output_type": "execute_result"
    }
   ],
   "source": [
    "df = pd.read_csv('model4_dataset.csv') # you may need to edit this path depending on where you saved the data\n",
    "df.head(3)"
   ]
  },
  {
   "cell_type": "markdown",
   "id": "ab895135-ee4d-480f-845c-f63a2d380030",
   "metadata": {},
   "source": [
    "### CONDUCTING AN INITIAL EXPLORATION OF DATA"
   ]
  },
  {
   "cell_type": "code",
   "execution_count": 3,
   "id": "87fe7505-f92b-454e-b08f-94daa21bf395",
   "metadata": {},
   "outputs": [
    {
     "data": {
      "text/plain": [
       "(1000, 2)"
      ]
     },
     "execution_count": 3,
     "metadata": {},
     "output_type": "execute_result"
    }
   ],
   "source": [
    "df.shape "
   ]
  },
  {
   "cell_type": "code",
   "execution_count": 4,
   "id": "48241621-9490-4e2a-a6b9-fe685773311d",
   "metadata": {},
   "outputs": [
    {
     "data": {
      "text/plain": [
       "input     0\n",
       "target    0\n",
       "dtype: int64"
      ]
     },
     "execution_count": 4,
     "metadata": {},
     "output_type": "execute_result"
    }
   ],
   "source": [
    "df.isnull().sum()"
   ]
  },
  {
   "cell_type": "code",
   "execution_count": 5,
   "id": "8b51493a-b9d2-4de7-a783-c69a04cf058f",
   "metadata": {},
   "outputs": [
    {
     "data": {
      "text/plain": [
       "input     float64\n",
       "target    float64\n",
       "dtype: object"
      ]
     },
     "execution_count": 5,
     "metadata": {},
     "output_type": "execute_result"
    }
   ],
   "source": [
    "df.dtypes"
   ]
  },
  {
   "cell_type": "code",
   "execution_count": 6,
   "id": "2ed6db26-619f-4736-946f-d77fd59a964f",
   "metadata": {},
   "outputs": [
    {
     "data": {
      "text/html": [
       "<div>\n",
       "<style scoped>\n",
       "    .dataframe tbody tr th:only-of-type {\n",
       "        vertical-align: middle;\n",
       "    }\n",
       "\n",
       "    .dataframe tbody tr th {\n",
       "        vertical-align: top;\n",
       "    }\n",
       "\n",
       "    .dataframe thead th {\n",
       "        text-align: right;\n",
       "    }\n",
       "</style>\n",
       "<table border=\"1\" class=\"dataframe\">\n",
       "  <thead>\n",
       "    <tr style=\"text-align: right;\">\n",
       "      <th></th>\n",
       "      <th>input</th>\n",
       "      <th>target</th>\n",
       "    </tr>\n",
       "  </thead>\n",
       "  <tbody>\n",
       "    <tr>\n",
       "      <th>count</th>\n",
       "      <td>1000.000000</td>\n",
       "      <td>1000.000000</td>\n",
       "    </tr>\n",
       "    <tr>\n",
       "      <th>mean</th>\n",
       "      <td>0.388125</td>\n",
       "      <td>193.899404</td>\n",
       "    </tr>\n",
       "    <tr>\n",
       "      <th>std</th>\n",
       "      <td>9.814950</td>\n",
       "      <td>8197.207914</td>\n",
       "    </tr>\n",
       "    <tr>\n",
       "      <th>min</th>\n",
       "      <td>-30.537644</td>\n",
       "      <td>-56008.552989</td>\n",
       "    </tr>\n",
       "    <tr>\n",
       "      <th>25%</th>\n",
       "      <td>-6.001604</td>\n",
       "      <td>-395.254172</td>\n",
       "    </tr>\n",
       "    <tr>\n",
       "      <th>50%</th>\n",
       "      <td>0.412926</td>\n",
       "      <td>24.164536</td>\n",
       "    </tr>\n",
       "    <tr>\n",
       "      <th>75%</th>\n",
       "      <td>7.039989</td>\n",
       "      <td>736.823944</td>\n",
       "    </tr>\n",
       "    <tr>\n",
       "      <th>max</th>\n",
       "      <td>39.586027</td>\n",
       "      <td>125615.034876</td>\n",
       "    </tr>\n",
       "  </tbody>\n",
       "</table>\n",
       "</div>"
      ],
      "text/plain": [
       "             input         target\n",
       "count  1000.000000    1000.000000\n",
       "mean      0.388125     193.899404\n",
       "std       9.814950    8197.207914\n",
       "min     -30.537644  -56008.552989\n",
       "25%      -6.001604    -395.254172\n",
       "50%       0.412926      24.164536\n",
       "75%       7.039989     736.823944\n",
       "max      39.586027  125615.034876"
      ]
     },
     "execution_count": 6,
     "metadata": {},
     "output_type": "execute_result"
    }
   ],
   "source": [
    "df.describe()"
   ]
  },
  {
   "cell_type": "markdown",
   "id": "3a4389bc-f61e-4d99-b10a-10132741e8c1",
   "metadata": {},
   "source": [
    "### Incorporate data splitting (cross-validation) to train the model (80/20 split)"
   ]
  },
  {
   "cell_type": "code",
   "execution_count": 7,
   "id": "fb0a1ef0-34ca-4713-a346-4770810d5f91",
   "metadata": {},
   "outputs": [
    {
     "data": {
      "text/plain": [
       "382    -7251.253424\n",
       "994     4414.314652\n",
       "982      129.776296\n",
       "47     19066.376344\n",
       "521     -359.458755\n",
       "           ...     \n",
       "767      -60.344258\n",
       "72       165.028511\n",
       "908    11944.896437\n",
       "235    -3583.404216\n",
       "37       -17.496463\n",
       "Name: target, Length: 800, dtype: float64"
      ]
     },
     "execution_count": 7,
     "metadata": {},
     "output_type": "execute_result"
    }
   ],
   "source": [
    "from sklearn.model_selection import train_test_split\n",
    "\n",
    "X = df[['input']]\n",
    "y = df['target']\n",
    "\n",
    "X_train, X_test, y_train, y_test = train_test_split(X, y, test_size=0.20, random_state=1) # 80% training and 20% test\n",
    "\n",
    "y_train"
   ]
  },
  {
   "cell_type": "markdown",
   "id": "e1149d67-f130-479b-b271-650c9c8bfc71",
   "metadata": {},
   "source": [
    "### SAVING THE TEST AND TRAINING DATA TO CSV FILES"
   ]
  },
  {
   "cell_type": "code",
   "execution_count": 8,
   "id": "5a2f7115-a1c1-446d-9f4c-8e806e4664e6",
   "metadata": {},
   "outputs": [
    {
     "data": {
      "text/html": [
       "<div>\n",
       "<style scoped>\n",
       "    .dataframe tbody tr th:only-of-type {\n",
       "        vertical-align: middle;\n",
       "    }\n",
       "\n",
       "    .dataframe tbody tr th {\n",
       "        vertical-align: top;\n",
       "    }\n",
       "\n",
       "    .dataframe thead th {\n",
       "        text-align: right;\n",
       "    }\n",
       "</style>\n",
       "<table border=\"1\" class=\"dataframe\">\n",
       "  <thead>\n",
       "    <tr style=\"text-align: right;\">\n",
       "      <th></th>\n",
       "      <th>input</th>\n",
       "      <th>target</th>\n",
       "    </tr>\n",
       "  </thead>\n",
       "  <tbody>\n",
       "    <tr>\n",
       "      <th>382</th>\n",
       "      <td>-15.387932</td>\n",
       "      <td>-7251.253424</td>\n",
       "    </tr>\n",
       "    <tr>\n",
       "      <th>994</th>\n",
       "      <td>12.911889</td>\n",
       "      <td>4414.314652</td>\n",
       "    </tr>\n",
       "    <tr>\n",
       "      <th>982</th>\n",
       "      <td>1.751677</td>\n",
       "      <td>129.776296</td>\n",
       "    </tr>\n",
       "  </tbody>\n",
       "</table>\n",
       "</div>"
      ],
      "text/plain": [
       "         input       target\n",
       "382 -15.387932 -7251.253424\n",
       "994  12.911889  4414.314652\n",
       "982   1.751677   129.776296"
      ]
     },
     "execution_count": 8,
     "metadata": {},
     "output_type": "execute_result"
    }
   ],
   "source": [
    "train = X_train.copy() # if you don't use copy(), then the original X_train will be modified when you add the y_train column\n",
    "train['target'] = y_train\n",
    "train.head(3)"
   ]
  },
  {
   "cell_type": "code",
   "execution_count": 9,
   "id": "087dc5f0-0a4d-4e89-b1f9-2ad1d893dadd",
   "metadata": {},
   "outputs": [],
   "source": [
    "train.to_csv('ex_01_train.csv', index=False)"
   ]
  },
  {
   "cell_type": "code",
   "execution_count": 10,
   "id": "540f79ae-88ac-48e9-b8ef-2452809bb870",
   "metadata": {},
   "outputs": [
    {
     "data": {
      "text/html": [
       "<div>\n",
       "<style scoped>\n",
       "    .dataframe tbody tr th:only-of-type {\n",
       "        vertical-align: middle;\n",
       "    }\n",
       "\n",
       "    .dataframe tbody tr th {\n",
       "        vertical-align: top;\n",
       "    }\n",
       "\n",
       "    .dataframe thead th {\n",
       "        text-align: right;\n",
       "    }\n",
       "</style>\n",
       "<table border=\"1\" class=\"dataframe\">\n",
       "  <thead>\n",
       "    <tr style=\"text-align: right;\">\n",
       "      <th></th>\n",
       "      <th>input</th>\n",
       "      <th>target</th>\n",
       "    </tr>\n",
       "  </thead>\n",
       "  <tbody>\n",
       "    <tr>\n",
       "      <th>507</th>\n",
       "      <td>0.896864</td>\n",
       "      <td>-141.859686</td>\n",
       "    </tr>\n",
       "    <tr>\n",
       "      <th>818</th>\n",
       "      <td>-3.260613</td>\n",
       "      <td>87.151159</td>\n",
       "    </tr>\n",
       "    <tr>\n",
       "      <th>452</th>\n",
       "      <td>6.743961</td>\n",
       "      <td>670.791378</td>\n",
       "    </tr>\n",
       "  </tbody>\n",
       "</table>\n",
       "</div>"
      ],
      "text/plain": [
       "        input      target\n",
       "507  0.896864 -141.859686\n",
       "818 -3.260613   87.151159\n",
       "452  6.743961  670.791378"
      ]
     },
     "execution_count": 10,
     "metadata": {},
     "output_type": "execute_result"
    }
   ],
   "source": [
    "test = X_test.copy() # if you don't use copy(), then the original X_test will be modified when you add the y_test column\n",
    "test['target'] = y_test\n",
    "test.head(3)"
   ]
  },
  {
   "cell_type": "code",
   "execution_count": 11,
   "id": "0786448c-9d5b-465b-837b-8c6256f54237",
   "metadata": {},
   "outputs": [],
   "source": [
    "test.to_csv('ex_01_test.csv', index=False)"
   ]
  },
  {
   "cell_type": "markdown",
   "id": "6192b4b6-ccea-4a15-92bc-0ae344eeb5b6",
   "metadata": {},
   "source": [
    "## ANALYSING THE FIT WITH GRADIENT DESCENT MODEL"
   ]
  },
  {
   "cell_type": "markdown",
   "id": "cf2c9910-b4dc-4e8b-aaab-ffbe201f8dc0",
   "metadata": {},
   "source": [
    "### LOADING THE DATA"
   ]
  },
  {
   "cell_type": "code",
   "execution_count": 12,
   "id": "932f3554-85c3-43b2-8495-7366b542b523",
   "metadata": {},
   "outputs": [],
   "source": [
    "train = pd.read_csv(\"ex_01_train.csv\")\n",
    "test = pd.read_csv(\"ex_01_test.csv\")"
   ]
  },
  {
   "cell_type": "code",
   "execution_count": 13,
   "id": "4fabfe14-6a62-4075-89d2-9d7b2ce38f78",
   "metadata": {},
   "outputs": [],
   "source": [
    "target = 'target'\n",
    "predictors = list(train.columns)\n",
    "predictors.remove(target) "
   ]
  },
  {
   "cell_type": "code",
   "execution_count": 14,
   "id": "3f169e81-3fad-4ae7-9c91-e8557892b712",
   "metadata": {},
   "outputs": [
    {
     "name": "stdout",
     "output_type": "stream",
     "text": [
      "['input']\n"
     ]
    }
   ],
   "source": [
    "print(predictors)"
   ]
  },
  {
   "cell_type": "code",
   "execution_count": 15,
   "id": "35e8328a-3c51-4497-a198-e7608198e6a2",
   "metadata": {},
   "outputs": [],
   "source": [
    "# arrrange this data into X_train, X_test, y_train, and y_test...\n",
    "X_train = train[predictors]\n",
    "y_train = train[target]\n",
    "X_test = test[predictors]\n",
    "y_test = test[target]"
   ]
  },
  {
   "cell_type": "code",
   "execution_count": 16,
   "id": "e224bac0-c1e4-47da-bc37-306b782bf54d",
   "metadata": {},
   "outputs": [
    {
     "data": {
      "text/plain": [
       "0      -7251.253424\n",
       "1       4414.314652\n",
       "2        129.776296\n",
       "3      19066.376344\n",
       "4       -359.458755\n",
       "           ...     \n",
       "795      -60.344258\n",
       "796      165.028511\n",
       "797    11944.896437\n",
       "798    -3583.404216\n",
       "799      -17.496463\n",
       "Name: target, Length: 800, dtype: float64"
      ]
     },
     "execution_count": 16,
     "metadata": {},
     "output_type": "execute_result"
    }
   ],
   "source": [
    "y_train"
   ]
  },
  {
   "cell_type": "code",
   "execution_count": 17,
   "id": "9b962435-88f8-4125-b905-d9fdc85543f1",
   "metadata": {},
   "outputs": [],
   "source": [
    "results = pd.DataFrame(y_train, columns=[\"actual\"])\n",
    "\n",
    "rmses = pd.DataFrame({\"model\": [], \"rmse\": []})"
   ]
  },
  {
   "cell_type": "code",
   "execution_count": 18,
   "id": "b86b6a5a-ca39-430e-a45d-53c5a58c05e0",
   "metadata": {},
   "outputs": [
    {
     "name": "stdout",
     "output_type": "stream",
     "text": [
      "Number of iterations = 11\n"
     ]
    }
   ],
   "source": [
    "#Stochastic Gradient Descent:\n",
    "# https://scikit-learn.org/stable/modules/sgd.html\n",
    "# https://scikit-learn.org/stable/modules/generated/sklearn.linear_model.SGDRegressor.html#sklearn.linear_model.SGDRegressor\n",
    "\n",
    "\n",
    "# eta0 = learning rate\n",
    "# max_iter = number of passes over training data (i.e., epochs)\n",
    "\n",
    "sgd_reg = SGDRegressor(max_iter=100, penalty=None, eta0=0.01)\n",
    "sgd_reg.fit(X_train, np.ravel(y_train))\n",
    "\n",
    "print(f\"Number of iterations = {sgd_reg.n_iter_}\")\n",
    "\n",
    "results[\"SGD_preds\"] = sgd_reg.predict(X_train)"
   ]
  },
  {
   "cell_type": "code",
   "execution_count": 19,
   "id": "5b5ee5ec-3f8e-468c-9012-a676e3a2d540",
   "metadata": {},
   "outputs": [
    {
     "name": "stdout",
     "output_type": "stream",
     "text": [
      "SGD Test RMSE: 4333.890\n"
     ]
    }
   ],
   "source": [
    "#SGD Test RMSE\n",
    "SGD_test_pred = sgd_reg.predict(X_test)\n",
    "SGD_test_rmse = np.sqrt(mean_squared_error(y_test, SGD_test_pred))\n",
    "\n",
    "rmses = pd.concat([rmses, pd.DataFrame({'model':\"SGD\", 'rmse': SGD_test_rmse}, index=[0])])\n",
    "\n",
    "print(f\"SGD Test RMSE: {SGD_test_rmse:.3f}\")"
   ]
  },
  {
   "cell_type": "markdown",
   "id": "96707164-cf23-414c-94e3-6c6cf852605c",
   "metadata": {},
   "source": [
    "## ANALYSING THE FIT WITH LINEAR REGRESSION USING THIRD ORDER POLYNOMIAL "
   ]
  },
  {
   "cell_type": "code",
   "execution_count": 20,
   "id": "a751ec4c-6567-4f3c-a98e-8efa0734a165",
   "metadata": {},
   "outputs": [
    {
     "data": {
      "text/html": [
       "<div>\n",
       "<style scoped>\n",
       "    .dataframe tbody tr th:only-of-type {\n",
       "        vertical-align: middle;\n",
       "    }\n",
       "\n",
       "    .dataframe tbody tr th {\n",
       "        vertical-align: top;\n",
       "    }\n",
       "\n",
       "    .dataframe thead th {\n",
       "        text-align: right;\n",
       "    }\n",
       "</style>\n",
       "<table border=\"1\" class=\"dataframe\">\n",
       "  <thead>\n",
       "    <tr style=\"text-align: right;\">\n",
       "      <th></th>\n",
       "      <th>x1</th>\n",
       "      <th>x2</th>\n",
       "      <th>x3</th>\n",
       "      <th>y</th>\n",
       "    </tr>\n",
       "  </thead>\n",
       "  <tbody>\n",
       "    <tr>\n",
       "      <th>0</th>\n",
       "      <td>-15.387932</td>\n",
       "      <td>236.788465</td>\n",
       "      <td>-3643.684911</td>\n",
       "      <td>-7251.253424</td>\n",
       "    </tr>\n",
       "    <tr>\n",
       "      <th>1</th>\n",
       "      <td>12.911889</td>\n",
       "      <td>166.716878</td>\n",
       "      <td>2152.629832</td>\n",
       "      <td>4414.314652</td>\n",
       "    </tr>\n",
       "    <tr>\n",
       "      <th>2</th>\n",
       "      <td>1.751677</td>\n",
       "      <td>3.068373</td>\n",
       "      <td>5.374800</td>\n",
       "      <td>129.776296</td>\n",
       "    </tr>\n",
       "    <tr>\n",
       "      <th>3</th>\n",
       "      <td>21.002551</td>\n",
       "      <td>441.107164</td>\n",
       "      <td>9264.375866</td>\n",
       "      <td>19066.376344</td>\n",
       "    </tr>\n",
       "  </tbody>\n",
       "</table>\n",
       "</div>"
      ],
      "text/plain": [
       "          x1          x2           x3             y\n",
       "0 -15.387932  236.788465 -3643.684911  -7251.253424\n",
       "1  12.911889  166.716878  2152.629832   4414.314652\n",
       "2   1.751677    3.068373     5.374800    129.776296\n",
       "3  21.002551  441.107164  9264.375866  19066.376344"
      ]
     },
     "execution_count": 20,
     "metadata": {},
     "output_type": "execute_result"
    }
   ],
   "source": [
    "new_df = pd.DataFrame()\n",
    "new_df['x1'] = X_train\n",
    "new_df['x2'] = X_train**2 \n",
    "new_df['x3'] = X_train**3                               \n",
    "new_df['y'] = y_train\n",
    "\n",
    "new_df.head(4)"
   ]
  },
  {
   "cell_type": "code",
   "execution_count": 21,
   "id": "9e911ee7-c3a7-45a2-81eb-73b4f664319b",
   "metadata": {},
   "outputs": [
    {
     "name": "stdout",
     "output_type": "stream",
     "text": [
      "(800, 3)\n",
      "(800,)\n"
     ]
    }
   ],
   "source": [
    "X1 = new_df[['x1', 'x2','x3']]\n",
    "y1 = new_df['y']\n",
    "\n",
    "print(X1.shape)\n",
    "print(y1.shape)\n"
   ]
  },
  {
   "cell_type": "code",
   "execution_count": 22,
   "id": "25c7a30e-d454-40aa-a31f-74c65bc1d09b",
   "metadata": {},
   "outputs": [
    {
     "data": {
      "text/html": [
       "<div>\n",
       "<style scoped>\n",
       "    .dataframe tbody tr th:only-of-type {\n",
       "        vertical-align: middle;\n",
       "    }\n",
       "\n",
       "    .dataframe tbody tr th {\n",
       "        vertical-align: top;\n",
       "    }\n",
       "\n",
       "    .dataframe thead th {\n",
       "        text-align: right;\n",
       "    }\n",
       "</style>\n",
       "<table border=\"1\" class=\"dataframe\">\n",
       "  <thead>\n",
       "    <tr style=\"text-align: right;\">\n",
       "      <th></th>\n",
       "      <th>x1</th>\n",
       "      <th>x2</th>\n",
       "      <th>x3</th>\n",
       "    </tr>\n",
       "  </thead>\n",
       "  <tbody>\n",
       "    <tr>\n",
       "      <th>0</th>\n",
       "      <td>-15.387932</td>\n",
       "      <td>236.788465</td>\n",
       "      <td>-3643.684911</td>\n",
       "    </tr>\n",
       "    <tr>\n",
       "      <th>1</th>\n",
       "      <td>12.911889</td>\n",
       "      <td>166.716878</td>\n",
       "      <td>2152.629832</td>\n",
       "    </tr>\n",
       "    <tr>\n",
       "      <th>2</th>\n",
       "      <td>1.751677</td>\n",
       "      <td>3.068373</td>\n",
       "      <td>5.374800</td>\n",
       "    </tr>\n",
       "    <tr>\n",
       "      <th>3</th>\n",
       "      <td>21.002551</td>\n",
       "      <td>441.107164</td>\n",
       "      <td>9264.375866</td>\n",
       "    </tr>\n",
       "    <tr>\n",
       "      <th>4</th>\n",
       "      <td>-5.396816</td>\n",
       "      <td>29.125619</td>\n",
       "      <td>-157.185595</td>\n",
       "    </tr>\n",
       "    <tr>\n",
       "      <th>...</th>\n",
       "      <td>...</td>\n",
       "      <td>...</td>\n",
       "      <td>...</td>\n",
       "    </tr>\n",
       "    <tr>\n",
       "      <th>795</th>\n",
       "      <td>2.373327</td>\n",
       "      <td>5.632681</td>\n",
       "      <td>13.368194</td>\n",
       "    </tr>\n",
       "    <tr>\n",
       "      <th>796</th>\n",
       "      <td>1.600371</td>\n",
       "      <td>2.561186</td>\n",
       "      <td>4.098848</td>\n",
       "    </tr>\n",
       "    <tr>\n",
       "      <th>797</th>\n",
       "      <td>18.035890</td>\n",
       "      <td>325.293321</td>\n",
       "      <td>5866.954503</td>\n",
       "    </tr>\n",
       "    <tr>\n",
       "      <th>798</th>\n",
       "      <td>-12.331207</td>\n",
       "      <td>152.058675</td>\n",
       "      <td>-1875.067049</td>\n",
       "    </tr>\n",
       "    <tr>\n",
       "      <th>799</th>\n",
       "      <td>2.344157</td>\n",
       "      <td>5.495072</td>\n",
       "      <td>12.881311</td>\n",
       "    </tr>\n",
       "  </tbody>\n",
       "</table>\n",
       "<p>800 rows × 3 columns</p>\n",
       "</div>"
      ],
      "text/plain": [
       "            x1          x2           x3\n",
       "0   -15.387932  236.788465 -3643.684911\n",
       "1    12.911889  166.716878  2152.629832\n",
       "2     1.751677    3.068373     5.374800\n",
       "3    21.002551  441.107164  9264.375866\n",
       "4    -5.396816   29.125619  -157.185595\n",
       "..         ...         ...          ...\n",
       "795   2.373327    5.632681    13.368194\n",
       "796   1.600371    2.561186     4.098848\n",
       "797  18.035890  325.293321  5866.954503\n",
       "798 -12.331207  152.058675 -1875.067049\n",
       "799   2.344157    5.495072    12.881311\n",
       "\n",
       "[800 rows x 3 columns]"
      ]
     },
     "execution_count": 22,
     "metadata": {},
     "output_type": "execute_result"
    }
   ],
   "source": [
    "X1"
   ]
  },
  {
   "cell_type": "code",
   "execution_count": 23,
   "id": "1c60b48a-e6c1-4558-9656-2bb36cd6b6a9",
   "metadata": {},
   "outputs": [
    {
     "data": {
      "text/plain": [
       "(800, 4)"
      ]
     },
     "execution_count": 23,
     "metadata": {},
     "output_type": "execute_result"
    }
   ],
   "source": [
    "new_df.shape"
   ]
  },
  {
   "cell_type": "code",
   "execution_count": 24,
   "id": "e921b744-f97f-4e72-999f-a3a3686e2912",
   "metadata": {},
   "outputs": [],
   "source": [
    "lin_reg = LinearRegression()\n",
    "\n",
    "lin_reg = LinearRegression().fit(new_df[['x1', 'x2', 'x3']],new_df[['y']])\n",
    "\n",
    "#lin_reg = LinearRegression().fit(X1,y1)\n",
    "\n",
    "# note: the double square brackets are important! \n",
    "\n",
    "# see pandas_dataframe_demo.ipynb for more details on how to work with pandas dataframes"
   ]
  },
  {
   "cell_type": "code",
   "execution_count": 25,
   "id": "013ec99b-53f6-4f80-83b8-27a320596dc0",
   "metadata": {},
   "outputs": [],
   "source": [
    "b0 = lin_reg.intercept_[0]\n",
    "b1 = lin_reg.coef_[0][0]\n",
    "b2 = lin_reg.coef_[0][1]\n",
    "b3 = lin_reg.coef_[0][2]\n",
    "\n",
    "r2 = lin_reg.score(X1, y1)"
   ]
  },
  {
   "cell_type": "code",
   "execution_count": 26,
   "id": "13ac7611-3d05-470f-a997-d7dc2ffb8cc2",
   "metadata": {},
   "outputs": [
    {
     "name": "stdout",
     "output_type": "stream",
     "text": [
      "y = -0.99 + -1.15x + + 1.03x^2\n",
      "R^2: 1.000\n"
     ]
    }
   ],
   "source": [
    "print(f\"y = {b0:.2f} + {b1:.2f}x + + {b2:.2f}x^2\")\n",
    "print(f\"R^2: {lin_reg.score(X1, y1):.3f}\") \n",
    "# for more on fstrings see here...\n",
    "# https://www.freecodecamp.org/news/python-f-strings-tutorial-how-to-use-f-strings-for-string-formatting/"
   ]
  },
  {
   "cell_type": "code",
   "execution_count": 27,
   "id": "39b32cdd-8e95-4f7a-9843-390b94a61911",
   "metadata": {},
   "outputs": [
    {
     "data": {
      "text/html": [
       "<div>\n",
       "<style scoped>\n",
       "    .dataframe tbody tr th:only-of-type {\n",
       "        vertical-align: middle;\n",
       "    }\n",
       "\n",
       "    .dataframe tbody tr th {\n",
       "        vertical-align: top;\n",
       "    }\n",
       "\n",
       "    .dataframe thead th {\n",
       "        text-align: right;\n",
       "    }\n",
       "</style>\n",
       "<table border=\"1\" class=\"dataframe\">\n",
       "  <thead>\n",
       "    <tr style=\"text-align: right;\">\n",
       "      <th></th>\n",
       "      <th>x1</th>\n",
       "      <th>x2</th>\n",
       "      <th>x3</th>\n",
       "      <th>y</th>\n",
       "    </tr>\n",
       "  </thead>\n",
       "  <tbody>\n",
       "    <tr>\n",
       "      <th>0</th>\n",
       "      <td>-15.387932</td>\n",
       "      <td>236.788465</td>\n",
       "      <td>-3643.684911</td>\n",
       "      <td>-7251.253424</td>\n",
       "    </tr>\n",
       "    <tr>\n",
       "      <th>1</th>\n",
       "      <td>12.911889</td>\n",
       "      <td>166.716878</td>\n",
       "      <td>2152.629832</td>\n",
       "      <td>4414.314652</td>\n",
       "    </tr>\n",
       "    <tr>\n",
       "      <th>2</th>\n",
       "      <td>1.751677</td>\n",
       "      <td>3.068373</td>\n",
       "      <td>5.374800</td>\n",
       "      <td>129.776296</td>\n",
       "    </tr>\n",
       "  </tbody>\n",
       "</table>\n",
       "</div>"
      ],
      "text/plain": [
       "          x1          x2           x3            y\n",
       "0 -15.387932  236.788465 -3643.684911 -7251.253424\n",
       "1  12.911889  166.716878  2152.629832  4414.314652\n",
       "2   1.751677    3.068373     5.374800   129.776296"
      ]
     },
     "execution_count": 27,
     "metadata": {},
     "output_type": "execute_result"
    }
   ],
   "source": [
    "new_df2 = pd.DataFrame()\n",
    "new_df2['x1'] = X_test\n",
    "new_df2['x2'] = X_test**2 \n",
    "new_df2['x3'] = X_test**3                               # here we have engineered a new feature\n",
    "new_df2['y'] = y_test\n",
    "\n",
    "new_df.head(3)"
   ]
  },
  {
   "cell_type": "code",
   "execution_count": 28,
   "id": "c06cceb5-4676-4494-91da-8b8b94d71067",
   "metadata": {},
   "outputs": [
    {
     "name": "stdout",
     "output_type": "stream",
     "text": [
      "(200, 3)\n",
      "(200,)\n"
     ]
    }
   ],
   "source": [
    "X2 = new_df2[['x1', 'x2','x3']]\n",
    "y2 = new_df2['y']\n",
    "\n",
    "print(X2.shape)\n",
    "print(y2.shape)\n"
   ]
  },
  {
   "cell_type": "code",
   "execution_count": 29,
   "id": "c5107bb1-66c0-47c2-9e3d-35a56c5b7764",
   "metadata": {},
   "outputs": [
    {
     "name": "stdout",
     "output_type": "stream",
     "text": [
      "lin_test_rmse: 102.176\n"
     ]
    }
   ],
   "source": [
    "lin_reg_test_pred = lin_reg.predict(X2)\n",
    "lin_test_rmse = np.sqrt(mean_squared_error(y2, lin_reg_test_pred))\n",
    "\n",
    "rmses = pd.concat([rmses, pd.DataFrame({'model':\"lin_reg_3rd_order\", 'rmse': lin_test_rmse}, index=[0])])\n",
    "\n",
    "print(f\"lin_test_rmse: {lin_test_rmse:.3f}\")"
   ]
  },
  {
   "cell_type": "markdown",
   "id": "3ba7bead-c12a-489c-9a23-ee49e5b14ee2",
   "metadata": {},
   "source": [
    "## ANALYSING THE FIT WITH SGD POLYNOMIAL TRANSFORMATION"
   ]
  },
  {
   "cell_type": "code",
   "execution_count": 30,
   "id": "53518af2-41e7-48bf-850f-bfa2ce3e42e8",
   "metadata": {},
   "outputs": [],
   "source": [
    "from sklearn.preprocessing import PolynomialFeatures\n",
    "\n",
    "# Create second degree terms and interaction terms\n",
    "poly_features = PolynomialFeatures(degree=2).fit(X_train)\n",
    "X_train_poly = poly_features.transform(X_train)\n",
    "X_test_poly = poly_features.transform(X_test)\n",
    "\n",
    "#This will create the polynomial terms of the categorical variables too (since they are encoded as numbers)\n",
    "\n",
    "#if degree=3, then it creates all combinations: a, a^2, a^3, b, b^2, b^3, a.b, a^2.b, a.b^2, a^2.b^2 "
   ]
  },
  {
   "cell_type": "code",
   "execution_count": 31,
   "id": "4ffb7270-30f8-4ce8-82a5-df2abcd35a57",
   "metadata": {
    "tags": []
   },
   "outputs": [
    {
     "data": {
      "text/plain": [
       "array([[  1.        , -15.38793246, 236.78846531],\n",
       "       [  1.        ,  12.91188903, 166.71687828],\n",
       "       [  1.        ,   1.75167729,   3.06837334],\n",
       "       ...,\n",
       "       [  1.        ,  18.03588981, 325.29332141],\n",
       "       [  1.        , -12.33120735, 152.05867482],\n",
       "       [  1.        ,   2.34415698,   5.49507194]])"
      ]
     },
     "execution_count": 31,
     "metadata": {},
     "output_type": "execute_result"
    }
   ],
   "source": [
    "X_train_poly"
   ]
  },
  {
   "cell_type": "code",
   "execution_count": 32,
   "id": "412935ca-7330-4035-bf57-1a10f663685b",
   "metadata": {},
   "outputs": [
    {
     "name": "stdout",
     "output_type": "stream",
     "text": [
      "Number of iterations = 22\n"
     ]
    }
   ],
   "source": [
    "\n",
    "poly_lin_reg = SGDRegressor(max_iter=1000, penalty=None, eta0=0.01) \n",
    "poly_lin_reg.fit(X_train_poly, np.ravel(y_train))\n",
    "\n",
    "print(f\"Number of iterations = {poly_lin_reg.n_iter_}\")\n",
    "\n",
    "results[\"SGD_preds_ using polynomial\"] = poly_lin_reg.predict(X_train_poly)"
   ]
  },
  {
   "cell_type": "code",
   "execution_count": 33,
   "id": "7470c64d-1538-4ca8-9126-ea28efe806c9",
   "metadata": {},
   "outputs": [
    {
     "name": "stdout",
     "output_type": "stream",
     "text": [
      "SGD wt Polynomial input Test RMSE: 12355084802674.627\n"
     ]
    }
   ],
   "source": [
    "# Train RMSE\n",
    "# SGD with polynomial input\n",
    "poly_test_pred = poly_lin_reg.predict(X_test_poly)\n",
    "poly_test_rmse = np.sqrt(mean_squared_error(y_test, poly_test_pred))\n",
    "\n",
    "rmses = pd.concat([rmses, pd.DataFrame({'model':\"SGD Poly\", 'rmse': poly_test_rmse}, index=[0])])\n",
    "\n",
    "print(f\"SGD wt Polynomial input Test RMSE: {poly_test_rmse:.3f}\")"
   ]
  },
  {
   "cell_type": "markdown",
   "id": "da2ce142-f90a-4a01-8ced-0e6f58442340",
   "metadata": {},
   "source": [
    "### RESULTS"
   ]
  },
  {
   "cell_type": "code",
   "execution_count": 34,
   "id": "aff04197-d5cf-4ceb-bc66-adda1360c2e6",
   "metadata": {},
   "outputs": [
    {
     "data": {
      "text/html": [
       "<div>\n",
       "<style scoped>\n",
       "    .dataframe tbody tr th:only-of-type {\n",
       "        vertical-align: middle;\n",
       "    }\n",
       "\n",
       "    .dataframe tbody tr th {\n",
       "        vertical-align: top;\n",
       "    }\n",
       "\n",
       "    .dataframe thead th {\n",
       "        text-align: right;\n",
       "    }\n",
       "</style>\n",
       "<table border=\"1\" class=\"dataframe\">\n",
       "  <thead>\n",
       "    <tr style=\"text-align: right;\">\n",
       "      <th></th>\n",
       "      <th>model</th>\n",
       "      <th>rmse</th>\n",
       "    </tr>\n",
       "  </thead>\n",
       "  <tbody>\n",
       "    <tr>\n",
       "      <th>0</th>\n",
       "      <td>lin_reg_3rd_order</td>\n",
       "      <td>1.021762e+02</td>\n",
       "    </tr>\n",
       "    <tr>\n",
       "      <th>0</th>\n",
       "      <td>SGD</td>\n",
       "      <td>4.333890e+03</td>\n",
       "    </tr>\n",
       "    <tr>\n",
       "      <th>0</th>\n",
       "      <td>SGD Poly</td>\n",
       "      <td>1.235508e+13</td>\n",
       "    </tr>\n",
       "  </tbody>\n",
       "</table>\n",
       "</div>"
      ],
      "text/plain": [
       "               model          rmse\n",
       "0  lin_reg_3rd_order  1.021762e+02\n",
       "0                SGD  4.333890e+03\n",
       "0           SGD Poly  1.235508e+13"
      ]
     },
     "execution_count": 34,
     "metadata": {},
     "output_type": "execute_result"
    }
   ],
   "source": [
    "rmses.sort_values(by=['rmse'])"
   ]
  },
  {
   "cell_type": "markdown",
   "id": "61cd04f0-d5d1-4fc5-adfe-ab975c9ffeff",
   "metadata": {},
   "source": [
    "### CONCLUSION\n",
    "\n",
    "Based on the resulted root mean square error (RMSE) values for the different models, we can draw the following conclusions regarding their performance:\n",
    "\n",
    "1. lin_reg_3rd_order: The linear regression model with a third-degree polynomial transformation has an RMSE of 102.1762. This indicates that the model's predictions, on average, deviate by approximately 102.1762 units from the actual values. It suggests a moderate level of accuracy.\n",
    "\n",
    "2. SGD: The Stochastic Gradient Descent (SGD) model has a significantly higher RMSE of 4333.89. This suggests that the model's predictions have a much larger average deviation from the actual values compared to the lin_reg_3rd_order model. The SGD model performs relatively worse in terms of accuracy.\n",
    "\n",
    "3. SGD Poly: The SGD model with polynomial transformation has an extremely high RMSE of 1.235508e+13, which is significantly larger than the other models. This indicates that the model's predictions have a massive average deviation from the actual values. The SGD Poly model performs significantly worse compared to both lin_reg_3rd_order and SGD models.\n",
    "\n",
    "Based on the RMSE values, the lin_reg_3rd_order model performs the best among the three models, as it has the lowest RMSE and exhibits a relatively better accuracy in predicting the target variable."
   ]
  }
 ],
 "metadata": {
  "kernelspec": {
   "display_name": "Python 3 (ipykernel)",
   "language": "python",
   "name": "python3"
  },
  "language_info": {
   "codemirror_mode": {
    "name": "ipython",
    "version": 3
   },
   "file_extension": ".py",
   "mimetype": "text/x-python",
   "name": "python",
   "nbconvert_exporter": "python",
   "pygments_lexer": "ipython3",
   "version": "3.9.13"
  }
 },
 "nbformat": 4,
 "nbformat_minor": 5
}
