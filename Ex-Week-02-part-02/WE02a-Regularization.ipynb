{
 "cells": [
  {
   "cell_type": "code",
   "execution_count": null,
   "id": "c02be5b9-c3f4-43f7-b6e9-12884bb303fd",
   "metadata": {},
   "outputs": [],
   "source": []
  },
  {
   "cell_type": "markdown",
   "id": "a9332267-a5ec-4eda-8c63-a004da4ea0a2",
   "metadata": {},
   "source": [
    "### IMPORTING THE LIBRARIES WE USE IN THIS NOTEBOOK"
   ]
  },
  {
   "cell_type": "code",
   "execution_count": 1,
   "id": "39110785-8b2d-44ad-940e-ac779faefc49",
   "metadata": {},
   "outputs": [],
   "source": [
    "import pandas as pd\n",
    "from sklearn.linear_model import LinearRegression\n",
    "from matplotlib import pyplot as plt\n",
    "import numpy as np\n",
    "from sklearn.metrics import mean_squared_error\n",
    "from sklearn.linear_model import SGDRegressor \n",
    "from sklearn.dummy import DummyRegressor\n",
    "\n",
    "np.random.seed(86089106)"
   ]
  },
  {
   "cell_type": "markdown",
   "id": "a1926810-6728-4238-8186-3947901bc91c",
   "metadata": {},
   "source": [
    "### LOADING THE DATA INTO A DATAFRAME"
   ]
  },
  {
   "cell_type": "code",
   "execution_count": 2,
   "id": "144d5fb4-56da-4dbb-ae80-815749329973",
   "metadata": {},
   "outputs": [
    {
     "data": {
      "text/html": [
       "<div>\n",
       "<style scoped>\n",
       "    .dataframe tbody tr th:only-of-type {\n",
       "        vertical-align: middle;\n",
       "    }\n",
       "\n",
       "    .dataframe tbody tr th {\n",
       "        vertical-align: top;\n",
       "    }\n",
       "\n",
       "    .dataframe thead th {\n",
       "        text-align: right;\n",
       "    }\n",
       "</style>\n",
       "<table border=\"1\" class=\"dataframe\">\n",
       "  <thead>\n",
       "    <tr style=\"text-align: right;\">\n",
       "      <th></th>\n",
       "      <th>input</th>\n",
       "      <th>target</th>\n",
       "    </tr>\n",
       "  </thead>\n",
       "  <tbody>\n",
       "    <tr>\n",
       "      <th>0</th>\n",
       "      <td>16.243454</td>\n",
       "      <td>8803.949866</td>\n",
       "    </tr>\n",
       "    <tr>\n",
       "      <th>1</th>\n",
       "      <td>-6.117564</td>\n",
       "      <td>-657.602516</td>\n",
       "    </tr>\n",
       "    <tr>\n",
       "      <th>2</th>\n",
       "      <td>-5.281718</td>\n",
       "      <td>-210.705031</td>\n",
       "    </tr>\n",
       "  </tbody>\n",
       "</table>\n",
       "</div>"
      ],
      "text/plain": [
       "       input       target\n",
       "0  16.243454  8803.949866\n",
       "1  -6.117564  -657.602516\n",
       "2  -5.281718  -210.705031"
      ]
     },
     "execution_count": 2,
     "metadata": {},
     "output_type": "execute_result"
    }
   ],
   "source": [
    "df = pd.read_csv('model4_dataset.csv') # you may need to edit this path depending on where you saved the data\n",
    "df.head(3)"
   ]
  },
  {
   "cell_type": "markdown",
   "id": "ab895135-ee4d-480f-845c-f63a2d380030",
   "metadata": {},
   "source": [
    "### CONDUCTING AN INITIAL EXPLORATION OF DATA"
   ]
  },
  {
   "cell_type": "code",
   "execution_count": 3,
   "id": "87fe7505-f92b-454e-b08f-94daa21bf395",
   "metadata": {},
   "outputs": [
    {
     "data": {
      "text/plain": [
       "(1000, 2)"
      ]
     },
     "execution_count": 3,
     "metadata": {},
     "output_type": "execute_result"
    }
   ],
   "source": [
    "df.shape "
   ]
  },
  {
   "cell_type": "code",
   "execution_count": 4,
   "id": "48241621-9490-4e2a-a6b9-fe685773311d",
   "metadata": {},
   "outputs": [
    {
     "data": {
      "text/plain": [
       "input     0\n",
       "target    0\n",
       "dtype: int64"
      ]
     },
     "execution_count": 4,
     "metadata": {},
     "output_type": "execute_result"
    }
   ],
   "source": [
    "df.isnull().sum()"
   ]
  },
  {
   "cell_type": "code",
   "execution_count": 5,
   "id": "8b51493a-b9d2-4de7-a783-c69a04cf058f",
   "metadata": {},
   "outputs": [
    {
     "data": {
      "text/plain": [
       "input     float64\n",
       "target    float64\n",
       "dtype: object"
      ]
     },
     "execution_count": 5,
     "metadata": {},
     "output_type": "execute_result"
    }
   ],
   "source": [
    "df.dtypes"
   ]
  },
  {
   "cell_type": "code",
   "execution_count": 6,
   "id": "2ed6db26-619f-4736-946f-d77fd59a964f",
   "metadata": {},
   "outputs": [
    {
     "data": {
      "text/html": [
       "<div>\n",
       "<style scoped>\n",
       "    .dataframe tbody tr th:only-of-type {\n",
       "        vertical-align: middle;\n",
       "    }\n",
       "\n",
       "    .dataframe tbody tr th {\n",
       "        vertical-align: top;\n",
       "    }\n",
       "\n",
       "    .dataframe thead th {\n",
       "        text-align: right;\n",
       "    }\n",
       "</style>\n",
       "<table border=\"1\" class=\"dataframe\">\n",
       "  <thead>\n",
       "    <tr style=\"text-align: right;\">\n",
       "      <th></th>\n",
       "      <th>input</th>\n",
       "      <th>target</th>\n",
       "    </tr>\n",
       "  </thead>\n",
       "  <tbody>\n",
       "    <tr>\n",
       "      <th>count</th>\n",
       "      <td>1000.000000</td>\n",
       "      <td>1000.000000</td>\n",
       "    </tr>\n",
       "    <tr>\n",
       "      <th>mean</th>\n",
       "      <td>0.388125</td>\n",
       "      <td>193.899404</td>\n",
       "    </tr>\n",
       "    <tr>\n",
       "      <th>std</th>\n",
       "      <td>9.814950</td>\n",
       "      <td>8197.207914</td>\n",
       "    </tr>\n",
       "    <tr>\n",
       "      <th>min</th>\n",
       "      <td>-30.537644</td>\n",
       "      <td>-56008.552989</td>\n",
       "    </tr>\n",
       "    <tr>\n",
       "      <th>25%</th>\n",
       "      <td>-6.001604</td>\n",
       "      <td>-395.254172</td>\n",
       "    </tr>\n",
       "    <tr>\n",
       "      <th>50%</th>\n",
       "      <td>0.412926</td>\n",
       "      <td>24.164536</td>\n",
       "    </tr>\n",
       "    <tr>\n",
       "      <th>75%</th>\n",
       "      <td>7.039989</td>\n",
       "      <td>736.823944</td>\n",
       "    </tr>\n",
       "    <tr>\n",
       "      <th>max</th>\n",
       "      <td>39.586027</td>\n",
       "      <td>125615.034876</td>\n",
       "    </tr>\n",
       "  </tbody>\n",
       "</table>\n",
       "</div>"
      ],
      "text/plain": [
       "             input         target\n",
       "count  1000.000000    1000.000000\n",
       "mean      0.388125     193.899404\n",
       "std       9.814950    8197.207914\n",
       "min     -30.537644  -56008.552989\n",
       "25%      -6.001604    -395.254172\n",
       "50%       0.412926      24.164536\n",
       "75%       7.039989     736.823944\n",
       "max      39.586027  125615.034876"
      ]
     },
     "execution_count": 6,
     "metadata": {},
     "output_type": "execute_result"
    }
   ],
   "source": [
    "df.describe()"
   ]
  },
  {
   "cell_type": "markdown",
   "id": "3a4389bc-f61e-4d99-b10a-10132741e8c1",
   "metadata": {},
   "source": [
    "### Incorporate data splitting (cross-validation) to train the model (80/20 split)"
   ]
  },
  {
   "cell_type": "code",
   "execution_count": 7,
   "id": "fb0a1ef0-34ca-4713-a346-4770810d5f91",
   "metadata": {},
   "outputs": [
    {
     "data": {
      "text/plain": [
       "382    -7251.253424\n",
       "994     4414.314652\n",
       "982      129.776296\n",
       "47     19066.376344\n",
       "521     -359.458755\n",
       "           ...     \n",
       "767      -60.344258\n",
       "72       165.028511\n",
       "908    11944.896437\n",
       "235    -3583.404216\n",
       "37       -17.496463\n",
       "Name: target, Length: 800, dtype: float64"
      ]
     },
     "execution_count": 7,
     "metadata": {},
     "output_type": "execute_result"
    }
   ],
   "source": [
    "from sklearn.model_selection import train_test_split\n",
    "\n",
    "X = df[['input']]\n",
    "y = df['target']\n",
    "\n",
    "X_train, X_test, y_train, y_test = train_test_split(X, y, test_size=0.20, random_state=1) # 80% training and 20% test\n",
    "\n",
    "y_train"
   ]
  },
  {
   "cell_type": "markdown",
   "id": "e1149d67-f130-479b-b271-650c9c8bfc71",
   "metadata": {},
   "source": [
    "### SAVING THE TEST AND TRAINING DATA TO CSV FILES"
   ]
  },
  {
   "cell_type": "code",
   "execution_count": 8,
   "id": "5a2f7115-a1c1-446d-9f4c-8e806e4664e6",
   "metadata": {},
   "outputs": [
    {
     "data": {
      "text/html": [
       "<div>\n",
       "<style scoped>\n",
       "    .dataframe tbody tr th:only-of-type {\n",
       "        vertical-align: middle;\n",
       "    }\n",
       "\n",
       "    .dataframe tbody tr th {\n",
       "        vertical-align: top;\n",
       "    }\n",
       "\n",
       "    .dataframe thead th {\n",
       "        text-align: right;\n",
       "    }\n",
       "</style>\n",
       "<table border=\"1\" class=\"dataframe\">\n",
       "  <thead>\n",
       "    <tr style=\"text-align: right;\">\n",
       "      <th></th>\n",
       "      <th>input</th>\n",
       "      <th>target</th>\n",
       "    </tr>\n",
       "  </thead>\n",
       "  <tbody>\n",
       "    <tr>\n",
       "      <th>382</th>\n",
       "      <td>-15.387932</td>\n",
       "      <td>-7251.253424</td>\n",
       "    </tr>\n",
       "    <tr>\n",
       "      <th>994</th>\n",
       "      <td>12.911889</td>\n",
       "      <td>4414.314652</td>\n",
       "    </tr>\n",
       "    <tr>\n",
       "      <th>982</th>\n",
       "      <td>1.751677</td>\n",
       "      <td>129.776296</td>\n",
       "    </tr>\n",
       "  </tbody>\n",
       "</table>\n",
       "</div>"
      ],
      "text/plain": [
       "         input       target\n",
       "382 -15.387932 -7251.253424\n",
       "994  12.911889  4414.314652\n",
       "982   1.751677   129.776296"
      ]
     },
     "execution_count": 8,
     "metadata": {},
     "output_type": "execute_result"
    }
   ],
   "source": [
    "train = X_train.copy() # if you don't use copy(), then the original X_train will be modified when you add the y_train column\n",
    "train['target'] = y_train\n",
    "train.head(3)"
   ]
  },
  {
   "cell_type": "code",
   "execution_count": 9,
   "id": "087dc5f0-0a4d-4e89-b1f9-2ad1d893dadd",
   "metadata": {},
   "outputs": [],
   "source": [
    "train.to_csv('ex_01_train.csv', index=False)"
   ]
  },
  {
   "cell_type": "code",
   "execution_count": 10,
   "id": "540f79ae-88ac-48e9-b8ef-2452809bb870",
   "metadata": {},
   "outputs": [
    {
     "data": {
      "text/html": [
       "<div>\n",
       "<style scoped>\n",
       "    .dataframe tbody tr th:only-of-type {\n",
       "        vertical-align: middle;\n",
       "    }\n",
       "\n",
       "    .dataframe tbody tr th {\n",
       "        vertical-align: top;\n",
       "    }\n",
       "\n",
       "    .dataframe thead th {\n",
       "        text-align: right;\n",
       "    }\n",
       "</style>\n",
       "<table border=\"1\" class=\"dataframe\">\n",
       "  <thead>\n",
       "    <tr style=\"text-align: right;\">\n",
       "      <th></th>\n",
       "      <th>input</th>\n",
       "      <th>target</th>\n",
       "    </tr>\n",
       "  </thead>\n",
       "  <tbody>\n",
       "    <tr>\n",
       "      <th>507</th>\n",
       "      <td>0.896864</td>\n",
       "      <td>-141.859686</td>\n",
       "    </tr>\n",
       "    <tr>\n",
       "      <th>818</th>\n",
       "      <td>-3.260613</td>\n",
       "      <td>87.151159</td>\n",
       "    </tr>\n",
       "    <tr>\n",
       "      <th>452</th>\n",
       "      <td>6.743961</td>\n",
       "      <td>670.791378</td>\n",
       "    </tr>\n",
       "  </tbody>\n",
       "</table>\n",
       "</div>"
      ],
      "text/plain": [
       "        input      target\n",
       "507  0.896864 -141.859686\n",
       "818 -3.260613   87.151159\n",
       "452  6.743961  670.791378"
      ]
     },
     "execution_count": 10,
     "metadata": {},
     "output_type": "execute_result"
    }
   ],
   "source": [
    "test = X_test.copy() # if you don't use copy(), then the original X_test will be modified when you add the y_test column\n",
    "test['target'] = y_test\n",
    "test.head(3)"
   ]
  },
  {
   "cell_type": "code",
   "execution_count": 11,
   "id": "0786448c-9d5b-465b-837b-8c6256f54237",
   "metadata": {},
   "outputs": [],
   "source": [
    "test.to_csv('ex_01_test.csv', index=False)"
   ]
  },
  {
   "cell_type": "markdown",
   "id": "6192b4b6-ccea-4a15-92bc-0ae344eeb5b6",
   "metadata": {},
   "source": [
    "## ANALYSING THE FIT WITH GRADIENT DESCENT MODEL"
   ]
  },
  {
   "cell_type": "markdown",
   "id": "cf2c9910-b4dc-4e8b-aaab-ffbe201f8dc0",
   "metadata": {},
   "source": [
    "### LOADING THE DATA"
   ]
  },
  {
   "cell_type": "code",
   "execution_count": 12,
   "id": "932f3554-85c3-43b2-8495-7366b542b523",
   "metadata": {},
   "outputs": [],
   "source": [
    "train = pd.read_csv(\"ex_01_train.csv\")\n",
    "test = pd.read_csv(\"ex_01_test.csv\")"
   ]
  },
  {
   "cell_type": "code",
   "execution_count": 13,
   "id": "4fabfe14-6a62-4075-89d2-9d7b2ce38f78",
   "metadata": {},
   "outputs": [],
   "source": [
    "target = 'target'\n",
    "predictors = list(train.columns)\n",
    "predictors.remove(target) "
   ]
  },
  {
   "cell_type": "code",
   "execution_count": 14,
   "id": "3f169e81-3fad-4ae7-9c91-e8557892b712",
   "metadata": {},
   "outputs": [
    {
     "name": "stdout",
     "output_type": "stream",
     "text": [
      "['input']\n"
     ]
    }
   ],
   "source": [
    "print(predictors)"
   ]
  },
  {
   "cell_type": "code",
   "execution_count": 15,
   "id": "35e8328a-3c51-4497-a198-e7608198e6a2",
   "metadata": {},
   "outputs": [],
   "source": [
    "# arrrange this data into X_train, X_test, y_train, and y_test...\n",
    "X_train = train[predictors]\n",
    "y_train = train[target]\n",
    "X_test = test[predictors]\n",
    "y_test = test[target]"
   ]
  },
  {
   "cell_type": "code",
   "execution_count": 16,
   "id": "e224bac0-c1e4-47da-bc37-306b782bf54d",
   "metadata": {},
   "outputs": [
    {
     "data": {
      "text/plain": [
       "0      -7251.253424\n",
       "1       4414.314652\n",
       "2        129.776296\n",
       "3      19066.376344\n",
       "4       -359.458755\n",
       "           ...     \n",
       "795      -60.344258\n",
       "796      165.028511\n",
       "797    11944.896437\n",
       "798    -3583.404216\n",
       "799      -17.496463\n",
       "Name: target, Length: 800, dtype: float64"
      ]
     },
     "execution_count": 16,
     "metadata": {},
     "output_type": "execute_result"
    }
   ],
   "source": [
    "y_train"
   ]
  },
  {
   "cell_type": "code",
   "execution_count": 17,
   "id": "9b962435-88f8-4125-b905-d9fdc85543f1",
   "metadata": {},
   "outputs": [],
   "source": [
    "results = pd.DataFrame(y_train, columns=[\"actual\"])\n",
    "\n",
    "rmses = pd.DataFrame({\"model\": [], \"rmse\": []})"
   ]
  },
  {
   "cell_type": "code",
   "execution_count": 18,
   "id": "b86b6a5a-ca39-430e-a45d-53c5a58c05e0",
   "metadata": {},
   "outputs": [
    {
     "name": "stdout",
     "output_type": "stream",
     "text": [
      "Number of iterations = 11\n"
     ]
    }
   ],
   "source": [
    "#Stochastic Gradient Descent:\n",
    "# https://scikit-learn.org/stable/modules/sgd.html\n",
    "# https://scikit-learn.org/stable/modules/generated/sklearn.linear_model.SGDRegressor.html#sklearn.linear_model.SGDRegressor\n",
    "\n",
    "\n",
    "# eta0 = learning rate\n",
    "# max_iter = number of passes over training data (i.e., epochs)\n",
    "\n",
    "sgd_reg = SGDRegressor(max_iter=100, penalty=None, eta0=0.01)\n",
    "sgd_reg.fit(X_train, np.ravel(y_train))\n",
    "\n",
    "print(f\"Number of iterations = {sgd_reg.n_iter_}\")\n",
    "\n",
    "results[\"SGD_preds\"] = sgd_reg.predict(X_train)"
   ]
  },
  {
   "cell_type": "code",
   "execution_count": 19,
   "id": "5b5ee5ec-3f8e-468c-9012-a676e3a2d540",
   "metadata": {},
   "outputs": [
    {
     "name": "stdout",
     "output_type": "stream",
     "text": [
      "SGD Test RMSE: 4333.890\n"
     ]
    }
   ],
   "source": [
    "#SGD Test RMSE\n",
    "SGD_test_pred = sgd_reg.predict(X_test)\n",
    "SGD_test_rmse = np.sqrt(mean_squared_error(y_test, SGD_test_pred))\n",
    "\n",
    "rmses = pd.concat([rmses, pd.DataFrame({'model':\"SGD\", 'rmse': SGD_test_rmse}, index=[0])])\n",
    "\n",
    "print(f\"SGD Test RMSE: {SGD_test_rmse:.3f}\")"
   ]
  },
  {
   "cell_type": "markdown",
   "id": "d58301fe-c869-4aca-ad1f-f041767c4098",
   "metadata": {},
   "source": [
    "## Assessing the impact of L2 regularization on the performance of the SGDRegressor by trying different values for the regularization parameter, alpha (0.0001, 0.001, 0.01)"
   ]
  },
  {
   "cell_type": "markdown",
   "id": "f176db45-532d-4bbb-9c4a-17811ab15b2b",
   "metadata": {},
   "source": [
    "### 1. For alpha = 0.0001"
   ]
  },
  {
   "cell_type": "code",
   "execution_count": 20,
   "id": "dc7ca74e-43da-4067-b60a-1ff6beb6d465",
   "metadata": {},
   "outputs": [
    {
     "name": "stdout",
     "output_type": "stream",
     "text": [
      "Number of iterations = 9\n"
     ]
    }
   ],
   "source": [
    "#Stochastic Gradient with L2 regularization:\n",
    "\n",
    "# eta0 = learning rate\n",
    "# penalty = regularization term\n",
    "# alphe = regularization strength (lambda)\n",
    "# max_iter = number of passes over training data (i.e., epochs)\n",
    "\n",
    "sgd_reg_l2_01 = SGDRegressor(max_iter=100, penalty='l2', alpha = 0.0001, eta0=0.01)\n",
    "_ = sgd_reg_l2_01.fit(X_train, np.ravel(y_train))\n",
    "\n",
    "print(f\"Number of iterations = {sgd_reg_l2_01.n_iter_}\")\n",
    "\n",
    "results[\"SGD_preds_l2_01\"] = sgd_reg_l2_01.predict(X_train)\n"
   ]
  },
  {
   "cell_type": "code",
   "execution_count": 21,
   "id": "efa5cf59-e5e7-4261-8d7f-aa588630cac5",
   "metadata": {},
   "outputs": [
    {
     "name": "stdout",
     "output_type": "stream",
     "text": [
      "SGD Test with l2 RMSE and alpha = 0.0001: 4350.112\n"
     ]
    }
   ],
   "source": [
    "#Train RMSE\n",
    "#SGD Test RMSE\n",
    "SGD_test_pred_l2_01 = sgd_reg_l2_01.predict(X_test)\n",
    "SGD_test_rmse_l2_01 = np.sqrt(mean_squared_error(y_test, SGD_test_pred_l2_01))\n",
    "\n",
    "rmses = pd.concat([rmses, pd.DataFrame({'model':\"SGD L2 with alpha = 0.0001\", 'rmse': SGD_test_rmse_l2_01}, index=[0])])\n",
    "\n",
    "print(f\"SGD Test with l2 RMSE and alpha = 0.0001: {SGD_test_rmse_l2_01:.3f}\")"
   ]
  },
  {
   "cell_type": "markdown",
   "id": "78c50910-d6d5-4d30-9da4-fde569dd3755",
   "metadata": {},
   "source": [
    "### 2. For alpha = 0.001"
   ]
  },
  {
   "cell_type": "code",
   "execution_count": 22,
   "id": "73a55260-1017-4e57-b04d-2f2270294687",
   "metadata": {},
   "outputs": [
    {
     "name": "stdout",
     "output_type": "stream",
     "text": [
      "Number of iterations = 9\n"
     ]
    }
   ],
   "source": [
    "#Stochastic Gradient with L2 regularization:\n",
    "\n",
    "# eta0 = learning rate\n",
    "# penalty = regularization term\n",
    "# alphe = regularization strength (lambda)\n",
    "# max_iter = number of passes over training data (i.e., epochs)\n",
    "\n",
    "sgd_reg_l2_02 = SGDRegressor(max_iter=100, penalty='l2', alpha = 0.01, eta0=0.01)\n",
    "_ = sgd_reg_l2_02.fit(X_train, np.ravel(y_train))\n",
    "\n",
    "print(f\"Number of iterations = {sgd_reg_l2_02.n_iter_}\")\n",
    "\n",
    "results[\"SGD_preds_l2_02\"] = sgd_reg_l2_02.predict(X_train)\n"
   ]
  },
  {
   "cell_type": "code",
   "execution_count": 23,
   "id": "844020bb-e37f-4a1e-aa5a-390744fdf0e4",
   "metadata": {},
   "outputs": [
    {
     "name": "stdout",
     "output_type": "stream",
     "text": [
      "SGD Test with l2 RMSE and alpha = 0.001: 4673.030\n"
     ]
    }
   ],
   "source": [
    "#Train RMSE\n",
    "#SGD Test RMSE\n",
    "SGD_test_pred_l2_02 = sgd_reg_l2_02.predict(X_test)\n",
    "SGD_test_rmse_l2_02 = np.sqrt(mean_squared_error(y_test, SGD_test_pred_l2_02))\n",
    "\n",
    "rmses = pd.concat([rmses, pd.DataFrame({'model':\"SGD L2 with alpha = 0.001\", 'rmse': SGD_test_rmse_l2_02}, index=[0])])\n",
    "\n",
    "print(f\"SGD Test with l2 RMSE and alpha = 0.001: {SGD_test_rmse_l2_02:.3f}\")"
   ]
  },
  {
   "cell_type": "markdown",
   "id": "6b590baf-91bb-4797-9bd7-b9e8be5335e6",
   "metadata": {},
   "source": [
    "### 3. For alpha = 0.01"
   ]
  },
  {
   "cell_type": "code",
   "execution_count": 24,
   "id": "5ad2616f-41ab-4a5e-9a4b-de5fbe81132f",
   "metadata": {},
   "outputs": [
    {
     "name": "stdout",
     "output_type": "stream",
     "text": [
      "Number of iterations = 24\n"
     ]
    }
   ],
   "source": [
    "#Stochastic Gradient with L2 regularization:\n",
    "\n",
    "# eta0 = learning rate\n",
    "# penalty = regularization term\n",
    "# alphe = regularization strength (lambda)\n",
    "# max_iter = number of passes over training data (i.e., epochs)\n",
    "\n",
    "sgd_reg_l2_03 = SGDRegressor(max_iter=100, penalty='l2', alpha = 0.01, eta0=0.01)\n",
    "_ = sgd_reg_l2_03.fit(X_train, np.ravel(y_train))\n",
    "\n",
    "print(f\"Number of iterations = {sgd_reg_l2_03.n_iter_}\")\n",
    "\n",
    "results[\"SGD_preds_l2_03\"] = sgd_reg_l2_03.predict(X_train)\n"
   ]
  },
  {
   "cell_type": "code",
   "execution_count": 25,
   "id": "f83a3202-c832-4234-95c6-de721e11b565",
   "metadata": {},
   "outputs": [
    {
     "name": "stdout",
     "output_type": "stream",
     "text": [
      "SGD Test with l2 RMSE and alpha = 0.01: 4346.933\n"
     ]
    }
   ],
   "source": [
    "#Train RMSE\n",
    "#SGD Test RMSE\n",
    "SGD_test_pred_l2_03 = sgd_reg_l2_03.predict(X_test)\n",
    "SGD_test_rmse_l2_03 = np.sqrt(mean_squared_error(y_test, SGD_test_pred_l2_03))\n",
    "\n",
    "rmses = pd.concat([rmses, pd.DataFrame({'model':\"SGD L2 with alpha = 0.01\", 'rmse': SGD_test_rmse_l2_03}, index=[0])])\n",
    "\n",
    "print(f\"SGD Test with l2 RMSE and alpha = 0.01: {SGD_test_rmse_l2_03:.3f}\")"
   ]
  },
  {
   "cell_type": "markdown",
   "id": "b97503fd-9bfe-43ee-b69a-3c334ed182ca",
   "metadata": {},
   "source": [
    "### RESULTS"
   ]
  },
  {
   "cell_type": "code",
   "execution_count": 26,
   "id": "324dcbdd-8a29-4531-b526-81f0aa986bb7",
   "metadata": {},
   "outputs": [
    {
     "data": {
      "text/html": [
       "<div>\n",
       "<style scoped>\n",
       "    .dataframe tbody tr th:only-of-type {\n",
       "        vertical-align: middle;\n",
       "    }\n",
       "\n",
       "    .dataframe tbody tr th {\n",
       "        vertical-align: top;\n",
       "    }\n",
       "\n",
       "    .dataframe thead th {\n",
       "        text-align: right;\n",
       "    }\n",
       "</style>\n",
       "<table border=\"1\" class=\"dataframe\">\n",
       "  <thead>\n",
       "    <tr style=\"text-align: right;\">\n",
       "      <th></th>\n",
       "      <th>model</th>\n",
       "      <th>rmse</th>\n",
       "    </tr>\n",
       "  </thead>\n",
       "  <tbody>\n",
       "    <tr>\n",
       "      <th>0</th>\n",
       "      <td>SGD</td>\n",
       "      <td>4333.889941</td>\n",
       "    </tr>\n",
       "    <tr>\n",
       "      <th>0</th>\n",
       "      <td>SGD L2 with alpha = 0.01</td>\n",
       "      <td>4346.932623</td>\n",
       "    </tr>\n",
       "    <tr>\n",
       "      <th>0</th>\n",
       "      <td>SGD L2 with alpha = 0.0001</td>\n",
       "      <td>4350.112099</td>\n",
       "    </tr>\n",
       "    <tr>\n",
       "      <th>0</th>\n",
       "      <td>SGD L2 with alpha = 0.001</td>\n",
       "      <td>4673.030094</td>\n",
       "    </tr>\n",
       "  </tbody>\n",
       "</table>\n",
       "</div>"
      ],
      "text/plain": [
       "                        model         rmse\n",
       "0                         SGD  4333.889941\n",
       "0    SGD L2 with alpha = 0.01  4346.932623\n",
       "0  SGD L2 with alpha = 0.0001  4350.112099\n",
       "0   SGD L2 with alpha = 0.001  4673.030094"
      ]
     },
     "execution_count": 26,
     "metadata": {},
     "output_type": "execute_result"
    }
   ],
   "source": [
    "rmses.sort_values(by=['rmse'])"
   ]
  },
  {
   "cell_type": "markdown",
   "id": "7db23d99-2598-4c67-902a-8594da7d9974",
   "metadata": {},
   "source": [
    "### CONCLUSION\n",
    "\n",
    "The RMSE values for different variations of Stochastic Gradient Descent (SGD) using L2 regularization allowed us to perform a comprehensive analysis of how well the SGDRegressor performed after incorporating regularization. Let's discuss the observed performance differences compared to the previous implementation without regularization and evaluate and compare the results obtained using each of the three alpha values (0.0001, 0.001, 0.01). We will also analyze the impact of L2 regularization on the model's ability to generalize and control overfitting or underfitting.\n",
    "\n",
    "1. SGD without regularization (SGD):\n",
    "   - RMSE: 4333.889941\n",
    "   \n",
    "   This model represents the baseline performance of SGD without any regularization. It provides a reference point for evaluating the impact of L2 regularization on the model's performance.\n",
    "\n",
    "2. SGD with L2 regularization (alpha = 0.0001):\n",
    "   - RMSE: 4350.112099\n",
    "   \n",
    "   With a small alpha value (0.0001), the model shows a slightly higher RMSE compared to the baseline SGD model. This suggests that the regularization has a minor impact on the model's performance. However, it also indicates that the regularization parameter might be too small to have a significant effect on preventing overfitting.\n",
    "\n",
    "3. SGD with L2 regularization (alpha = 0.001):\n",
    "   - RMSE: 4673.030094\n",
    "   \n",
    "   Increasing the alpha value to 0.001 further impacts the model's performance, resulting in a higher RMSE compared to both the baseline SGD and the previous alpha value (0.0001). This indicates that the regularization is starting to have a noticeable effect, but it might be introducing some underfitting.\n",
    "\n",
    "4. SGD with L2 regularization (alpha = 0.01):\n",
    "   - RMSE: 4346.932623\n",
    "   \n",
    "   Setting a higher alpha value of 0.01 leads to a similar RMSE as the baseline SGD model. This suggests that the regularization parameter might be too large, causing the model to be overly regularized and lose some predictive power.\n",
    "\n",
    "Finally, the inclusion of L2 regularization introduced a trade-off between bias and variance in the model. A small alpha value (e.g., 0.0001) has a minimal impact on reducing overfitting, but it also has limited effectiveness in improving performance. On the other hand, a larger alpha value (e.g., 0.001) can lead to underfitting by excessively penalizing model complexity. The optimal alpha value depends on the the specific problem at hand, and it requires careful tuning to achieve the best balance between bias and variance.\n",
    "\n",
    "L2 regularization helps to control overfitting by adding a penalty term to the model's loss function based on the squared magnitudes of the model's coefficients. This penalty encourages the model to have smaller coefficients, reducing complexity and making it less prone to overfitting. By setting the regularization parameter too high, it can lead to underfitting, as the model is excessively regularized and loses its ability to capture important patterns in the data.\n",
    "\n",
    "Among the results, it can be observed that the SGD model without L2 regularization (alpha = 0) achieved the lowest RMSE value of 4333.889941. Therefore, the SGD model without regularization performed the best among the models."
   ]
  },
  {
   "cell_type": "code",
   "execution_count": null,
   "id": "aa6a47df-f3cd-4bb7-a46e-7abf0d1703e7",
   "metadata": {},
   "outputs": [],
   "source": []
  }
 ],
 "metadata": {
  "kernelspec": {
   "display_name": "Python 3 (ipykernel)",
   "language": "python",
   "name": "python3"
  },
  "language_info": {
   "codemirror_mode": {
    "name": "ipython",
    "version": 3
   },
   "file_extension": ".py",
   "mimetype": "text/x-python",
   "name": "python",
   "nbconvert_exporter": "python",
   "pygments_lexer": "ipython3",
   "version": "3.9.16"
  }
 },
 "nbformat": 4,
 "nbformat_minor": 5
}
